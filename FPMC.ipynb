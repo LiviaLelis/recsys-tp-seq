{
 "cells": [
  {
   "cell_type": "code",
   "execution_count": null,
   "metadata": {},
   "outputs": [],
   "source": [
    "import os\n",
    "import sys\n",
    "import copy\n",
    "import time\n",
    "import random\n",
    "from datetime import timedelta, datetime\n",
    "\n",
    "import numpy as np\n",
    "import polars as pl\n",
    "import plotly.graph_objects as go\n",
    "\n",
    "from tqdm.notebook import tqdm\n",
    "from IPython.display import display\n",
    "from ipywidgets.widgets import HBox\n",
    "\n",
    "import torch\n",
    "from torch import nn, optim, cuda\n",
    "from torch.utils.data import DataLoader, Dataset"
   ]
  },
  {
   "cell_type": "code",
   "execution_count": 2,
   "metadata": {
    "ExecuteTime": {
     "end_time": "2024-11-27T06:17:50.493822Z",
     "start_time": "2024-11-27T06:17:50.491338Z"
    }
   },
   "outputs": [],
   "source": [
    "ROOT_PATH = './'\n",
    "DRIVE_PATH = 'Colab/RecSys-TP'\n",
    "\n",
    "# When on Colab, use Google Drive as the root path to persist and load data\n",
    "if 'google.colab' in sys.modules:\n",
    "    from google.colab import drive, output\n",
    "\n",
    "    output.enable_custom_widget_manager()\n",
    "\n",
    "    drive.mount('/content/drive')\n",
    "    ROOT_PATH = os.path.join('/content/drive/My Drive/', DRIVE_PATH)\n",
    "    os.makedirs(ROOT_PATH, exist_ok=True)\n",
    "    os.chdir(ROOT_PATH)"
   ]
  },
  {
   "cell_type": "code",
   "execution_count": 3,
   "metadata": {
    "ExecuteTime": {
     "end_time": "2024-11-27T06:17:50.630098Z",
     "start_time": "2024-11-27T06:17:50.606662Z"
    }
   },
   "outputs": [
    {
     "name": "stdout",
     "output_type": "stream",
     "text": [
      "Using cuda device for PyTorch\n"
     ]
    }
   ],
   "source": [
    "\n",
    "RANDOM_SEED = 1984\n",
    "\n",
    "BATCH_SIZE = 1024\n",
    "K_UI = 64\n",
    "K_IL = 64\n",
    "\n",
    "TOTAL_EPOCHS = 50\n",
    "\n",
    "BETA_1 = 0.9\n",
    "BETA_2 = 0.999\n",
    "EPS = 1e-8\n",
    "AMSGRAD = False\n",
    "WEIGHT_DECAY = 0.01\n",
    "\n",
    "WARMUP_RATIO = 0.05\n",
    "# LEARNING_RATE = 0.04\n",
    "# USE_SCHEDULER = True\n",
    "\n",
    "LEARNING_RATE = 0.005\n",
    "USE_SCHEDULER = False\n",
    "\n",
    "EVAL_K = 10\n",
    "\n",
    "PYTORCH_DEVICE = 'cpu'\n",
    "\n",
    "# Use NVIDIA GPU if available\n",
    "if cuda.is_available():\n",
    "    PYTORCH_DEVICE = 'cuda'\n",
    "\n",
    "# Use Apple Metal backend if available\n",
    "if torch.backends.mps.is_available():\n",
    "    if not torch.backends.mps.is_built():\n",
    "        print(\"Your device supports MPS but it is not installed. Checkout https://developer.apple.com/metal/pytorch/\")\n",
    "    else:\n",
    "        PYTORCH_DEVICE = 'mps'\n",
    "\n",
    "print(f\"Using {PYTORCH_DEVICE} device for PyTorch\")"
   ]
  },
  {
   "cell_type": "code",
   "execution_count": 4,
   "metadata": {
    "ExecuteTime": {
     "end_time": "2024-11-27T06:17:50.659716Z",
     "start_time": "2024-11-27T06:17:50.641183Z"
    }
   },
   "outputs": [],
   "source": [
    "\n",
    "random.seed(RANDOM_SEED)\n",
    "np.random.seed(RANDOM_SEED)\n",
    "torch.manual_seed(RANDOM_SEED)\n",
    "torch.mps.manual_seed(RANDOM_SEED)\n",
    "torch.cuda.manual_seed_all(RANDOM_SEED)\n",
    "torch.backends.cudnn.deterministic = True\n",
    "torch.backends.cudnn.benchmark = False"
   ]
  },
  {
   "cell_type": "code",
   "execution_count": 5,
   "metadata": {
    "ExecuteTime": {
     "end_time": "2024-11-27T06:17:55.863262Z",
     "start_time": "2024-11-27T06:17:50.666508Z"
    }
   },
   "outputs": [
    {
     "data": {
      "text/html": [
       "<div><style>\n",
       ".dataframe > thead > tr,\n",
       ".dataframe > tbody > tr {\n",
       "  text-align: right;\n",
       "  white-space: pre-wrap;\n",
       "}\n",
       "</style>\n",
       "<small>shape: (10, 5)</small><table border=\"1\" class=\"dataframe\"><thead><tr><th>user_id</th><th>gender</th><th>age</th><th>country</th><th>registered</th></tr><tr><td>str</td><td>str</td><td>i64</td><td>str</td><td>str</td></tr></thead><tbody><tr><td>&quot;user_000809&quot;</td><td>&quot;m&quot;</td><td>null</td><td>&quot;Finland&quot;</td><td>&quot;Jun&nbsp;8,&nbsp;2005&quot;</td></tr><tr><td>&quot;user_000112&quot;</td><td>&quot;f&quot;</td><td>30</td><td>&quot;Turkey&quot;</td><td>&quot;Mar&nbsp;25,&nbsp;2006&quot;</td></tr><tr><td>&quot;user_000086&quot;</td><td>&quot;f&quot;</td><td>27</td><td>null</td><td>&quot;Sep&nbsp;21,&nbsp;2007&quot;</td></tr><tr><td>&quot;user_000403&quot;</td><td>&quot;f&quot;</td><td>null</td><td>&quot;United&nbsp;States&quot;</td><td>&quot;May&nbsp;17,&nbsp;2006&quot;</td></tr><tr><td>&quot;user_000863&quot;</td><td>null</td><td>null</td><td>&quot;United&nbsp;Kingdom&quot;</td><td>&quot;Oct&nbsp;15,&nbsp;2004&quot;</td></tr><tr><td>&quot;user_000720&quot;</td><td>&quot;f&quot;</td><td>null</td><td>&quot;Norway&quot;</td><td>&quot;Jun&nbsp;29,&nbsp;2007&quot;</td></tr><tr><td>&quot;user_000985&quot;</td><td>&quot;f&quot;</td><td>null</td><td>&quot;Australia&quot;</td><td>&quot;May&nbsp;22,&nbsp;2006&quot;</td></tr><tr><td>&quot;user_000487&quot;</td><td>&quot;m&quot;</td><td>null</td><td>&quot;Netherlands&quot;</td><td>&quot;Mar&nbsp;8,&nbsp;2006&quot;</td></tr><tr><td>&quot;user_000049&quot;</td><td>null</td><td>null</td><td>null</td><td>&quot;Jan&nbsp;11,&nbsp;2006&quot;</td></tr><tr><td>&quot;user_000184&quot;</td><td>&quot;f&quot;</td><td>23</td><td>&quot;Canada&quot;</td><td>&quot;Jun&nbsp;3,&nbsp;2006&quot;</td></tr></tbody></table></div>"
      ],
      "text/plain": [
       "shape: (10, 5)\n",
       "┌─────────────┬────────┬──────┬────────────────┬──────────────┐\n",
       "│ user_id     ┆ gender ┆ age  ┆ country        ┆ registered   │\n",
       "│ ---         ┆ ---    ┆ ---  ┆ ---            ┆ ---          │\n",
       "│ str         ┆ str    ┆ i64  ┆ str            ┆ str          │\n",
       "╞═════════════╪════════╪══════╪════════════════╪══════════════╡\n",
       "│ user_000809 ┆ m      ┆ null ┆ Finland        ┆ Jun 8, 2005  │\n",
       "│ user_000112 ┆ f      ┆ 30   ┆ Turkey         ┆ Mar 25, 2006 │\n",
       "│ user_000086 ┆ f      ┆ 27   ┆ null           ┆ Sep 21, 2007 │\n",
       "│ user_000403 ┆ f      ┆ null ┆ United States  ┆ May 17, 2006 │\n",
       "│ user_000863 ┆ null   ┆ null ┆ United Kingdom ┆ Oct 15, 2004 │\n",
       "│ user_000720 ┆ f      ┆ null ┆ Norway         ┆ Jun 29, 2007 │\n",
       "│ user_000985 ┆ f      ┆ null ┆ Australia      ┆ May 22, 2006 │\n",
       "│ user_000487 ┆ m      ┆ null ┆ Netherlands    ┆ Mar 8, 2006  │\n",
       "│ user_000049 ┆ null   ┆ null ┆ null           ┆ Jan 11, 2006 │\n",
       "│ user_000184 ┆ f      ┆ 23   ┆ Canada         ┆ Jun 3, 2006  │\n",
       "└─────────────┴────────┴──────┴────────────────┴──────────────┘"
      ]
     },
     "metadata": {},
     "output_type": "display_data"
    },
    {
     "data": {
      "text/html": [
       "<div><style>\n",
       ".dataframe > thead > tr,\n",
       ".dataframe > tbody > tr {\n",
       "  text-align: right;\n",
       "  white-space: pre-wrap;\n",
       "}\n",
       "</style>\n",
       "<small>shape: (10, 6)</small><table border=\"1\" class=\"dataframe\"><thead><tr><th>user_id</th><th>timestamp</th><th>artist_id</th><th>artist_name</th><th>track_id</th><th>track_name</th></tr><tr><td>str</td><td>str</td><td>str</td><td>str</td><td>str</td><td>str</td></tr></thead><tbody><tr><td>&quot;user_000806&quot;</td><td>&quot;2008-08-09T19:28:14Z&quot;</td><td>&quot;fc61dd75-880b-44ba-9ba9-c7b643…</td><td>&quot;Prefuse&nbsp;73&quot;</td><td>&quot;60f3a1c9-e756-4a48-8a3e-c44140…</td><td>&quot;Altoid&nbsp;Addiction&nbsp;(Interlude)&quot;</td></tr><tr><td>&quot;user_000108&quot;</td><td>&quot;2007-12-19T17:14:42Z&quot;</td><td>&quot;6ae51665-8261-4ae5-883f-189965…</td><td>&quot;Filter&quot;</td><td>&quot;784f24f6-6fa7-44e7-81a5-a7b592…</td><td>&quot;The&nbsp;Best&nbsp;Things&quot;</td></tr><tr><td>&quot;user_000079&quot;</td><td>&quot;2008-12-01T00:09:19Z&quot;</td><td>&quot;48896dee-a985-424d-9849-84802f…</td><td>&quot;Johnny&nbsp;Mathis&quot;</td><td>&quot;e77a742f-eb2c-417c-9b48-45e404…</td><td>&quot;Can&#x27;T&nbsp;Get&nbsp;Out&nbsp;Of&nbsp;This&nbsp;Mood&quot;</td></tr><tr><td>&quot;user_000407&quot;</td><td>&quot;2008-05-20T15:37:40Z&quot;</td><td>&quot;8bfac288-ccc5-448d-9573-c33ea2…</td><td>&quot;Red&nbsp;Hot&nbsp;Chili&nbsp;Peppers&quot;</td><td>&quot;7a3e8796-a0b3-4999-b268-4e2d47…</td><td>&quot;Otherside&quot;</td></tr><tr><td>&quot;user_000861&quot;</td><td>&quot;2008-02-12T22:25:17Z&quot;</td><td>&quot;31aa6f87-8d00-4ae9-a5cc-6d7eee…</td><td>&quot;Alphaville&quot;</td><td>&quot;f11939cf-9ad1-45b8-b927-a89b00…</td><td>&quot;Big&nbsp;In&nbsp;Japan&quot;</td></tr><tr><td>&quot;user_000728&quot;</td><td>&quot;2009-05-21T19:04:24Z&quot;</td><td>&quot;41c86965-305a-482d-bc1e-2daeca…</td><td>&quot;Skankfunk&quot;</td><td>&quot;e48c9ed7-34ac-44aa-ab5a-3d792a…</td><td>&quot;Melo-Pole&quot;</td></tr><tr><td>&quot;user_000990&quot;</td><td>&quot;2009-03-31T10:20:28Z&quot;</td><td>&quot;1bc69a93-8020-4e07-8b05-0b6331…</td><td>&quot;The&nbsp;Cliks&quot;</td><td>&quot;f89ba590-0226-4c65-b5c5-4b69ee…</td><td>&quot;Complicated&quot;</td></tr><tr><td>&quot;user_000174&quot;</td><td>&quot;2005-05-03T18:42:12Z&quot;</td><td>&quot;fc178247-53b6-4702-ad77-546cb0…</td><td>&quot;The&nbsp;Exposures&quot;</td><td>&quot;b222a53c-3168-43e5-a40d-65e95a…</td><td>&quot;Sake&nbsp;Rock&quot;</td></tr><tr><td>&quot;user_000412&quot;</td><td>&quot;2005-11-04T22:08:08Z&quot;</td><td>&quot;86e736b4-93e2-40ff-9e1c-fb7c63…</td><td>&quot;Barenaked&nbsp;Ladies&quot;</td><td>&quot;05b34070-535a-4b92-aa9b-ecb97c…</td><td>&quot;Call&nbsp;And&nbsp;Answer&quot;</td></tr><tr><td>&quot;user_000112&quot;</td><td>&quot;2007-12-11T01:00:05Z&quot;</td><td>&quot;fc63a914-272d-4b95-9221-61adcc…</td><td>&quot;Gal&nbsp;Costa&quot;</td><td>&quot;08345bf4-f7b1-40ff-98c3-21b34c…</td><td>&quot;Estrada&nbsp;Do&nbsp;Sol&quot;</td></tr></tbody></table></div>"
      ],
      "text/plain": [
       "shape: (10, 6)\n",
       "┌─────────────┬────────────────┬────────────────┬────────────────┬────────────────┬────────────────┐\n",
       "│ user_id     ┆ timestamp      ┆ artist_id      ┆ artist_name    ┆ track_id       ┆ track_name     │\n",
       "│ ---         ┆ ---            ┆ ---            ┆ ---            ┆ ---            ┆ ---            │\n",
       "│ str         ┆ str            ┆ str            ┆ str            ┆ str            ┆ str            │\n",
       "╞═════════════╪════════════════╪════════════════╪════════════════╪════════════════╪════════════════╡\n",
       "│ user_000806 ┆ 2008-08-09T19: ┆ fc61dd75-880b- ┆ Prefuse 73     ┆ 60f3a1c9-e756- ┆ Altoid         │\n",
       "│             ┆ 28:14Z         ┆ 44ba-9ba9-c7b6 ┆                ┆ 4a48-8a3e-c441 ┆ Addiction      │\n",
       "│             ┆                ┆ 43…            ┆                ┆ 40…            ┆ (Interlude)    │\n",
       "│ user_000108 ┆ 2007-12-19T17: ┆ 6ae51665-8261- ┆ Filter         ┆ 784f24f6-6fa7- ┆ The Best       │\n",
       "│             ┆ 14:42Z         ┆ 4ae5-883f-1899 ┆                ┆ 44e7-81a5-a7b5 ┆ Things         │\n",
       "│             ┆                ┆ 65…            ┆                ┆ 92…            ┆                │\n",
       "│ user_000079 ┆ 2008-12-01T00: ┆ 48896dee-a985- ┆ Johnny Mathis  ┆ e77a742f-eb2c- ┆ Can'T Get Out  │\n",
       "│             ┆ 09:19Z         ┆ 424d-9849-8480 ┆                ┆ 417c-9b48-45e4 ┆ Of This Mood   │\n",
       "│             ┆                ┆ 2f…            ┆                ┆ 04…            ┆                │\n",
       "│ user_000407 ┆ 2008-05-20T15: ┆ 8bfac288-ccc5- ┆ Red Hot Chili  ┆ 7a3e8796-a0b3- ┆ Otherside      │\n",
       "│             ┆ 37:40Z         ┆ 448d-9573-c33e ┆ Peppers        ┆ 4999-b268-4e2d ┆                │\n",
       "│             ┆                ┆ a2…            ┆                ┆ 47…            ┆                │\n",
       "│ user_000861 ┆ 2008-02-12T22: ┆ 31aa6f87-8d00- ┆ Alphaville     ┆ f11939cf-9ad1- ┆ Big In Japan   │\n",
       "│             ┆ 25:17Z         ┆ 4ae9-a5cc-6d7e ┆                ┆ 45b8-b927-a89b ┆                │\n",
       "│             ┆                ┆ ee…            ┆                ┆ 00…            ┆                │\n",
       "│ user_000728 ┆ 2009-05-21T19: ┆ 41c86965-305a- ┆ Skankfunk      ┆ e48c9ed7-34ac- ┆ Melo-Pole      │\n",
       "│             ┆ 04:24Z         ┆ 482d-bc1e-2dae ┆                ┆ 44aa-ab5a-3d79 ┆                │\n",
       "│             ┆                ┆ ca…            ┆                ┆ 2a…            ┆                │\n",
       "│ user_000990 ┆ 2009-03-31T10: ┆ 1bc69a93-8020- ┆ The Cliks      ┆ f89ba590-0226- ┆ Complicated    │\n",
       "│             ┆ 20:28Z         ┆ 4e07-8b05-0b63 ┆                ┆ 4c65-b5c5-4b69 ┆                │\n",
       "│             ┆                ┆ 31…            ┆                ┆ ee…            ┆                │\n",
       "│ user_000174 ┆ 2005-05-03T18: ┆ fc178247-53b6- ┆ The Exposures  ┆ b222a53c-3168- ┆ Sake Rock      │\n",
       "│             ┆ 42:12Z         ┆ 4702-ad77-546c ┆                ┆ 43e5-a40d-65e9 ┆                │\n",
       "│             ┆                ┆ b0…            ┆                ┆ 5a…            ┆                │\n",
       "│ user_000412 ┆ 2005-11-04T22: ┆ 86e736b4-93e2- ┆ Barenaked      ┆ 05b34070-535a- ┆ Call And       │\n",
       "│             ┆ 08:08Z         ┆ 40ff-9e1c-fb7c ┆ Ladies         ┆ 4b92-aa9b-ecb9 ┆ Answer         │\n",
       "│             ┆                ┆ 63…            ┆                ┆ 7c…            ┆                │\n",
       "│ user_000112 ┆ 2007-12-11T01: ┆ fc63a914-272d- ┆ Gal Costa      ┆ 08345bf4-f7b1- ┆ Estrada Do Sol │\n",
       "│             ┆ 00:05Z         ┆ 4b95-9221-61ad ┆                ┆ 40ff-98c3-21b3 ┆                │\n",
       "│             ┆                ┆ cc…            ┆                ┆ 4c…            ┆                │\n",
       "└─────────────┴────────────────┴────────────────┴────────────────┴────────────────┴────────────────┘"
      ]
     },
     "metadata": {},
     "output_type": "display_data"
    }
   ],
   "source": [
    "# Carrega os dados do dataset (http://ocelma.net/MusicRecommendationDataset/lastfm-1K.html)\n",
    "user_profiles = pl.read_csv(\"./data/lastfm-dataset-1K/userid-profile.tsv\", separator=\"\\t\")\n",
    "user_interactions = pl.read_csv(\"./data/lastfm-dataset-1K/userid-timestamp-artid-artname-traid-traname.tsv\",\n",
    "                                separator=\"\\t\", has_header=False, quote_char=None)\n",
    "\n",
    "# Renomeia as colunas\n",
    "user_profiles.columns = [\"user_id\", \"gender\", \"age\", \"country\", \"registered\"]\n",
    "user_interactions.columns = [\"user_id\", \"timestamp\", \"artist_id\", \"artist_name\", \"track_id\", \"track_name\"]\n",
    "\n",
    "# Descarta linhas com valores nulos nas iterações\n",
    "user_interactions = user_interactions.drop_nulls()\n",
    "\n",
    "display(user_profiles.sample(10, seed=RANDOM_SEED))\n",
    "display(user_interactions.sample(10, seed=RANDOM_SEED))"
   ]
  },
  {
   "cell_type": "code",
   "execution_count": 6,
   "metadata": {
    "ExecuteTime": {
     "end_time": "2024-11-27T06:18:00.306055Z",
     "start_time": "2024-11-27T06:17:55.871541Z"
    }
   },
   "outputs": [
    {
     "data": {
      "text/html": [
       "<div><style>\n",
       ".dataframe > thead > tr,\n",
       ".dataframe > tbody > tr {\n",
       "  text-align: right;\n",
       "  white-space: pre-wrap;\n",
       "}\n",
       "</style>\n",
       "<small>shape: (10, 3)</small><table border=\"1\" class=\"dataframe\"><thead><tr><th>uid</th><th>iid</th><th>ts</th></tr><tr><td>i64</td><td>i64</td><td>datetime[μs]</td></tr></thead><tbody><tr><td>1</td><td>570357</td><td>2007-01-23&nbsp;23:42:33</td></tr><tr><td>1</td><td>783400</td><td>2007-09-29&nbsp;21:23:06</td></tr><tr><td>2</td><td>853295</td><td>2008-10-26&nbsp;19:02:07</td></tr><tr><td>2</td><td>908835</td><td>2008-10-26&nbsp;19:05:03</td></tr><tr><td>2</td><td>630316</td><td>2008-10-26&nbsp;19:06:35</td></tr><tr><td>2</td><td>807123</td><td>2008-10-26&nbsp;19:10:18</td></tr><tr><td>2</td><td>102945</td><td>2008-10-26&nbsp;19:15:14</td></tr><tr><td>2</td><td>627368</td><td>2008-10-26&nbsp;19:17:24</td></tr><tr><td>2</td><td>846988</td><td>2008-10-26&nbsp;19:20:19</td></tr><tr><td>2</td><td>567742</td><td>2008-10-26&nbsp;19:24:56</td></tr></tbody></table></div>"
      ],
      "text/plain": [
       "shape: (10, 3)\n",
       "┌─────┬────────┬─────────────────────┐\n",
       "│ uid ┆ iid    ┆ ts                  │\n",
       "│ --- ┆ ---    ┆ ---                 │\n",
       "│ i64 ┆ i64    ┆ datetime[μs]        │\n",
       "╞═════╪════════╪═════════════════════╡\n",
       "│ 1   ┆ 570357 ┆ 2007-01-23 23:42:33 │\n",
       "│ 1   ┆ 783400 ┆ 2007-09-29 21:23:06 │\n",
       "│ 2   ┆ 853295 ┆ 2008-10-26 19:02:07 │\n",
       "│ 2   ┆ 908835 ┆ 2008-10-26 19:05:03 │\n",
       "│ 2   ┆ 630316 ┆ 2008-10-26 19:06:35 │\n",
       "│ 2   ┆ 807123 ┆ 2008-10-26 19:10:18 │\n",
       "│ 2   ┆ 102945 ┆ 2008-10-26 19:15:14 │\n",
       "│ 2   ┆ 627368 ┆ 2008-10-26 19:17:24 │\n",
       "│ 2   ┆ 846988 ┆ 2008-10-26 19:20:19 │\n",
       "│ 2   ┆ 567742 ┆ 2008-10-26 19:24:56 │\n",
       "└─────┴────────┴─────────────────────┘"
      ]
     },
     "metadata": {},
     "output_type": "display_data"
    }
   ],
   "source": [
    "# Cria um mapeamento dos IDs para números\n",
    "item_ids = user_interactions['track_id'].unique().to_list()\n",
    "user_ids = user_interactions['user_id'].unique().to_list()\n",
    "\n",
    "item_id_index = {id: i + 1 for i, id in enumerate(item_ids)}\n",
    "item_id_index_rev = {v: k for k, v in item_id_index.items()}\n",
    "\n",
    "user_id_index = {id: i + 1 for i, id in enumerate(user_ids)}\n",
    "user_id_index_rev = {v: k for k, v in user_id_index.items()}\n",
    "\n",
    "# Aplica as transformações no dataframe\n",
    "dataset = user_interactions.select(\n",
    "    pl.col('user_id').replace_strict(user_id_index).alias('uid'),\n",
    "    pl.col('track_id').replace_strict(item_id_index).alias('iid'),\n",
    "    pl.col('timestamp').cast(pl.Datetime).alias('ts')\n",
    ").sort('uid', 'ts')\n",
    "\n",
    "max_uid = dataset['uid'].max()\n",
    "max_iid = dataset['iid'].max()\n",
    "\n",
    "display(dataset.head(10))"
   ]
  },
  {
   "cell_type": "code",
   "execution_count": 7,
   "metadata": {
    "ExecuteTime": {
     "end_time": "2024-11-27T06:18:01.179400Z",
     "start_time": "2024-11-27T06:18:00.732445Z"
    }
   },
   "outputs": [
    {
     "data": {
      "text/html": [
       "<div><style>\n",
       ".dataframe > thead > tr,\n",
       ".dataframe > tbody > tr {\n",
       "  text-align: right;\n",
       "  white-space: pre-wrap;\n",
       "}\n",
       "</style>\n",
       "<small>shape: (16_982_280, 4)</small><table border=\"1\" class=\"dataframe\"><thead><tr><th>uid</th><th>iid</th><th>ts</th><th>sid</th></tr><tr><td>i64</td><td>i64</td><td>datetime[μs]</td><td>u32</td></tr></thead><tbody><tr><td>1</td><td>570357</td><td>2007-01-23&nbsp;23:42:33</td><td>1</td></tr><tr><td>1</td><td>783400</td><td>2007-09-29&nbsp;21:23:06</td><td>2</td></tr><tr><td>2</td><td>853295</td><td>2008-10-26&nbsp;19:02:07</td><td>3</td></tr><tr><td>2</td><td>908835</td><td>2008-10-26&nbsp;19:05:03</td><td>3</td></tr><tr><td>2</td><td>630316</td><td>2008-10-26&nbsp;19:06:35</td><td>3</td></tr><tr><td>&hellip;</td><td>&hellip;</td><td>&hellip;</td><td>&hellip;</td></tr><tr><td>992</td><td>761668</td><td>2009-02-25&nbsp;03:11:06</td><td>899896</td></tr><tr><td>992</td><td>39072</td><td>2009-02-25&nbsp;03:24:43</td><td>899896</td></tr><tr><td>992</td><td>684383</td><td>2009-04-26&nbsp;18:19:39</td><td>899897</td></tr><tr><td>992</td><td>532895</td><td>2009-04-26&nbsp;18:20:41</td><td>899897</td></tr><tr><td>992</td><td>541408</td><td>2009-04-28&nbsp;03:31:10</td><td>899898</td></tr></tbody></table></div>"
      ],
      "text/plain": [
       "shape: (16_982_280, 4)\n",
       "┌─────┬────────┬─────────────────────┬────────┐\n",
       "│ uid ┆ iid    ┆ ts                  ┆ sid    │\n",
       "│ --- ┆ ---    ┆ ---                 ┆ ---    │\n",
       "│ i64 ┆ i64    ┆ datetime[μs]        ┆ u32    │\n",
       "╞═════╪════════╪═════════════════════╪════════╡\n",
       "│ 1   ┆ 570357 ┆ 2007-01-23 23:42:33 ┆ 1      │\n",
       "│ 1   ┆ 783400 ┆ 2007-09-29 21:23:06 ┆ 2      │\n",
       "│ 2   ┆ 853295 ┆ 2008-10-26 19:02:07 ┆ 3      │\n",
       "│ 2   ┆ 908835 ┆ 2008-10-26 19:05:03 ┆ 3      │\n",
       "│ 2   ┆ 630316 ┆ 2008-10-26 19:06:35 ┆ 3      │\n",
       "│ …   ┆ …      ┆ …                   ┆ …      │\n",
       "│ 992 ┆ 761668 ┆ 2009-02-25 03:11:06 ┆ 899896 │\n",
       "│ 992 ┆ 39072  ┆ 2009-02-25 03:24:43 ┆ 899896 │\n",
       "│ 992 ┆ 684383 ┆ 2009-04-26 18:19:39 ┆ 899897 │\n",
       "│ 992 ┆ 532895 ┆ 2009-04-26 18:20:41 ┆ 899897 │\n",
       "│ 992 ┆ 541408 ┆ 2009-04-28 03:31:10 ┆ 899898 │\n",
       "└─────┴────────┴─────────────────────┴────────┘"
      ]
     },
     "metadata": {},
     "output_type": "display_data"
    }
   ],
   "source": [
    "threshold = timedelta(minutes=30)\n",
    "\n",
    "# Marca cada música como se ela representa ou não o início de uma nova sessão\n",
    "new_session_col = dataset.group_by('uid') \\\n",
    "    .agg(\n",
    "    # Separa por usuário (uma sessão é de um usuário)\n",
    "    pl.col('iid'),\n",
    "\n",
    "    # Computa a diferença entre a música atual e a anterior, se essa \n",
    "    # diferença for nula ou maior igual ao nosso limite de tempo,\n",
    "    # então é um início de sessão.\n",
    "    (pl.col('ts').diff().fill_null(threshold) >= threshold).alias('start'),\n",
    "    # Expande as duas listas simultaneamente para que voltemos ao formato inicial\n",
    ").explode('iid', 'start')['start']\n",
    "\n",
    "# Agora, para criar um id para cada sessão, vamos usar a função cum_sum (isso \n",
    "# funciona pois nossos dados estão ordenados por usuário e timestamp, \n",
    "# respectivamente)\n",
    "dataset_with_session = dataset.with_columns(new_session_col.cum_sum().alias('sid'))\n",
    "\n",
    "display(dataset_with_session)"
   ]
  },
  {
   "cell_type": "code",
   "execution_count": 8,
   "metadata": {
    "ExecuteTime": {
     "end_time": "2024-11-27T06:18:02.034685Z",
     "start_time": "2024-11-27T06:18:01.579343Z"
    }
   },
   "outputs": [
    {
     "data": {
      "text/html": [
       "<div><style>\n",
       ".dataframe > thead > tr,\n",
       ".dataframe > tbody > tr {\n",
       "  text-align: right;\n",
       "  white-space: pre-wrap;\n",
       "}\n",
       "</style>\n",
       "<small>shape: (5, 3)</small><table border=\"1\" class=\"dataframe\"><thead><tr><th>sid</th><th>uid</th><th>iids</th></tr><tr><td>u32</td><td>i64</td><td>list[i64]</td></tr></thead><tbody><tr><td>17069</td><td>20</td><td>[416165,&nbsp;692840,&nbsp;443780]</td></tr><tr><td>306335</td><td>340</td><td>[528791,&nbsp;761245,&nbsp;…&nbsp;31978]</td></tr><tr><td>462690</td><td>515</td><td>[652788]</td></tr><tr><td>764787</td><td>857</td><td>[389473,&nbsp;102561,&nbsp;…&nbsp;78345]</td></tr><tr><td>814871</td><td>918</td><td>[45780,&nbsp;243086,&nbsp;…&nbsp;610623]</td></tr></tbody></table></div>"
      ],
      "text/plain": [
       "shape: (5, 3)\n",
       "┌────────┬─────┬───────────────────────────┐\n",
       "│ sid    ┆ uid ┆ iids                      │\n",
       "│ ---    ┆ --- ┆ ---                       │\n",
       "│ u32    ┆ i64 ┆ list[i64]                 │\n",
       "╞════════╪═════╪═══════════════════════════╡\n",
       "│ 17069  ┆ 20  ┆ [416165, 692840, 443780]  │\n",
       "│ 306335 ┆ 340 ┆ [528791, 761245, … 31978] │\n",
       "│ 462690 ┆ 515 ┆ [652788]                  │\n",
       "│ 764787 ┆ 857 ┆ [389473, 102561, … 78345] │\n",
       "│ 814871 ┆ 918 ┆ [45780, 243086, … 610623] │\n",
       "└────────┴─────┴───────────────────────────┘"
      ]
     },
     "metadata": {},
     "output_type": "display_data"
    },
    {
     "data": {
      "text/html": [
       "<div><style>\n",
       ".dataframe > thead > tr,\n",
       ".dataframe > tbody > tr {\n",
       "  text-align: right;\n",
       "  white-space: pre-wrap;\n",
       "}\n",
       "</style>\n",
       "<small>shape: (9, 2)</small><table border=\"1\" class=\"dataframe\"><thead><tr><th>statistic</th><th>value</th></tr><tr><td>str</td><td>f64</td></tr></thead><tbody><tr><td>&quot;count&quot;</td><td>899898.0</td></tr><tr><td>&quot;null_count&quot;</td><td>0.0</td></tr><tr><td>&quot;mean&quot;</td><td>18.871339</td></tr><tr><td>&quot;std&quot;</td><td>43.066011</td></tr><tr><td>&quot;min&quot;</td><td>1.0</td></tr><tr><td>&quot;25%&quot;</td><td>3.0</td></tr><tr><td>&quot;50%&quot;</td><td>9.0</td></tr><tr><td>&quot;75%&quot;</td><td>21.0</td></tr><tr><td>&quot;max&quot;</td><td>5435.0</td></tr></tbody></table></div>"
      ],
      "text/plain": [
       "shape: (9, 2)\n",
       "┌────────────┬───────────┐\n",
       "│ statistic  ┆ value     │\n",
       "│ ---        ┆ ---       │\n",
       "│ str        ┆ f64       │\n",
       "╞════════════╪═══════════╡\n",
       "│ count      ┆ 899898.0  │\n",
       "│ null_count ┆ 0.0       │\n",
       "│ mean       ┆ 18.871339 │\n",
       "│ std        ┆ 43.066011 │\n",
       "│ min        ┆ 1.0       │\n",
       "│ 25%        ┆ 3.0       │\n",
       "│ 50%        ┆ 9.0       │\n",
       "│ 75%        ┆ 21.0      │\n",
       "│ max        ┆ 5435.0    │\n",
       "└────────────┴───────────┘"
      ]
     },
     "metadata": {},
     "output_type": "display_data"
    }
   ],
   "source": [
    "# Agrupa as reproduções por sessão em um array\n",
    "dataset_grouped = dataset_with_session.group_by('sid', 'uid').agg(pl.col('iid').alias('iids'))\n",
    "display(dataset_grouped.head())\n",
    "\n",
    "# Imprime a distribuição do tamanho das sessões\n",
    "display(dataset_grouped['iids'].list.len().describe())\n",
    "\n",
    "# Reduz o número de amostras para reduzir o tempo de treinamento (ao custo de\n",
    "# uma redução na qualidade da base de dados) Seguiremos com 100k sessões das\n",
    "# ~900k presentes na base.\n",
    "dataset_grouped = dataset_grouped.sample(1e5, shuffle=True)"
   ]
  },
  {
   "cell_type": "code",
   "execution_count": 9,
   "metadata": {
    "ExecuteTime": {
     "end_time": "2024-11-27T06:18:03.611803Z",
     "start_time": "2024-11-27T06:18:02.391150Z"
    }
   },
   "outputs": [],
   "source": [
    "def gen_negative(iid: int) -> int:\n",
    "    global max_iid\n",
    "    while True:\n",
    "        negative = np.random.randint(1, max_iid)\n",
    "        if negative != iid:\n",
    "            return negative\n",
    "        \n",
    "# Para o FPMC, precisamos de tuplas do tipo (usuário, item anterior, próximo item real, próximo item negativo [gerado no dataset])\n",
    "def gen_data(uid: int, iids: list[int]) -> list[tuple[int, int, int]]:\n",
    "    data = []\n",
    "    for prev, nxt in zip(iids[:-1], iids[1:]):\n",
    "        data.append((uid, prev, nxt))\n",
    "    return data\n",
    "\n",
    "def train_slice(uid: int, data: list[int]) -> list[tuple[int, int, int]]:\n",
    "    if len(data) < 3:\n",
    "        return gen_data(uid, data)\n",
    "\n",
    "    return gen_data(uid, data[:-2])\n",
    "\n",
    "\n",
    "def validation_slice(uid: int, data: list[int]) -> list[tuple[int, int, int]]:\n",
    "    if len(data) < 3:\n",
    "        return []\n",
    "\n",
    "    return gen_data(uid, data[-3:-1])\n",
    "\n",
    "\n",
    "def test_slice(uid: int, data: list[int]) -> list[tuple[int, int, int]]:\n",
    "    if len(data) < 3:\n",
    "        return []\n",
    "\n",
    "    return gen_data(uid, data[-2:])\n",
    "\n",
    "def flatten(data: list[list[tuple[int, int, int]]]) -> list[tuple[int, int, int]]:\n",
    "    return [x for sublist in data for x in sublist]\n",
    "\n",
    "train_data: list[tuple[int, int, int]] = flatten([train_slice(uid, data.to_list()) for uid, data in\n",
    "                                                     zip(dataset_grouped['uid'], dataset_grouped['iids'])])\n",
    "validation_data: list[tuple[int, int, int]] = flatten([validation_slice(uid, data.to_list()) for uid, data in\n",
    "                                                                 zip(dataset_grouped['uid'], dataset_grouped['iids']) if len(data) > 2])\n",
    "test_data: list[tuple[int, int, int]] = flatten([validation_slice(uid, data.to_list()) for uid, data in\n",
    "                                                                      zip(dataset_grouped['uid'], dataset_grouped['iids']) if len(data) > 2])"
   ]
  },
  {
   "cell_type": "code",
   "execution_count": null,
   "metadata": {
    "ExecuteTime": {
     "end_time": "2024-11-27T06:18:04.015473Z",
     "start_time": "2024-11-27T06:18:04.008390Z"
    }
   },
   "outputs": [],
   "source": [
    "sample_negatives = {}\n",
    "# Utilizado para avaliação/teste\n",
    "def get_or_generate_negatives(iid: int, sample_size: int = 100) -> list[int]:\n",
    "    global sample_negatives\n",
    "    if iid not in sample_negatives:\n",
    "        sample_negatives[iid] = np.random.randint(1, max_iid, size=sample_size)\n",
    "    return sample_negatives[iid]\n",
    "\n",
    "class FPMCDataset(Dataset):\n",
    "    def __init__(self, data: list[tuple[int, int, int]]):\n",
    "        self.data = data\n",
    "\n",
    "    def __len__(self):\n",
    "        return len(self.data)\n",
    "\n",
    "    def __getitem__(self, index):\n",
    "        return *self.data[index], gen_negative(self.data[index][2])\n",
    "\n",
    "train_dataloader = DataLoader(FPMCDataset(train_data), batch_size=BATCH_SIZE, shuffle=True, num_workers=8)\n",
    "validation_dataloader = DataLoader(FPMCDataset(validation_data), batch_size=BATCH_SIZE, shuffle=False, num_workers=2)\n",
    "test_dataloader = DataLoader(FPMCDataset(test_data), batch_size=BATCH_SIZE, shuffle=False, num_workers=2)\n"
   ]
  },
  {
   "cell_type": "code",
   "execution_count": null,
   "metadata": {
    "ExecuteTime": {
     "end_time": "2024-11-27T06:21:31.709652Z",
     "start_time": "2024-11-27T06:21:31.705165Z"
    }
   },
   "outputs": [],
   "source": [
    "class FPMC(nn.Module):\n",
    "    def __init__(self, num_users, num_items, k_UI=64, k_IL=64):\n",
    "        \"\"\"\n",
    "        Initializes the FPMC model.\n",
    "\n",
    "        Args:\n",
    "            num_users (int): The number of users in the dataset.\n",
    "            num_items (int): The number of items in the dataset.\n",
    "            k_UI (int, optional): The embedding dimension for the user embeddings. Defaults to 64.\n",
    "            k_IL (int, optional): The embedding dimension for the item embeddings. Defaults to 64.\n",
    "        \"\"\"\n",
    "        super(FPMC, self).__init__()\n",
    "        self.num_users = num_users\n",
    "        self.num_items = num_items\n",
    "        self.k_UI = k_UI\n",
    "        self.k_IL = k_IL\n",
    "        self.sqrt_kUI = k_UI ** 0.5\n",
    "        self.sqrt_kIL = k_IL ** 0.5\n",
    "        \n",
    "\n",
    "        self.IL = nn.Embedding(self.num_items, self.k_IL)\n",
    "        self.LI = nn.Embedding(self.num_items, self.k_IL)\n",
    "\n",
    "        self.UI = nn.Embedding(self.num_users, self.k_UI)\n",
    "        self.IU = nn.Embedding(self.num_items, self.k_UI)\n",
    "\n",
    "    def forward(self, uid, prev_iid, next_iid):\n",
    "        # O modelo é composto por dois componentes: MF e FMC\n",
    "        x_mf = torch.sum(self.UI(uid) * self.IU(next_iid), dim=1) / self.sqrt_kUI\n",
    "        x_fmc = torch.sum(self.IL(next_iid) * self.LI(prev_iid), dim=1) / self.sqrt_kIL\n",
    "        return x_mf + x_fmc\n",
    "\n",
    "\n",
    "class BPRLoss(nn.Module):\n",
    "    def __init__(self, gamma=1e-10):\n",
    "        super(BPRLoss, self).__init__()\n",
    "        self.gamma = gamma\n",
    "\n",
    "    def forward(self, pos_score: torch.Tensor, neg_score: torch.Tensor):\n",
    "        loss = -torch.log(self.gamma + torch.sigmoid(pos_score - neg_score)).mean()\n",
    "        return loss\n"
   ]
  },
  {
   "cell_type": "code",
   "execution_count": 12,
   "metadata": {
    "ExecuteTime": {
     "end_time": "2024-11-27T06:18:05.899618Z",
     "start_time": "2024-11-27T06:18:05.885054Z"
    }
   },
   "outputs": [],
   "source": [
    "\n",
    "\n",
    "def evaluate_model(\n",
    "        model: FPMC,\n",
    "        loader: DataLoader,\n",
    "        device: str = PYTORCH_DEVICE,\n",
    ") -> tuple[float, float]:\n",
    "    global EVAL_K\n",
    "    ndcg = 0\n",
    "    hit = 0\n",
    "    total = 0\n",
    "\n",
    "    model.eval()\n",
    "    with torch.no_grad():\n",
    "        for batch in tqdm(loader, desc=\"Evaluating Validation: \", total=len(loader), leave=False):\n",
    "            uids, prev_iids, next_iids, _ = batch\n",
    "            for i in range(len(batch)):\n",
    "                total += 1\n",
    "                \n",
    "                uid = uids[i].repeat(101)\n",
    "                prev_iid = prev_iids[i].repeat(101)\n",
    "                negative_iids = get_or_generate_negatives(next_iids[i])\n",
    "                next_iid = torch.tensor([next_iids[i], *negative_iids])\n",
    "            \n",
    "                outputs = model(uid.to(device), prev_iid.to(device), next_iid.to(device))\n",
    "               \n",
    "                ranking = outputs.argsort(descending=True)\n",
    "                \n",
    "                for rank, item in enumerate(ranking[:EVAL_K]):\n",
    "                    if item == 0:\n",
    "                        ndcg += 1 / np.log2(rank + 2)\n",
    "                        hit += 1\n",
    "        \n",
    "    return ndcg / total, hit / total\n",
    "\n",
    "def train_model(\n",
    "        model: FPMC,\n",
    "        optimizer: optim.Optimizer,\n",
    "        scheduler: optim.lr_scheduler.LRScheduler | None,\n",
    "        train_loader: DataLoader,\n",
    "        val_loader: DataLoader,\n",
    "        num_epochs: int,\n",
    "        device: str = PYTORCH_DEVICE,\n",
    ") -> tuple[list[float], list[float], list[float], tuple[dict, dict, dict], tuple[dict, dict, dict]]:\n",
    "    best_ndcg = 0\n",
    "    best_hit = 0\n",
    "    best_ndcg_epoch = 0\n",
    "    best_hit_epoch = 0\n",
    "\n",
    "    losses = []\n",
    "    ndcgs = []\n",
    "    hits = []\n",
    "    lrs = []\n",
    "\n",
    "    best_ncdg_model_state = None\n",
    "    best_ncdg_optimizer_state = None\n",
    "    best_ncdg_scheduler_state = None\n",
    "\n",
    "    best_hit_model_state = None\n",
    "    best_hit_optimizer_state = None\n",
    "    best_hit_scheduler_state = None\n",
    "\n",
    "    # Plot the loss and other metrics\n",
    "\n",
    "    fig_loss_widget = go.FigureWidget(layout=go.Layout(title=\"Loss\"))\n",
    "    fig_ndcg_widget = go.FigureWidget(layout=go.Layout(title=\"NDCG@\" + str(EVAL_K)))\n",
    "    fig_hit_widget = go.FigureWidget(layout=go.Layout(title=\"HIT@\" + str(EVAL_K)))\n",
    "    fig_lr_widget = go.FigureWidget(layout=go.Layout(title=\"Learning Rate\"))\n",
    "\n",
    "\n",
    "    fig_loss_widget.add_scatter(x=np.arange(len(losses)) + 1, y=losses)\n",
    "    fig_ndcg_widget.add_scatter(x=np.arange(len(ndcgs)) + 1, y=ndcgs)\n",
    "    fig_hit_widget.add_scatter(x=np.arange(len(hits)) + 1, y=hits)\n",
    "    fig_lr_widget.add_scatter(x=np.arange(len(lrs)) + 1, y=lrs)\n",
    "\n",
    "    fig_loss_widget.update_xaxes(title_text='Epoch')\n",
    "    fig_ndcg_widget.update_xaxes(title_text='Epoch')\n",
    "    fig_hit_widget.update_xaxes(title_text='Epoch')\n",
    "    fig_lr_widget.update_xaxes(title_text='Epoch')\n",
    "\n",
    "    fig_loss_widget.update_yaxes(title_text='Loss', type='log')\n",
    "    fig_ndcg_widget.update_yaxes(title_text='NDCG@' + str(EVAL_K))\n",
    "    fig_hit_widget.update_yaxes(title_text='Epoch@' + str(EVAL_K))\n",
    "    fig_lr_widget.update_yaxes(title_text='Learning Rate')\n",
    "\n",
    "    display(HBox([fig_loss_widget, fig_lr_widget]))\n",
    "    display(HBox([fig_ndcg_widget, fig_hit_widget]))\n",
    "\n",
    "    # Wait for widgets to load\n",
    "    time.sleep(1)\n",
    "\n",
    "    criterion = BPRLoss()\n",
    "    \n",
    "    steps = 0\n",
    "    for epoch in tqdm(range(num_epochs), desc=\"Epoch: \"):\n",
    "        model.train()\n",
    "        epoch_loss = 0\n",
    "\n",
    "        lrs.append([pg['lr'] for pg in optimizer.param_groups][0])\n",
    "\n",
    "        for batch in tqdm(train_loader, desc=\"Training: \", total=len(train_loader), leave=False):\n",
    "            model.zero_grad()\n",
    "            \n",
    "            uid, prev_iid, next_iid, negative_iid = batch\n",
    "            \n",
    "            uid = uid.to(device)\n",
    "            prev_iid = prev_iid.to(device)\n",
    "            next_iid = next_iid.to(device)\n",
    "            negative_iid = negative_iid.to(device)\n",
    "            \n",
    "            positive_out = model(uid, prev_iid, next_iid)\n",
    "            negative_out = model(uid, prev_iid, negative_iid)\n",
    "\n",
    "            loss = criterion(positive_out, negative_out)\n",
    "\n",
    "            loss.backward()\n",
    "            epoch_loss += loss.item()\n",
    "            \n",
    "            optimizer.step()\n",
    "\n",
    "            if scheduler is not None:\n",
    "                scheduler.step()\n",
    "\n",
    "            steps += 1\n",
    "\n",
    "        ndcg, hit = evaluate_model(model, val_loader, device=device)\n",
    "\n",
    "        if ndcg > best_ndcg:\n",
    "            best_ndcg = ndcg\n",
    "            best_ndcg_epoch = epoch\n",
    "            best_ncdg_model_state = copy.deepcopy(model.state_dict())\n",
    "            best_ncdg_optimizer_state = copy.deepcopy(optimizer.state_dict())\n",
    "            if scheduler is not None:\n",
    "                best_ncdg_scheduler_state = copy.deepcopy(scheduler.state_dict())\n",
    "\n",
    "        if hit > best_hit:\n",
    "            best_hit = hit\n",
    "            best_hit_epoch = epoch\n",
    "            best_hit_model_state = copy.deepcopy(model.state_dict())\n",
    "            best_hit_optimizer_state = copy.deepcopy(optimizer.state_dict())\n",
    "            if scheduler is not None:\n",
    "                best_hit_scheduler_state = copy.deepcopy(scheduler.state_dict())\n",
    "\n",
    "        losses.append(epoch_loss)\n",
    "        ndcgs.append(ndcg)\n",
    "        hits.append(hit)\n",
    "\n",
    "\n",
    "        fig_loss_widget.data[0].x = np.arange(len(losses)) + 1\n",
    "        fig_loss_widget.data[0].y = losses\n",
    "        fig_ndcg_widget.data[0].x = np.arange(len(ndcgs)) + 1\n",
    "        fig_ndcg_widget.data[0].y = ndcgs\n",
    "        fig_hit_widget.data[0].x = np.arange(len(hits)) + 1\n",
    "        fig_hit_widget.data[0].y = hits\n",
    "        fig_lr_widget.data[0].x = np.arange(len(lrs)) + 1\n",
    "        fig_lr_widget.data[0].y = lrs\n",
    "\n",
    "    print(f\"Best NDCG@{EVAL_K} Epoch: {best_ndcg_epoch + 1}, NDCG@{EVAL_K}: {best_ndcg:.4f}\")\n",
    "    print(f\"Best HIT@{EVAL_K} Epoch: {best_hit_epoch + 1}, HIT@{EVAL_K}: {best_hit:.4f}\")\n",
    "\n",
    "    return losses, ndcgs, hits, \\\n",
    "        (best_ncdg_model_state, best_ncdg_optimizer_state, best_ncdg_scheduler_state), \\\n",
    "        (best_hit_model_state, best_hit_optimizer_state, best_hit_scheduler_state)\n"
   ]
  },
  {
   "cell_type": "code",
   "execution_count": 13,
   "metadata": {
    "ExecuteTime": {
     "end_time": "2024-11-27T06:18:11.324511Z",
     "start_time": "2024-11-27T06:18:05.904111Z"
    }
   },
   "outputs": [
    {
     "data": {
      "application/vnd.jupyter.widget-view+json": {
       "model_id": "bfec09eb4ba447578d7020a64eb5ac77",
       "version_major": 2,
       "version_minor": 0
      },
      "text/plain": [
       "HBox(children=(FigureWidget({\n",
       "    'data': [{'type': 'scatter', 'uid': '60aec7db-1be0-4cd9-9e42-008034e08e35', …"
      ]
     },
     "metadata": {},
     "output_type": "display_data"
    },
    {
     "data": {
      "application/vnd.jupyter.widget-view+json": {
       "model_id": "6975cec9c45f41ef834782770b75b555",
       "version_major": 2,
       "version_minor": 0
      },
      "text/plain": [
       "HBox(children=(FigureWidget({\n",
       "    'data': [{'type': 'scatter', 'uid': '03867d58-e459-4b36-9a1d-68c8a2fd1595', …"
      ]
     },
     "metadata": {},
     "output_type": "display_data"
    },
    {
     "data": {
      "application/vnd.jupyter.widget-view+json": {
       "model_id": "fa6e431c49674bc8a051384ea45b7095",
       "version_major": 2,
       "version_minor": 0
      },
      "text/plain": [
       "Epoch:   0%|          | 0/50 [00:00<?, ?it/s]"
      ]
     },
     "metadata": {},
     "output_type": "display_data"
    },
    {
     "data": {
      "application/vnd.jupyter.widget-view+json": {
       "model_id": "f6b2674afed649a4b769d5e5f15655da",
       "version_major": 2,
       "version_minor": 0
      },
      "text/plain": [
       "Training:   0%|          | 0/1595 [00:00<?, ?it/s]"
      ]
     },
     "metadata": {},
     "output_type": "display_data"
    },
    {
     "data": {
      "application/vnd.jupyter.widget-view+json": {
       "model_id": "387eb8f0dcf44c62a91a8854aecb4d79",
       "version_major": 2,
       "version_minor": 0
      },
      "text/plain": [
       "Evaluating Validation:   0%|          | 0/79 [00:00<?, ?it/s]"
      ]
     },
     "metadata": {},
     "output_type": "display_data"
    },
    {
     "data": {
      "application/vnd.jupyter.widget-view+json": {
       "model_id": "fdf672912e9849a69487baa73aa46792",
       "version_major": 2,
       "version_minor": 0
      },
      "text/plain": [
       "Training:   0%|          | 0/1595 [00:00<?, ?it/s]"
      ]
     },
     "metadata": {},
     "output_type": "display_data"
    },
    {
     "data": {
      "application/vnd.jupyter.widget-view+json": {
       "model_id": "20699194af4a4a61bdc42b0e0098bd25",
       "version_major": 2,
       "version_minor": 0
      },
      "text/plain": [
       "Evaluating Validation:   0%|          | 0/79 [00:00<?, ?it/s]"
      ]
     },
     "metadata": {},
     "output_type": "display_data"
    },
    {
     "data": {
      "application/vnd.jupyter.widget-view+json": {
       "model_id": "d93bbe8378cf423aab52451e5064e22a",
       "version_major": 2,
       "version_minor": 0
      },
      "text/plain": [
       "Training:   0%|          | 0/1595 [00:00<?, ?it/s]"
      ]
     },
     "metadata": {},
     "output_type": "display_data"
    },
    {
     "data": {
      "application/vnd.jupyter.widget-view+json": {
       "model_id": "52c1c6a42aab4afcb0fd77f194aeae00",
       "version_major": 2,
       "version_minor": 0
      },
      "text/plain": [
       "Evaluating Validation:   0%|          | 0/79 [00:00<?, ?it/s]"
      ]
     },
     "metadata": {},
     "output_type": "display_data"
    },
    {
     "data": {
      "application/vnd.jupyter.widget-view+json": {
       "model_id": "2587b889f16c489a9f54baa3b8c9426d",
       "version_major": 2,
       "version_minor": 0
      },
      "text/plain": [
       "Training:   0%|          | 0/1595 [00:00<?, ?it/s]"
      ]
     },
     "metadata": {},
     "output_type": "display_data"
    },
    {
     "data": {
      "application/vnd.jupyter.widget-view+json": {
       "model_id": "09a9b52b970748819891ab6e2fe310bb",
       "version_major": 2,
       "version_minor": 0
      },
      "text/plain": [
       "Evaluating Validation:   0%|          | 0/79 [00:00<?, ?it/s]"
      ]
     },
     "metadata": {},
     "output_type": "display_data"
    },
    {
     "data": {
      "application/vnd.jupyter.widget-view+json": {
       "model_id": "91872d3e1dc24b7bbd1b708bf1e3bc26",
       "version_major": 2,
       "version_minor": 0
      },
      "text/plain": [
       "Training:   0%|          | 0/1595 [00:00<?, ?it/s]"
      ]
     },
     "metadata": {},
     "output_type": "display_data"
    },
    {
     "data": {
      "application/vnd.jupyter.widget-view+json": {
       "model_id": "1bf39ca17b4844aaac5c16ce77e208ce",
       "version_major": 2,
       "version_minor": 0
      },
      "text/plain": [
       "Evaluating Validation:   0%|          | 0/79 [00:00<?, ?it/s]"
      ]
     },
     "metadata": {},
     "output_type": "display_data"
    },
    {
     "data": {
      "application/vnd.jupyter.widget-view+json": {
       "model_id": "b687eda934c04078afbe268f9df89592",
       "version_major": 2,
       "version_minor": 0
      },
      "text/plain": [
       "Training:   0%|          | 0/1595 [00:00<?, ?it/s]"
      ]
     },
     "metadata": {},
     "output_type": "display_data"
    },
    {
     "data": {
      "application/vnd.jupyter.widget-view+json": {
       "model_id": "1bdff2bf65a64ae78b49cd4de9c30434",
       "version_major": 2,
       "version_minor": 0
      },
      "text/plain": [
       "Evaluating Validation:   0%|          | 0/79 [00:00<?, ?it/s]"
      ]
     },
     "metadata": {},
     "output_type": "display_data"
    },
    {
     "data": {
      "application/vnd.jupyter.widget-view+json": {
       "model_id": "cf0ea2baa3104a05a947317514f470c2",
       "version_major": 2,
       "version_minor": 0
      },
      "text/plain": [
       "Training:   0%|          | 0/1595 [00:00<?, ?it/s]"
      ]
     },
     "metadata": {},
     "output_type": "display_data"
    },
    {
     "data": {
      "application/vnd.jupyter.widget-view+json": {
       "model_id": "58a05c858f7f4a60a6bda69a508510bf",
       "version_major": 2,
       "version_minor": 0
      },
      "text/plain": [
       "Evaluating Validation:   0%|          | 0/79 [00:00<?, ?it/s]"
      ]
     },
     "metadata": {},
     "output_type": "display_data"
    },
    {
     "data": {
      "application/vnd.jupyter.widget-view+json": {
       "model_id": "5ccf55a21a5b47bfa292ae71c8f7e9e0",
       "version_major": 2,
       "version_minor": 0
      },
      "text/plain": [
       "Training:   0%|          | 0/1595 [00:00<?, ?it/s]"
      ]
     },
     "metadata": {},
     "output_type": "display_data"
    },
    {
     "data": {
      "application/vnd.jupyter.widget-view+json": {
       "model_id": "defdcdc8bdc5480b9c706b26ca5b3ca2",
       "version_major": 2,
       "version_minor": 0
      },
      "text/plain": [
       "Evaluating Validation:   0%|          | 0/79 [00:00<?, ?it/s]"
      ]
     },
     "metadata": {},
     "output_type": "display_data"
    },
    {
     "data": {
      "application/vnd.jupyter.widget-view+json": {
       "model_id": "11594bbfcfaa4188abfce505660e358e",
       "version_major": 2,
       "version_minor": 0
      },
      "text/plain": [
       "Training:   0%|          | 0/1595 [00:00<?, ?it/s]"
      ]
     },
     "metadata": {},
     "output_type": "display_data"
    },
    {
     "data": {
      "application/vnd.jupyter.widget-view+json": {
       "model_id": "d02d9c8c05c94fce8f2a21f0378d4c79",
       "version_major": 2,
       "version_minor": 0
      },
      "text/plain": [
       "Evaluating Validation:   0%|          | 0/79 [00:00<?, ?it/s]"
      ]
     },
     "metadata": {},
     "output_type": "display_data"
    },
    {
     "data": {
      "application/vnd.jupyter.widget-view+json": {
       "model_id": "167839f3e1a847748c80002a6e3bb105",
       "version_major": 2,
       "version_minor": 0
      },
      "text/plain": [
       "Training:   0%|          | 0/1595 [00:00<?, ?it/s]"
      ]
     },
     "metadata": {},
     "output_type": "display_data"
    },
    {
     "data": {
      "application/vnd.jupyter.widget-view+json": {
       "model_id": "f59ca215d38b44f49174d489bf09b98c",
       "version_major": 2,
       "version_minor": 0
      },
      "text/plain": [
       "Evaluating Validation:   0%|          | 0/79 [00:00<?, ?it/s]"
      ]
     },
     "metadata": {},
     "output_type": "display_data"
    },
    {
     "data": {
      "application/vnd.jupyter.widget-view+json": {
       "model_id": "75d5782cbf4e41e6b919f6955ea0734b",
       "version_major": 2,
       "version_minor": 0
      },
      "text/plain": [
       "Training:   0%|          | 0/1595 [00:00<?, ?it/s]"
      ]
     },
     "metadata": {},
     "output_type": "display_data"
    },
    {
     "data": {
      "application/vnd.jupyter.widget-view+json": {
       "model_id": "bde71edf650b4ea39ae6c8f013085795",
       "version_major": 2,
       "version_minor": 0
      },
      "text/plain": [
       "Evaluating Validation:   0%|          | 0/79 [00:00<?, ?it/s]"
      ]
     },
     "metadata": {},
     "output_type": "display_data"
    },
    {
     "data": {
      "application/vnd.jupyter.widget-view+json": {
       "model_id": "03840a4c0a1c4c3cb0e93d84361b4755",
       "version_major": 2,
       "version_minor": 0
      },
      "text/plain": [
       "Training:   0%|          | 0/1595 [00:00<?, ?it/s]"
      ]
     },
     "metadata": {},
     "output_type": "display_data"
    },
    {
     "data": {
      "application/vnd.jupyter.widget-view+json": {
       "model_id": "c9ba9348809345d5bb51c811b21ea797",
       "version_major": 2,
       "version_minor": 0
      },
      "text/plain": [
       "Evaluating Validation:   0%|          | 0/79 [00:00<?, ?it/s]"
      ]
     },
     "metadata": {},
     "output_type": "display_data"
    },
    {
     "data": {
      "application/vnd.jupyter.widget-view+json": {
       "model_id": "33dece52da2c4973ab4c33fa5986e620",
       "version_major": 2,
       "version_minor": 0
      },
      "text/plain": [
       "Training:   0%|          | 0/1595 [00:00<?, ?it/s]"
      ]
     },
     "metadata": {},
     "output_type": "display_data"
    },
    {
     "data": {
      "application/vnd.jupyter.widget-view+json": {
       "model_id": "89ae98fc7b74455d952d5a3f1810eec8",
       "version_major": 2,
       "version_minor": 0
      },
      "text/plain": [
       "Evaluating Validation:   0%|          | 0/79 [00:00<?, ?it/s]"
      ]
     },
     "metadata": {},
     "output_type": "display_data"
    },
    {
     "data": {
      "application/vnd.jupyter.widget-view+json": {
       "model_id": "82d80a081d324fec92d70f18b8a8158a",
       "version_major": 2,
       "version_minor": 0
      },
      "text/plain": [
       "Training:   0%|          | 0/1595 [00:00<?, ?it/s]"
      ]
     },
     "metadata": {},
     "output_type": "display_data"
    },
    {
     "data": {
      "application/vnd.jupyter.widget-view+json": {
       "model_id": "5c1c6e808af74b1d869f42d700a30729",
       "version_major": 2,
       "version_minor": 0
      },
      "text/plain": [
       "Evaluating Validation:   0%|          | 0/79 [00:00<?, ?it/s]"
      ]
     },
     "metadata": {},
     "output_type": "display_data"
    },
    {
     "data": {
      "application/vnd.jupyter.widget-view+json": {
       "model_id": "ddf5eacdd03c4b0692d2b301f7f4dfb8",
       "version_major": 2,
       "version_minor": 0
      },
      "text/plain": [
       "Training:   0%|          | 0/1595 [00:00<?, ?it/s]"
      ]
     },
     "metadata": {},
     "output_type": "display_data"
    },
    {
     "data": {
      "application/vnd.jupyter.widget-view+json": {
       "model_id": "6e726f83985147b4a83fcbc09f3564ad",
       "version_major": 2,
       "version_minor": 0
      },
      "text/plain": [
       "Evaluating Validation:   0%|          | 0/79 [00:00<?, ?it/s]"
      ]
     },
     "metadata": {},
     "output_type": "display_data"
    },
    {
     "data": {
      "application/vnd.jupyter.widget-view+json": {
       "model_id": "56ff8e91752844289353f5763c4b5b61",
       "version_major": 2,
       "version_minor": 0
      },
      "text/plain": [
       "Training:   0%|          | 0/1595 [00:00<?, ?it/s]"
      ]
     },
     "metadata": {},
     "output_type": "display_data"
    },
    {
     "data": {
      "application/vnd.jupyter.widget-view+json": {
       "model_id": "b302bf5920c8470daa31c258142d461b",
       "version_major": 2,
       "version_minor": 0
      },
      "text/plain": [
       "Evaluating Validation:   0%|          | 0/79 [00:00<?, ?it/s]"
      ]
     },
     "metadata": {},
     "output_type": "display_data"
    },
    {
     "data": {
      "application/vnd.jupyter.widget-view+json": {
       "model_id": "018cc04fc3344ac6824904ef48c72cf2",
       "version_major": 2,
       "version_minor": 0
      },
      "text/plain": [
       "Training:   0%|          | 0/1595 [00:00<?, ?it/s]"
      ]
     },
     "metadata": {},
     "output_type": "display_data"
    },
    {
     "data": {
      "application/vnd.jupyter.widget-view+json": {
       "model_id": "c335055e82384586a3a6b0c85c5ce8e3",
       "version_major": 2,
       "version_minor": 0
      },
      "text/plain": [
       "Evaluating Validation:   0%|          | 0/79 [00:00<?, ?it/s]"
      ]
     },
     "metadata": {},
     "output_type": "display_data"
    },
    {
     "data": {
      "application/vnd.jupyter.widget-view+json": {
       "model_id": "c747d40e937e4830b05d80e24df10a06",
       "version_major": 2,
       "version_minor": 0
      },
      "text/plain": [
       "Training:   0%|          | 0/1595 [00:00<?, ?it/s]"
      ]
     },
     "metadata": {},
     "output_type": "display_data"
    },
    {
     "data": {
      "application/vnd.jupyter.widget-view+json": {
       "model_id": "9e3b3a6c7bd44c58a4b9e2649988ba25",
       "version_major": 2,
       "version_minor": 0
      },
      "text/plain": [
       "Evaluating Validation:   0%|          | 0/79 [00:00<?, ?it/s]"
      ]
     },
     "metadata": {},
     "output_type": "display_data"
    },
    {
     "data": {
      "application/vnd.jupyter.widget-view+json": {
       "model_id": "0ef87ba87b174439a9994e962b455e80",
       "version_major": 2,
       "version_minor": 0
      },
      "text/plain": [
       "Training:   0%|          | 0/1595 [00:00<?, ?it/s]"
      ]
     },
     "metadata": {},
     "output_type": "display_data"
    },
    {
     "data": {
      "application/vnd.jupyter.widget-view+json": {
       "model_id": "d03ef693d1d7401b8cf192a978c6a53a",
       "version_major": 2,
       "version_minor": 0
      },
      "text/plain": [
       "Evaluating Validation:   0%|          | 0/79 [00:00<?, ?it/s]"
      ]
     },
     "metadata": {},
     "output_type": "display_data"
    },
    {
     "data": {
      "application/vnd.jupyter.widget-view+json": {
       "model_id": "03622d0c1d8c46258cf77f2f11b27776",
       "version_major": 2,
       "version_minor": 0
      },
      "text/plain": [
       "Training:   0%|          | 0/1595 [00:00<?, ?it/s]"
      ]
     },
     "metadata": {},
     "output_type": "display_data"
    },
    {
     "data": {
      "application/vnd.jupyter.widget-view+json": {
       "model_id": "e52d1fdbf6bf4c73b83974689e9ca54d",
       "version_major": 2,
       "version_minor": 0
      },
      "text/plain": [
       "Evaluating Validation:   0%|          | 0/79 [00:00<?, ?it/s]"
      ]
     },
     "metadata": {},
     "output_type": "display_data"
    },
    {
     "data": {
      "application/vnd.jupyter.widget-view+json": {
       "model_id": "c8b6516fba7e4cdb840b18aff7c1eca0",
       "version_major": 2,
       "version_minor": 0
      },
      "text/plain": [
       "Training:   0%|          | 0/1595 [00:00<?, ?it/s]"
      ]
     },
     "metadata": {},
     "output_type": "display_data"
    },
    {
     "data": {
      "application/vnd.jupyter.widget-view+json": {
       "model_id": "94edeab7f1504dafa0fcdf5df2ce5f67",
       "version_major": 2,
       "version_minor": 0
      },
      "text/plain": [
       "Evaluating Validation:   0%|          | 0/79 [00:00<?, ?it/s]"
      ]
     },
     "metadata": {},
     "output_type": "display_data"
    },
    {
     "data": {
      "application/vnd.jupyter.widget-view+json": {
       "model_id": "3456a8a1a99649fc84821b3ae95ef6e2",
       "version_major": 2,
       "version_minor": 0
      },
      "text/plain": [
       "Training:   0%|          | 0/1595 [00:00<?, ?it/s]"
      ]
     },
     "metadata": {},
     "output_type": "display_data"
    },
    {
     "data": {
      "application/vnd.jupyter.widget-view+json": {
       "model_id": "13c164fa914d4ffc9eb339b891c9c9d4",
       "version_major": 2,
       "version_minor": 0
      },
      "text/plain": [
       "Evaluating Validation:   0%|          | 0/79 [00:00<?, ?it/s]"
      ]
     },
     "metadata": {},
     "output_type": "display_data"
    },
    {
     "data": {
      "application/vnd.jupyter.widget-view+json": {
       "model_id": "d8b675d2ba284124b61047901033e908",
       "version_major": 2,
       "version_minor": 0
      },
      "text/plain": [
       "Training:   0%|          | 0/1595 [00:00<?, ?it/s]"
      ]
     },
     "metadata": {},
     "output_type": "display_data"
    },
    {
     "data": {
      "application/vnd.jupyter.widget-view+json": {
       "model_id": "77d88dec7e494c1d8b23cfd9a4287578",
       "version_major": 2,
       "version_minor": 0
      },
      "text/plain": [
       "Evaluating Validation:   0%|          | 0/79 [00:00<?, ?it/s]"
      ]
     },
     "metadata": {},
     "output_type": "display_data"
    },
    {
     "data": {
      "application/vnd.jupyter.widget-view+json": {
       "model_id": "d9d9397de23e46b7834065883f352b8c",
       "version_major": 2,
       "version_minor": 0
      },
      "text/plain": [
       "Training:   0%|          | 0/1595 [00:00<?, ?it/s]"
      ]
     },
     "metadata": {},
     "output_type": "display_data"
    },
    {
     "data": {
      "application/vnd.jupyter.widget-view+json": {
       "model_id": "afb45562bebf47269f271f5876b55780",
       "version_major": 2,
       "version_minor": 0
      },
      "text/plain": [
       "Evaluating Validation:   0%|          | 0/79 [00:00<?, ?it/s]"
      ]
     },
     "metadata": {},
     "output_type": "display_data"
    },
    {
     "data": {
      "application/vnd.jupyter.widget-view+json": {
       "model_id": "ce5844117d99416ca43385b1efc12c42",
       "version_major": 2,
       "version_minor": 0
      },
      "text/plain": [
       "Training:   0%|          | 0/1595 [00:00<?, ?it/s]"
      ]
     },
     "metadata": {},
     "output_type": "display_data"
    },
    {
     "data": {
      "application/vnd.jupyter.widget-view+json": {
       "model_id": "67bdfd4e09f54f58a84fcfabe8207e59",
       "version_major": 2,
       "version_minor": 0
      },
      "text/plain": [
       "Evaluating Validation:   0%|          | 0/79 [00:00<?, ?it/s]"
      ]
     },
     "metadata": {},
     "output_type": "display_data"
    },
    {
     "data": {
      "application/vnd.jupyter.widget-view+json": {
       "model_id": "751de6dd85904eef8b5af544d6441c0c",
       "version_major": 2,
       "version_minor": 0
      },
      "text/plain": [
       "Training:   0%|          | 0/1595 [00:00<?, ?it/s]"
      ]
     },
     "metadata": {},
     "output_type": "display_data"
    },
    {
     "data": {
      "application/vnd.jupyter.widget-view+json": {
       "model_id": "f40475f91fba44929c0d491ded157fd7",
       "version_major": 2,
       "version_minor": 0
      },
      "text/plain": [
       "Evaluating Validation:   0%|          | 0/79 [00:00<?, ?it/s]"
      ]
     },
     "metadata": {},
     "output_type": "display_data"
    },
    {
     "data": {
      "application/vnd.jupyter.widget-view+json": {
       "model_id": "95c9ba90cff84f9ba22acb62313ab5c4",
       "version_major": 2,
       "version_minor": 0
      },
      "text/plain": [
       "Training:   0%|          | 0/1595 [00:00<?, ?it/s]"
      ]
     },
     "metadata": {},
     "output_type": "display_data"
    },
    {
     "data": {
      "application/vnd.jupyter.widget-view+json": {
       "model_id": "a8a12d0916fc40d886c739245988a4fa",
       "version_major": 2,
       "version_minor": 0
      },
      "text/plain": [
       "Evaluating Validation:   0%|          | 0/79 [00:00<?, ?it/s]"
      ]
     },
     "metadata": {},
     "output_type": "display_data"
    },
    {
     "data": {
      "application/vnd.jupyter.widget-view+json": {
       "model_id": "17372a30839d4630b6ed990734193647",
       "version_major": 2,
       "version_minor": 0
      },
      "text/plain": [
       "Training:   0%|          | 0/1595 [00:00<?, ?it/s]"
      ]
     },
     "metadata": {},
     "output_type": "display_data"
    },
    {
     "data": {
      "application/vnd.jupyter.widget-view+json": {
       "model_id": "4c8dc119fdf040dd8d9471c2a4616e7d",
       "version_major": 2,
       "version_minor": 0
      },
      "text/plain": [
       "Evaluating Validation:   0%|          | 0/79 [00:00<?, ?it/s]"
      ]
     },
     "metadata": {},
     "output_type": "display_data"
    },
    {
     "data": {
      "application/vnd.jupyter.widget-view+json": {
       "model_id": "d54c9593e8ca44e5a0d709adffe512d2",
       "version_major": 2,
       "version_minor": 0
      },
      "text/plain": [
       "Training:   0%|          | 0/1595 [00:00<?, ?it/s]"
      ]
     },
     "metadata": {},
     "output_type": "display_data"
    },
    {
     "data": {
      "application/vnd.jupyter.widget-view+json": {
       "model_id": "7fd0afdf23bc44299919a0d6f5745087",
       "version_major": 2,
       "version_minor": 0
      },
      "text/plain": [
       "Evaluating Validation:   0%|          | 0/79 [00:00<?, ?it/s]"
      ]
     },
     "metadata": {},
     "output_type": "display_data"
    },
    {
     "data": {
      "application/vnd.jupyter.widget-view+json": {
       "model_id": "49e5bfd454d842ac852130dae3d835ee",
       "version_major": 2,
       "version_minor": 0
      },
      "text/plain": [
       "Training:   0%|          | 0/1595 [00:00<?, ?it/s]"
      ]
     },
     "metadata": {},
     "output_type": "display_data"
    },
    {
     "data": {
      "application/vnd.jupyter.widget-view+json": {
       "model_id": "32837f2a3af54b7d8068c807727efded",
       "version_major": 2,
       "version_minor": 0
      },
      "text/plain": [
       "Evaluating Validation:   0%|          | 0/79 [00:00<?, ?it/s]"
      ]
     },
     "metadata": {},
     "output_type": "display_data"
    },
    {
     "data": {
      "application/vnd.jupyter.widget-view+json": {
       "model_id": "ae1e70b268ea43219b56adf24f6949fb",
       "version_major": 2,
       "version_minor": 0
      },
      "text/plain": [
       "Training:   0%|          | 0/1595 [00:00<?, ?it/s]"
      ]
     },
     "metadata": {},
     "output_type": "display_data"
    },
    {
     "data": {
      "application/vnd.jupyter.widget-view+json": {
       "model_id": "469ddb654993469093d29dc8c11573c2",
       "version_major": 2,
       "version_minor": 0
      },
      "text/plain": [
       "Evaluating Validation:   0%|          | 0/79 [00:00<?, ?it/s]"
      ]
     },
     "metadata": {},
     "output_type": "display_data"
    },
    {
     "data": {
      "application/vnd.jupyter.widget-view+json": {
       "model_id": "2ad1e08dca9e4e5eb5f3e05913b5df02",
       "version_major": 2,
       "version_minor": 0
      },
      "text/plain": [
       "Training:   0%|          | 0/1595 [00:00<?, ?it/s]"
      ]
     },
     "metadata": {},
     "output_type": "display_data"
    },
    {
     "data": {
      "application/vnd.jupyter.widget-view+json": {
       "model_id": "589c7eea26424602bf1cf233fa2e65e1",
       "version_major": 2,
       "version_minor": 0
      },
      "text/plain": [
       "Evaluating Validation:   0%|          | 0/79 [00:00<?, ?it/s]"
      ]
     },
     "metadata": {},
     "output_type": "display_data"
    },
    {
     "data": {
      "application/vnd.jupyter.widget-view+json": {
       "model_id": "081663b1a5214040af28b160362e466e",
       "version_major": 2,
       "version_minor": 0
      },
      "text/plain": [
       "Training:   0%|          | 0/1595 [00:00<?, ?it/s]"
      ]
     },
     "metadata": {},
     "output_type": "display_data"
    },
    {
     "data": {
      "application/vnd.jupyter.widget-view+json": {
       "model_id": "92a0aa0d5614458d957fdb0fb40d69f6",
       "version_major": 2,
       "version_minor": 0
      },
      "text/plain": [
       "Evaluating Validation:   0%|          | 0/79 [00:00<?, ?it/s]"
      ]
     },
     "metadata": {},
     "output_type": "display_data"
    },
    {
     "data": {
      "application/vnd.jupyter.widget-view+json": {
       "model_id": "2c971da2f48e4dfc92f7da1446ebe552",
       "version_major": 2,
       "version_minor": 0
      },
      "text/plain": [
       "Training:   0%|          | 0/1595 [00:00<?, ?it/s]"
      ]
     },
     "metadata": {},
     "output_type": "display_data"
    },
    {
     "data": {
      "application/vnd.jupyter.widget-view+json": {
       "model_id": "24e95d0bac5a41dd9578ddbca86a176a",
       "version_major": 2,
       "version_minor": 0
      },
      "text/plain": [
       "Evaluating Validation:   0%|          | 0/79 [00:00<?, ?it/s]"
      ]
     },
     "metadata": {},
     "output_type": "display_data"
    },
    {
     "data": {
      "application/vnd.jupyter.widget-view+json": {
       "model_id": "301844def28d47c3b02a3f3785764e2c",
       "version_major": 2,
       "version_minor": 0
      },
      "text/plain": [
       "Training:   0%|          | 0/1595 [00:00<?, ?it/s]"
      ]
     },
     "metadata": {},
     "output_type": "display_data"
    },
    {
     "data": {
      "application/vnd.jupyter.widget-view+json": {
       "model_id": "d3a18a00d6914a1c886e95bafdc5cd8c",
       "version_major": 2,
       "version_minor": 0
      },
      "text/plain": [
       "Evaluating Validation:   0%|          | 0/79 [00:00<?, ?it/s]"
      ]
     },
     "metadata": {},
     "output_type": "display_data"
    },
    {
     "data": {
      "application/vnd.jupyter.widget-view+json": {
       "model_id": "481fd5daa5d84b098b673fd5a3ed4d40",
       "version_major": 2,
       "version_minor": 0
      },
      "text/plain": [
       "Training:   0%|          | 0/1595 [00:00<?, ?it/s]"
      ]
     },
     "metadata": {},
     "output_type": "display_data"
    },
    {
     "data": {
      "application/vnd.jupyter.widget-view+json": {
       "model_id": "8a3a9ca9fad44731928a55c35cb9c332",
       "version_major": 2,
       "version_minor": 0
      },
      "text/plain": [
       "Evaluating Validation:   0%|          | 0/79 [00:00<?, ?it/s]"
      ]
     },
     "metadata": {},
     "output_type": "display_data"
    },
    {
     "data": {
      "application/vnd.jupyter.widget-view+json": {
       "model_id": "f6b08215b5a842d89c0b761fd4173944",
       "version_major": 2,
       "version_minor": 0
      },
      "text/plain": [
       "Training:   0%|          | 0/1595 [00:00<?, ?it/s]"
      ]
     },
     "metadata": {},
     "output_type": "display_data"
    },
    {
     "data": {
      "application/vnd.jupyter.widget-view+json": {
       "model_id": "6f109286295c4a0a928d525748dd3ec1",
       "version_major": 2,
       "version_minor": 0
      },
      "text/plain": [
       "Evaluating Validation:   0%|          | 0/79 [00:00<?, ?it/s]"
      ]
     },
     "metadata": {},
     "output_type": "display_data"
    },
    {
     "data": {
      "application/vnd.jupyter.widget-view+json": {
       "model_id": "756fa9286de948868b4ebbd3dd29c8ce",
       "version_major": 2,
       "version_minor": 0
      },
      "text/plain": [
       "Training:   0%|          | 0/1595 [00:00<?, ?it/s]"
      ]
     },
     "metadata": {},
     "output_type": "display_data"
    },
    {
     "data": {
      "application/vnd.jupyter.widget-view+json": {
       "model_id": "2b1808dca11b465ba2f4db989a5285a8",
       "version_major": 2,
       "version_minor": 0
      },
      "text/plain": [
       "Evaluating Validation:   0%|          | 0/79 [00:00<?, ?it/s]"
      ]
     },
     "metadata": {},
     "output_type": "display_data"
    },
    {
     "data": {
      "application/vnd.jupyter.widget-view+json": {
       "model_id": "6c5a0c5b273f4785840755e415d2691e",
       "version_major": 2,
       "version_minor": 0
      },
      "text/plain": [
       "Training:   0%|          | 0/1595 [00:00<?, ?it/s]"
      ]
     },
     "metadata": {},
     "output_type": "display_data"
    },
    {
     "data": {
      "application/vnd.jupyter.widget-view+json": {
       "model_id": "9aa5daf9239645a5901ec00f792bc77a",
       "version_major": 2,
       "version_minor": 0
      },
      "text/plain": [
       "Evaluating Validation:   0%|          | 0/79 [00:00<?, ?it/s]"
      ]
     },
     "metadata": {},
     "output_type": "display_data"
    },
    {
     "data": {
      "application/vnd.jupyter.widget-view+json": {
       "model_id": "1f6528fce655474f8639a945b670ca76",
       "version_major": 2,
       "version_minor": 0
      },
      "text/plain": [
       "Training:   0%|          | 0/1595 [00:00<?, ?it/s]"
      ]
     },
     "metadata": {},
     "output_type": "display_data"
    },
    {
     "data": {
      "application/vnd.jupyter.widget-view+json": {
       "model_id": "200404a3e5e845f282c9d81466a9e2e0",
       "version_major": 2,
       "version_minor": 0
      },
      "text/plain": [
       "Evaluating Validation:   0%|          | 0/79 [00:00<?, ?it/s]"
      ]
     },
     "metadata": {},
     "output_type": "display_data"
    },
    {
     "data": {
      "application/vnd.jupyter.widget-view+json": {
       "model_id": "9273e375f3d8453f9fc0c27ab5b66560",
       "version_major": 2,
       "version_minor": 0
      },
      "text/plain": [
       "Training:   0%|          | 0/1595 [00:00<?, ?it/s]"
      ]
     },
     "metadata": {},
     "output_type": "display_data"
    },
    {
     "data": {
      "application/vnd.jupyter.widget-view+json": {
       "model_id": "d1db50e4619c42568fbbf6454ad26e3d",
       "version_major": 2,
       "version_minor": 0
      },
      "text/plain": [
       "Evaluating Validation:   0%|          | 0/79 [00:00<?, ?it/s]"
      ]
     },
     "metadata": {},
     "output_type": "display_data"
    },
    {
     "data": {
      "application/vnd.jupyter.widget-view+json": {
       "model_id": "e075edb0896d4c24b3baa7e06702923f",
       "version_major": 2,
       "version_minor": 0
      },
      "text/plain": [
       "Training:   0%|          | 0/1595 [00:00<?, ?it/s]"
      ]
     },
     "metadata": {},
     "output_type": "display_data"
    },
    {
     "data": {
      "application/vnd.jupyter.widget-view+json": {
       "model_id": "0624e12374334e55a3c34241c21fb483",
       "version_major": 2,
       "version_minor": 0
      },
      "text/plain": [
       "Evaluating Validation:   0%|          | 0/79 [00:00<?, ?it/s]"
      ]
     },
     "metadata": {},
     "output_type": "display_data"
    },
    {
     "data": {
      "application/vnd.jupyter.widget-view+json": {
       "model_id": "137daeb1f595454ca8cdf459958226f7",
       "version_major": 2,
       "version_minor": 0
      },
      "text/plain": [
       "Training:   0%|          | 0/1595 [00:00<?, ?it/s]"
      ]
     },
     "metadata": {},
     "output_type": "display_data"
    },
    {
     "data": {
      "application/vnd.jupyter.widget-view+json": {
       "model_id": "a973995ad13c415fadd8327fe3f3654c",
       "version_major": 2,
       "version_minor": 0
      },
      "text/plain": [
       "Evaluating Validation:   0%|          | 0/79 [00:00<?, ?it/s]"
      ]
     },
     "metadata": {},
     "output_type": "display_data"
    },
    {
     "data": {
      "application/vnd.jupyter.widget-view+json": {
       "model_id": "8776d2438a894123a5cf92dde0a46355",
       "version_major": 2,
       "version_minor": 0
      },
      "text/plain": [
       "Training:   0%|          | 0/1595 [00:00<?, ?it/s]"
      ]
     },
     "metadata": {},
     "output_type": "display_data"
    },
    {
     "data": {
      "application/vnd.jupyter.widget-view+json": {
       "model_id": "829c3796ef5f4a28b7bbbc9838a87b4d",
       "version_major": 2,
       "version_minor": 0
      },
      "text/plain": [
       "Evaluating Validation:   0%|          | 0/79 [00:00<?, ?it/s]"
      ]
     },
     "metadata": {},
     "output_type": "display_data"
    },
    {
     "data": {
      "application/vnd.jupyter.widget-view+json": {
       "model_id": "d8c84d9474d84487a28b7d3863467552",
       "version_major": 2,
       "version_minor": 0
      },
      "text/plain": [
       "Training:   0%|          | 0/1595 [00:00<?, ?it/s]"
      ]
     },
     "metadata": {},
     "output_type": "display_data"
    },
    {
     "data": {
      "application/vnd.jupyter.widget-view+json": {
       "model_id": "f1ac16ad4eaf4e38b3985be90f44ca2c",
       "version_major": 2,
       "version_minor": 0
      },
      "text/plain": [
       "Evaluating Validation:   0%|          | 0/79 [00:00<?, ?it/s]"
      ]
     },
     "metadata": {},
     "output_type": "display_data"
    },
    {
     "data": {
      "application/vnd.jupyter.widget-view+json": {
       "model_id": "1ebe9edb44864078aac765a633f24242",
       "version_major": 2,
       "version_minor": 0
      },
      "text/plain": [
       "Training:   0%|          | 0/1595 [00:00<?, ?it/s]"
      ]
     },
     "metadata": {},
     "output_type": "display_data"
    },
    {
     "data": {
      "application/vnd.jupyter.widget-view+json": {
       "model_id": "1fafcc4416fe47a3a46c6c639fdb1a4a",
       "version_major": 2,
       "version_minor": 0
      },
      "text/plain": [
       "Evaluating Validation:   0%|          | 0/79 [00:00<?, ?it/s]"
      ]
     },
     "metadata": {},
     "output_type": "display_data"
    },
    {
     "data": {
      "application/vnd.jupyter.widget-view+json": {
       "model_id": "4f3029a58f834be88472da8b2f3f29de",
       "version_major": 2,
       "version_minor": 0
      },
      "text/plain": [
       "Training:   0%|          | 0/1595 [00:00<?, ?it/s]"
      ]
     },
     "metadata": {},
     "output_type": "display_data"
    },
    {
     "data": {
      "application/vnd.jupyter.widget-view+json": {
       "model_id": "69e5c6fae68c46ccbf3aeb3081378f6c",
       "version_major": 2,
       "version_minor": 0
      },
      "text/plain": [
       "Evaluating Validation:   0%|          | 0/79 [00:00<?, ?it/s]"
      ]
     },
     "metadata": {},
     "output_type": "display_data"
    },
    {
     "data": {
      "application/vnd.jupyter.widget-view+json": {
       "model_id": "da814b82f6564435bf39f6909404d42e",
       "version_major": 2,
       "version_minor": 0
      },
      "text/plain": [
       "Training:   0%|          | 0/1595 [00:00<?, ?it/s]"
      ]
     },
     "metadata": {},
     "output_type": "display_data"
    },
    {
     "data": {
      "application/vnd.jupyter.widget-view+json": {
       "model_id": "ccc02c0c52e54d8fa3b466f1b068f17f",
       "version_major": 2,
       "version_minor": 0
      },
      "text/plain": [
       "Evaluating Validation:   0%|          | 0/79 [00:00<?, ?it/s]"
      ]
     },
     "metadata": {},
     "output_type": "display_data"
    },
    {
     "data": {
      "application/vnd.jupyter.widget-view+json": {
       "model_id": "28370db85668493db368d24e240c7b0f",
       "version_major": 2,
       "version_minor": 0
      },
      "text/plain": [
       "Training:   0%|          | 0/1595 [00:00<?, ?it/s]"
      ]
     },
     "metadata": {},
     "output_type": "display_data"
    },
    {
     "data": {
      "application/vnd.jupyter.widget-view+json": {
       "model_id": "43523b3ecb8c4b8b996a92c151cb57e8",
       "version_major": 2,
       "version_minor": 0
      },
      "text/plain": [
       "Evaluating Validation:   0%|          | 0/79 [00:00<?, ?it/s]"
      ]
     },
     "metadata": {},
     "output_type": "display_data"
    },
    {
     "data": {
      "application/vnd.jupyter.widget-view+json": {
       "model_id": "21f835ef02484d0bafc1826634721c1e",
       "version_major": 2,
       "version_minor": 0
      },
      "text/plain": [
       "Training:   0%|          | 0/1595 [00:00<?, ?it/s]"
      ]
     },
     "metadata": {},
     "output_type": "display_data"
    },
    {
     "data": {
      "application/vnd.jupyter.widget-view+json": {
       "model_id": "87c5c0773aa6419ea18d3d454282dc30",
       "version_major": 2,
       "version_minor": 0
      },
      "text/plain": [
       "Evaluating Validation:   0%|          | 0/79 [00:00<?, ?it/s]"
      ]
     },
     "metadata": {},
     "output_type": "display_data"
    },
    {
     "name": "stdout",
     "output_type": "stream",
     "text": [
      "Best NDCG@10 Epoch: 44, NDCG@10: 0.6980\n",
      "Best HIT@10 Epoch: 46, HIT@10: 0.7975\n"
     ]
    }
   ],
   "source": [
    "model = FPMC(num_users=max_uid + 1, num_items=max_iid + 1, k_UI=K_UI, k_IL=K_IL)\n",
    "\n",
    "model.to(PYTORCH_DEVICE)\n",
    "\n",
    "optimizer = torch.optim.AdamW(model.parameters(), lr=LEARNING_RATE, betas=(BETA_1, BETA_2), eps=EPS, weight_decay=WEIGHT_DECAY, amsgrad=AMSGRAD)\n",
    "\n",
    "scheduler = None\n",
    "if USE_SCHEDULER:\n",
    "    scheduler = optim.lr_scheduler.OneCycleLR(\n",
    "        optimizer=optimizer,\n",
    "        max_lr=LEARNING_RATE,\n",
    "        total_steps=TOTAL_EPOCHS * len(train_dataloader),\n",
    "        pct_start=WARMUP_RATIO,\n",
    "        anneal_strategy=\"linear\",\n",
    "    )\n",
    "\n",
    "results = train_model(model, optimizer, scheduler, train_dataloader, validation_dataloader, TOTAL_EPOCHS, device=PYTORCH_DEVICE)"
   ]
  },
  {
   "cell_type": "code",
   "execution_count": 14,
   "metadata": {},
   "outputs": [],
   "source": [
    "losses, ndcgs, hits, \\\n",
    "    (best_ncdg_model_state, best_ncdg_optimizer_state, best_ncdg_scheduler_state), \\\n",
    "    (best_hit_model_state, best_hit_optimizer_state, best_hit_scheduler_state) = results\n",
    "\n",
    "timestamp = datetime.now().strftime(\"%Y%m%d-%H%M%S\")\n",
    "os.makedirs(f\"models/fpmc/{timestamp}/\", exist_ok=True)\n",
    "\n",
    "torch.save(best_ncdg_model_state, f\"models/fpmc/{timestamp}/best_ncdg_model_state.pt\")\n",
    "torch.save(best_hit_model_state, f\"models/fpmc/{timestamp}/best_hit_model_state.pt\")\n",
    "\n",
    "torch.save(best_ncdg_optimizer_state, f\"models/fpmc/{timestamp}/best_ncdg_optimizer_state.pt\")\n",
    "torch.save(best_hit_optimizer_state, f\"models/fpmc/{timestamp}/best_hit_optimizer_state.pt\")\n",
    "\n",
    "torch.save(best_ncdg_scheduler_state, f\"models/fpmc/{timestamp}/best_ncdg_scheduler_state.pt\")\n",
    "torch.save(best_hit_scheduler_state, f\"models/fpmc/{timestamp}/best_hit_scheduler_state.pt\")"
   ]
  },
  {
   "cell_type": "code",
   "execution_count": 15,
   "metadata": {},
   "outputs": [
    {
     "data": {
      "application/vnd.plotly.v1+json": {
       "config": {
        "plotlyServerURL": "https://plot.ly"
       },
       "data": [
        {
         "type": "scatter",
         "x": [
          1,
          2,
          3,
          4,
          5,
          6,
          7,
          8,
          9,
          10,
          11,
          12,
          13,
          14,
          15,
          16,
          17,
          18,
          19,
          20,
          21,
          22,
          23,
          24,
          25,
          26,
          27,
          28,
          29,
          30,
          31,
          32,
          33,
          34,
          35,
          36,
          37,
          38,
          39,
          40,
          41,
          42,
          43,
          44,
          45,
          46,
          47,
          48,
          49,
          50
         ],
         "y": [
          1245.0302224755287,
          508.22072975337505,
          202.8829703554511,
          86.81735373660922,
          45.25421985052526,
          27.75917279999703,
          18.994784350972623,
          14.12294717784971,
          11.185417529195547,
          9.410912158433348,
          7.973535395227373,
          7.301392504712567,
          6.614603164140135,
          6.22239018487744,
          5.722462274134159,
          5.525588157004677,
          5.2559619068633765,
          5.093699749093503,
          5.0065897181630135,
          4.776186039438471,
          4.83679681760259,
          4.532973331923131,
          4.463970744109247,
          4.427065352152567,
          4.269646368629765,
          4.411803467664868,
          4.238481783948373,
          4.2187974926200695,
          4.1787665783194825,
          4.121540243620984,
          4.141243879799731,
          4.055955631425604,
          4.030561582068913,
          3.8812440324109048,
          3.8820283485692926,
          3.908208118053153,
          3.789374001440592,
          3.7368795288493857,
          3.7171607653726824,
          3.7231443164055236,
          3.688202006102074,
          3.747898850706406,
          3.673450099187903,
          3.613522163766902,
          3.568187231081538,
          3.5660313845146447,
          3.4460680633201264,
          3.3662514710449614,
          3.528619477758184,
          3.514753943658434
         ]
        }
       ],
       "layout": {
        "template": {
         "data": {
          "bar": [
           {
            "error_x": {
             "color": "#2a3f5f"
            },
            "error_y": {
             "color": "#2a3f5f"
            },
            "marker": {
             "line": {
              "color": "#E5ECF6",
              "width": 0.5
             },
             "pattern": {
              "fillmode": "overlay",
              "size": 10,
              "solidity": 0.2
             }
            },
            "type": "bar"
           }
          ],
          "barpolar": [
           {
            "marker": {
             "line": {
              "color": "#E5ECF6",
              "width": 0.5
             },
             "pattern": {
              "fillmode": "overlay",
              "size": 10,
              "solidity": 0.2
             }
            },
            "type": "barpolar"
           }
          ],
          "carpet": [
           {
            "aaxis": {
             "endlinecolor": "#2a3f5f",
             "gridcolor": "white",
             "linecolor": "white",
             "minorgridcolor": "white",
             "startlinecolor": "#2a3f5f"
            },
            "baxis": {
             "endlinecolor": "#2a3f5f",
             "gridcolor": "white",
             "linecolor": "white",
             "minorgridcolor": "white",
             "startlinecolor": "#2a3f5f"
            },
            "type": "carpet"
           }
          ],
          "choropleth": [
           {
            "colorbar": {
             "outlinewidth": 0,
             "ticks": ""
            },
            "type": "choropleth"
           }
          ],
          "contour": [
           {
            "colorbar": {
             "outlinewidth": 0,
             "ticks": ""
            },
            "colorscale": [
             [
              0,
              "#0d0887"
             ],
             [
              0.1111111111111111,
              "#46039f"
             ],
             [
              0.2222222222222222,
              "#7201a8"
             ],
             [
              0.3333333333333333,
              "#9c179e"
             ],
             [
              0.4444444444444444,
              "#bd3786"
             ],
             [
              0.5555555555555556,
              "#d8576b"
             ],
             [
              0.6666666666666666,
              "#ed7953"
             ],
             [
              0.7777777777777778,
              "#fb9f3a"
             ],
             [
              0.8888888888888888,
              "#fdca26"
             ],
             [
              1,
              "#f0f921"
             ]
            ],
            "type": "contour"
           }
          ],
          "contourcarpet": [
           {
            "colorbar": {
             "outlinewidth": 0,
             "ticks": ""
            },
            "type": "contourcarpet"
           }
          ],
          "heatmap": [
           {
            "colorbar": {
             "outlinewidth": 0,
             "ticks": ""
            },
            "colorscale": [
             [
              0,
              "#0d0887"
             ],
             [
              0.1111111111111111,
              "#46039f"
             ],
             [
              0.2222222222222222,
              "#7201a8"
             ],
             [
              0.3333333333333333,
              "#9c179e"
             ],
             [
              0.4444444444444444,
              "#bd3786"
             ],
             [
              0.5555555555555556,
              "#d8576b"
             ],
             [
              0.6666666666666666,
              "#ed7953"
             ],
             [
              0.7777777777777778,
              "#fb9f3a"
             ],
             [
              0.8888888888888888,
              "#fdca26"
             ],
             [
              1,
              "#f0f921"
             ]
            ],
            "type": "heatmap"
           }
          ],
          "heatmapgl": [
           {
            "colorbar": {
             "outlinewidth": 0,
             "ticks": ""
            },
            "colorscale": [
             [
              0,
              "#0d0887"
             ],
             [
              0.1111111111111111,
              "#46039f"
             ],
             [
              0.2222222222222222,
              "#7201a8"
             ],
             [
              0.3333333333333333,
              "#9c179e"
             ],
             [
              0.4444444444444444,
              "#bd3786"
             ],
             [
              0.5555555555555556,
              "#d8576b"
             ],
             [
              0.6666666666666666,
              "#ed7953"
             ],
             [
              0.7777777777777778,
              "#fb9f3a"
             ],
             [
              0.8888888888888888,
              "#fdca26"
             ],
             [
              1,
              "#f0f921"
             ]
            ],
            "type": "heatmapgl"
           }
          ],
          "histogram": [
           {
            "marker": {
             "pattern": {
              "fillmode": "overlay",
              "size": 10,
              "solidity": 0.2
             }
            },
            "type": "histogram"
           }
          ],
          "histogram2d": [
           {
            "colorbar": {
             "outlinewidth": 0,
             "ticks": ""
            },
            "colorscale": [
             [
              0,
              "#0d0887"
             ],
             [
              0.1111111111111111,
              "#46039f"
             ],
             [
              0.2222222222222222,
              "#7201a8"
             ],
             [
              0.3333333333333333,
              "#9c179e"
             ],
             [
              0.4444444444444444,
              "#bd3786"
             ],
             [
              0.5555555555555556,
              "#d8576b"
             ],
             [
              0.6666666666666666,
              "#ed7953"
             ],
             [
              0.7777777777777778,
              "#fb9f3a"
             ],
             [
              0.8888888888888888,
              "#fdca26"
             ],
             [
              1,
              "#f0f921"
             ]
            ],
            "type": "histogram2d"
           }
          ],
          "histogram2dcontour": [
           {
            "colorbar": {
             "outlinewidth": 0,
             "ticks": ""
            },
            "colorscale": [
             [
              0,
              "#0d0887"
             ],
             [
              0.1111111111111111,
              "#46039f"
             ],
             [
              0.2222222222222222,
              "#7201a8"
             ],
             [
              0.3333333333333333,
              "#9c179e"
             ],
             [
              0.4444444444444444,
              "#bd3786"
             ],
             [
              0.5555555555555556,
              "#d8576b"
             ],
             [
              0.6666666666666666,
              "#ed7953"
             ],
             [
              0.7777777777777778,
              "#fb9f3a"
             ],
             [
              0.8888888888888888,
              "#fdca26"
             ],
             [
              1,
              "#f0f921"
             ]
            ],
            "type": "histogram2dcontour"
           }
          ],
          "mesh3d": [
           {
            "colorbar": {
             "outlinewidth": 0,
             "ticks": ""
            },
            "type": "mesh3d"
           }
          ],
          "parcoords": [
           {
            "line": {
             "colorbar": {
              "outlinewidth": 0,
              "ticks": ""
             }
            },
            "type": "parcoords"
           }
          ],
          "pie": [
           {
            "automargin": true,
            "type": "pie"
           }
          ],
          "scatter": [
           {
            "fillpattern": {
             "fillmode": "overlay",
             "size": 10,
             "solidity": 0.2
            },
            "type": "scatter"
           }
          ],
          "scatter3d": [
           {
            "line": {
             "colorbar": {
              "outlinewidth": 0,
              "ticks": ""
             }
            },
            "marker": {
             "colorbar": {
              "outlinewidth": 0,
              "ticks": ""
             }
            },
            "type": "scatter3d"
           }
          ],
          "scattercarpet": [
           {
            "marker": {
             "colorbar": {
              "outlinewidth": 0,
              "ticks": ""
             }
            },
            "type": "scattercarpet"
           }
          ],
          "scattergeo": [
           {
            "marker": {
             "colorbar": {
              "outlinewidth": 0,
              "ticks": ""
             }
            },
            "type": "scattergeo"
           }
          ],
          "scattergl": [
           {
            "marker": {
             "colorbar": {
              "outlinewidth": 0,
              "ticks": ""
             }
            },
            "type": "scattergl"
           }
          ],
          "scattermapbox": [
           {
            "marker": {
             "colorbar": {
              "outlinewidth": 0,
              "ticks": ""
             }
            },
            "type": "scattermapbox"
           }
          ],
          "scatterpolar": [
           {
            "marker": {
             "colorbar": {
              "outlinewidth": 0,
              "ticks": ""
             }
            },
            "type": "scatterpolar"
           }
          ],
          "scatterpolargl": [
           {
            "marker": {
             "colorbar": {
              "outlinewidth": 0,
              "ticks": ""
             }
            },
            "type": "scatterpolargl"
           }
          ],
          "scatterternary": [
           {
            "marker": {
             "colorbar": {
              "outlinewidth": 0,
              "ticks": ""
             }
            },
            "type": "scatterternary"
           }
          ],
          "surface": [
           {
            "colorbar": {
             "outlinewidth": 0,
             "ticks": ""
            },
            "colorscale": [
             [
              0,
              "#0d0887"
             ],
             [
              0.1111111111111111,
              "#46039f"
             ],
             [
              0.2222222222222222,
              "#7201a8"
             ],
             [
              0.3333333333333333,
              "#9c179e"
             ],
             [
              0.4444444444444444,
              "#bd3786"
             ],
             [
              0.5555555555555556,
              "#d8576b"
             ],
             [
              0.6666666666666666,
              "#ed7953"
             ],
             [
              0.7777777777777778,
              "#fb9f3a"
             ],
             [
              0.8888888888888888,
              "#fdca26"
             ],
             [
              1,
              "#f0f921"
             ]
            ],
            "type": "surface"
           }
          ],
          "table": [
           {
            "cells": {
             "fill": {
              "color": "#EBF0F8"
             },
             "line": {
              "color": "white"
             }
            },
            "header": {
             "fill": {
              "color": "#C8D4E3"
             },
             "line": {
              "color": "white"
             }
            },
            "type": "table"
           }
          ]
         },
         "layout": {
          "annotationdefaults": {
           "arrowcolor": "#2a3f5f",
           "arrowhead": 0,
           "arrowwidth": 1
          },
          "autotypenumbers": "strict",
          "coloraxis": {
           "colorbar": {
            "outlinewidth": 0,
            "ticks": ""
           }
          },
          "colorscale": {
           "diverging": [
            [
             0,
             "#8e0152"
            ],
            [
             0.1,
             "#c51b7d"
            ],
            [
             0.2,
             "#de77ae"
            ],
            [
             0.3,
             "#f1b6da"
            ],
            [
             0.4,
             "#fde0ef"
            ],
            [
             0.5,
             "#f7f7f7"
            ],
            [
             0.6,
             "#e6f5d0"
            ],
            [
             0.7,
             "#b8e186"
            ],
            [
             0.8,
             "#7fbc41"
            ],
            [
             0.9,
             "#4d9221"
            ],
            [
             1,
             "#276419"
            ]
           ],
           "sequential": [
            [
             0,
             "#0d0887"
            ],
            [
             0.1111111111111111,
             "#46039f"
            ],
            [
             0.2222222222222222,
             "#7201a8"
            ],
            [
             0.3333333333333333,
             "#9c179e"
            ],
            [
             0.4444444444444444,
             "#bd3786"
            ],
            [
             0.5555555555555556,
             "#d8576b"
            ],
            [
             0.6666666666666666,
             "#ed7953"
            ],
            [
             0.7777777777777778,
             "#fb9f3a"
            ],
            [
             0.8888888888888888,
             "#fdca26"
            ],
            [
             1,
             "#f0f921"
            ]
           ],
           "sequentialminus": [
            [
             0,
             "#0d0887"
            ],
            [
             0.1111111111111111,
             "#46039f"
            ],
            [
             0.2222222222222222,
             "#7201a8"
            ],
            [
             0.3333333333333333,
             "#9c179e"
            ],
            [
             0.4444444444444444,
             "#bd3786"
            ],
            [
             0.5555555555555556,
             "#d8576b"
            ],
            [
             0.6666666666666666,
             "#ed7953"
            ],
            [
             0.7777777777777778,
             "#fb9f3a"
            ],
            [
             0.8888888888888888,
             "#fdca26"
            ],
            [
             1,
             "#f0f921"
            ]
           ]
          },
          "colorway": [
           "#636efa",
           "#EF553B",
           "#00cc96",
           "#ab63fa",
           "#FFA15A",
           "#19d3f3",
           "#FF6692",
           "#B6E880",
           "#FF97FF",
           "#FECB52"
          ],
          "font": {
           "color": "#2a3f5f"
          },
          "geo": {
           "bgcolor": "white",
           "lakecolor": "white",
           "landcolor": "#E5ECF6",
           "showlakes": true,
           "showland": true,
           "subunitcolor": "white"
          },
          "hoverlabel": {
           "align": "left"
          },
          "hovermode": "closest",
          "mapbox": {
           "style": "light"
          },
          "paper_bgcolor": "white",
          "plot_bgcolor": "#E5ECF6",
          "polar": {
           "angularaxis": {
            "gridcolor": "white",
            "linecolor": "white",
            "ticks": ""
           },
           "bgcolor": "#E5ECF6",
           "radialaxis": {
            "gridcolor": "white",
            "linecolor": "white",
            "ticks": ""
           }
          },
          "scene": {
           "xaxis": {
            "backgroundcolor": "#E5ECF6",
            "gridcolor": "white",
            "gridwidth": 2,
            "linecolor": "white",
            "showbackground": true,
            "ticks": "",
            "zerolinecolor": "white"
           },
           "yaxis": {
            "backgroundcolor": "#E5ECF6",
            "gridcolor": "white",
            "gridwidth": 2,
            "linecolor": "white",
            "showbackground": true,
            "ticks": "",
            "zerolinecolor": "white"
           },
           "zaxis": {
            "backgroundcolor": "#E5ECF6",
            "gridcolor": "white",
            "gridwidth": 2,
            "linecolor": "white",
            "showbackground": true,
            "ticks": "",
            "zerolinecolor": "white"
           }
          },
          "shapedefaults": {
           "line": {
            "color": "#2a3f5f"
           }
          },
          "ternary": {
           "aaxis": {
            "gridcolor": "white",
            "linecolor": "white",
            "ticks": ""
           },
           "baxis": {
            "gridcolor": "white",
            "linecolor": "white",
            "ticks": ""
           },
           "bgcolor": "#E5ECF6",
           "caxis": {
            "gridcolor": "white",
            "linecolor": "white",
            "ticks": ""
           }
          },
          "title": {
           "x": 0.05
          },
          "xaxis": {
           "automargin": true,
           "gridcolor": "white",
           "linecolor": "white",
           "ticks": "",
           "title": {
            "standoff": 15
           },
           "zerolinecolor": "white",
           "zerolinewidth": 2
          },
          "yaxis": {
           "automargin": true,
           "gridcolor": "white",
           "linecolor": "white",
           "ticks": "",
           "title": {
            "standoff": 15
           },
           "zerolinecolor": "white",
           "zerolinewidth": 2
          }
         }
        },
        "title": {
         "text": "Loss"
        },
        "xaxis": {
         "title": {
          "text": "Epoch"
         },
         "type": "log"
        },
        "yaxis": {
         "title": {
          "text": "Loss"
         }
        }
       }
      }
     },
     "metadata": {},
     "output_type": "display_data"
    },
    {
     "data": {
      "application/vnd.plotly.v1+json": {
       "config": {
        "plotlyServerURL": "https://plot.ly"
       },
       "data": [
        {
         "type": "scatter",
         "x": [
          1,
          2,
          3,
          4,
          5,
          6,
          7,
          8,
          9,
          10,
          11,
          12,
          13,
          14,
          15,
          16,
          17,
          18,
          19,
          20,
          21,
          22,
          23,
          24,
          25,
          26,
          27,
          28,
          29,
          30,
          31,
          32,
          33,
          34,
          35,
          36,
          37,
          38,
          39,
          40,
          41,
          42,
          43,
          44,
          45,
          46,
          47,
          48,
          49,
          50
         ],
         "y": [
          0.1692911378531127,
          0.33721415938579924,
          0.4780033228602959,
          0.5490306955058897,
          0.6135485101189957,
          0.6201396951230648,
          0.636426527132658,
          0.6605339140357256,
          0.6396872614820345,
          0.6629572895767684,
          0.6634696134448975,
          0.650581867110397,
          0.6446544600601927,
          0.6540052690336129,
          0.6586835077729981,
          0.6661134947864339,
          0.6740622889926233,
          0.6734136447456865,
          0.6754774340945723,
          0.6783444884536726,
          0.6693035228008212,
          0.6679721969715583,
          0.6805321832619179,
          0.6683535645035137,
          0.6756840171587644,
          0.6682704110927014,
          0.664206068074397,
          0.6610047530870804,
          0.6789060546704102,
          0.6636879315483439,
          0.6661350100638475,
          0.6563145269182685,
          0.6704178494356611,
          0.6594353962184678,
          0.6743063987700583,
          0.6731007504674005,
          0.6787164654989812,
          0.6775202078417578,
          0.673699718711124,
          0.6768506152649697,
          0.6831319234224568,
          0.6746433335945882,
          0.6880850897117585,
          0.6980065266092644,
          0.6841775961918352,
          0.689285228483362,
          0.696204618473114,
          0.6972958871467662,
          0.6862913828480202,
          0.6923191475137307
         ]
        }
       ],
       "layout": {
        "template": {
         "data": {
          "bar": [
           {
            "error_x": {
             "color": "#2a3f5f"
            },
            "error_y": {
             "color": "#2a3f5f"
            },
            "marker": {
             "line": {
              "color": "#E5ECF6",
              "width": 0.5
             },
             "pattern": {
              "fillmode": "overlay",
              "size": 10,
              "solidity": 0.2
             }
            },
            "type": "bar"
           }
          ],
          "barpolar": [
           {
            "marker": {
             "line": {
              "color": "#E5ECF6",
              "width": 0.5
             },
             "pattern": {
              "fillmode": "overlay",
              "size": 10,
              "solidity": 0.2
             }
            },
            "type": "barpolar"
           }
          ],
          "carpet": [
           {
            "aaxis": {
             "endlinecolor": "#2a3f5f",
             "gridcolor": "white",
             "linecolor": "white",
             "minorgridcolor": "white",
             "startlinecolor": "#2a3f5f"
            },
            "baxis": {
             "endlinecolor": "#2a3f5f",
             "gridcolor": "white",
             "linecolor": "white",
             "minorgridcolor": "white",
             "startlinecolor": "#2a3f5f"
            },
            "type": "carpet"
           }
          ],
          "choropleth": [
           {
            "colorbar": {
             "outlinewidth": 0,
             "ticks": ""
            },
            "type": "choropleth"
           }
          ],
          "contour": [
           {
            "colorbar": {
             "outlinewidth": 0,
             "ticks": ""
            },
            "colorscale": [
             [
              0,
              "#0d0887"
             ],
             [
              0.1111111111111111,
              "#46039f"
             ],
             [
              0.2222222222222222,
              "#7201a8"
             ],
             [
              0.3333333333333333,
              "#9c179e"
             ],
             [
              0.4444444444444444,
              "#bd3786"
             ],
             [
              0.5555555555555556,
              "#d8576b"
             ],
             [
              0.6666666666666666,
              "#ed7953"
             ],
             [
              0.7777777777777778,
              "#fb9f3a"
             ],
             [
              0.8888888888888888,
              "#fdca26"
             ],
             [
              1,
              "#f0f921"
             ]
            ],
            "type": "contour"
           }
          ],
          "contourcarpet": [
           {
            "colorbar": {
             "outlinewidth": 0,
             "ticks": ""
            },
            "type": "contourcarpet"
           }
          ],
          "heatmap": [
           {
            "colorbar": {
             "outlinewidth": 0,
             "ticks": ""
            },
            "colorscale": [
             [
              0,
              "#0d0887"
             ],
             [
              0.1111111111111111,
              "#46039f"
             ],
             [
              0.2222222222222222,
              "#7201a8"
             ],
             [
              0.3333333333333333,
              "#9c179e"
             ],
             [
              0.4444444444444444,
              "#bd3786"
             ],
             [
              0.5555555555555556,
              "#d8576b"
             ],
             [
              0.6666666666666666,
              "#ed7953"
             ],
             [
              0.7777777777777778,
              "#fb9f3a"
             ],
             [
              0.8888888888888888,
              "#fdca26"
             ],
             [
              1,
              "#f0f921"
             ]
            ],
            "type": "heatmap"
           }
          ],
          "heatmapgl": [
           {
            "colorbar": {
             "outlinewidth": 0,
             "ticks": ""
            },
            "colorscale": [
             [
              0,
              "#0d0887"
             ],
             [
              0.1111111111111111,
              "#46039f"
             ],
             [
              0.2222222222222222,
              "#7201a8"
             ],
             [
              0.3333333333333333,
              "#9c179e"
             ],
             [
              0.4444444444444444,
              "#bd3786"
             ],
             [
              0.5555555555555556,
              "#d8576b"
             ],
             [
              0.6666666666666666,
              "#ed7953"
             ],
             [
              0.7777777777777778,
              "#fb9f3a"
             ],
             [
              0.8888888888888888,
              "#fdca26"
             ],
             [
              1,
              "#f0f921"
             ]
            ],
            "type": "heatmapgl"
           }
          ],
          "histogram": [
           {
            "marker": {
             "pattern": {
              "fillmode": "overlay",
              "size": 10,
              "solidity": 0.2
             }
            },
            "type": "histogram"
           }
          ],
          "histogram2d": [
           {
            "colorbar": {
             "outlinewidth": 0,
             "ticks": ""
            },
            "colorscale": [
             [
              0,
              "#0d0887"
             ],
             [
              0.1111111111111111,
              "#46039f"
             ],
             [
              0.2222222222222222,
              "#7201a8"
             ],
             [
              0.3333333333333333,
              "#9c179e"
             ],
             [
              0.4444444444444444,
              "#bd3786"
             ],
             [
              0.5555555555555556,
              "#d8576b"
             ],
             [
              0.6666666666666666,
              "#ed7953"
             ],
             [
              0.7777777777777778,
              "#fb9f3a"
             ],
             [
              0.8888888888888888,
              "#fdca26"
             ],
             [
              1,
              "#f0f921"
             ]
            ],
            "type": "histogram2d"
           }
          ],
          "histogram2dcontour": [
           {
            "colorbar": {
             "outlinewidth": 0,
             "ticks": ""
            },
            "colorscale": [
             [
              0,
              "#0d0887"
             ],
             [
              0.1111111111111111,
              "#46039f"
             ],
             [
              0.2222222222222222,
              "#7201a8"
             ],
             [
              0.3333333333333333,
              "#9c179e"
             ],
             [
              0.4444444444444444,
              "#bd3786"
             ],
             [
              0.5555555555555556,
              "#d8576b"
             ],
             [
              0.6666666666666666,
              "#ed7953"
             ],
             [
              0.7777777777777778,
              "#fb9f3a"
             ],
             [
              0.8888888888888888,
              "#fdca26"
             ],
             [
              1,
              "#f0f921"
             ]
            ],
            "type": "histogram2dcontour"
           }
          ],
          "mesh3d": [
           {
            "colorbar": {
             "outlinewidth": 0,
             "ticks": ""
            },
            "type": "mesh3d"
           }
          ],
          "parcoords": [
           {
            "line": {
             "colorbar": {
              "outlinewidth": 0,
              "ticks": ""
             }
            },
            "type": "parcoords"
           }
          ],
          "pie": [
           {
            "automargin": true,
            "type": "pie"
           }
          ],
          "scatter": [
           {
            "fillpattern": {
             "fillmode": "overlay",
             "size": 10,
             "solidity": 0.2
            },
            "type": "scatter"
           }
          ],
          "scatter3d": [
           {
            "line": {
             "colorbar": {
              "outlinewidth": 0,
              "ticks": ""
             }
            },
            "marker": {
             "colorbar": {
              "outlinewidth": 0,
              "ticks": ""
             }
            },
            "type": "scatter3d"
           }
          ],
          "scattercarpet": [
           {
            "marker": {
             "colorbar": {
              "outlinewidth": 0,
              "ticks": ""
             }
            },
            "type": "scattercarpet"
           }
          ],
          "scattergeo": [
           {
            "marker": {
             "colorbar": {
              "outlinewidth": 0,
              "ticks": ""
             }
            },
            "type": "scattergeo"
           }
          ],
          "scattergl": [
           {
            "marker": {
             "colorbar": {
              "outlinewidth": 0,
              "ticks": ""
             }
            },
            "type": "scattergl"
           }
          ],
          "scattermapbox": [
           {
            "marker": {
             "colorbar": {
              "outlinewidth": 0,
              "ticks": ""
             }
            },
            "type": "scattermapbox"
           }
          ],
          "scatterpolar": [
           {
            "marker": {
             "colorbar": {
              "outlinewidth": 0,
              "ticks": ""
             }
            },
            "type": "scatterpolar"
           }
          ],
          "scatterpolargl": [
           {
            "marker": {
             "colorbar": {
              "outlinewidth": 0,
              "ticks": ""
             }
            },
            "type": "scatterpolargl"
           }
          ],
          "scatterternary": [
           {
            "marker": {
             "colorbar": {
              "outlinewidth": 0,
              "ticks": ""
             }
            },
            "type": "scatterternary"
           }
          ],
          "surface": [
           {
            "colorbar": {
             "outlinewidth": 0,
             "ticks": ""
            },
            "colorscale": [
             [
              0,
              "#0d0887"
             ],
             [
              0.1111111111111111,
              "#46039f"
             ],
             [
              0.2222222222222222,
              "#7201a8"
             ],
             [
              0.3333333333333333,
              "#9c179e"
             ],
             [
              0.4444444444444444,
              "#bd3786"
             ],
             [
              0.5555555555555556,
              "#d8576b"
             ],
             [
              0.6666666666666666,
              "#ed7953"
             ],
             [
              0.7777777777777778,
              "#fb9f3a"
             ],
             [
              0.8888888888888888,
              "#fdca26"
             ],
             [
              1,
              "#f0f921"
             ]
            ],
            "type": "surface"
           }
          ],
          "table": [
           {
            "cells": {
             "fill": {
              "color": "#EBF0F8"
             },
             "line": {
              "color": "white"
             }
            },
            "header": {
             "fill": {
              "color": "#C8D4E3"
             },
             "line": {
              "color": "white"
             }
            },
            "type": "table"
           }
          ]
         },
         "layout": {
          "annotationdefaults": {
           "arrowcolor": "#2a3f5f",
           "arrowhead": 0,
           "arrowwidth": 1
          },
          "autotypenumbers": "strict",
          "coloraxis": {
           "colorbar": {
            "outlinewidth": 0,
            "ticks": ""
           }
          },
          "colorscale": {
           "diverging": [
            [
             0,
             "#8e0152"
            ],
            [
             0.1,
             "#c51b7d"
            ],
            [
             0.2,
             "#de77ae"
            ],
            [
             0.3,
             "#f1b6da"
            ],
            [
             0.4,
             "#fde0ef"
            ],
            [
             0.5,
             "#f7f7f7"
            ],
            [
             0.6,
             "#e6f5d0"
            ],
            [
             0.7,
             "#b8e186"
            ],
            [
             0.8,
             "#7fbc41"
            ],
            [
             0.9,
             "#4d9221"
            ],
            [
             1,
             "#276419"
            ]
           ],
           "sequential": [
            [
             0,
             "#0d0887"
            ],
            [
             0.1111111111111111,
             "#46039f"
            ],
            [
             0.2222222222222222,
             "#7201a8"
            ],
            [
             0.3333333333333333,
             "#9c179e"
            ],
            [
             0.4444444444444444,
             "#bd3786"
            ],
            [
             0.5555555555555556,
             "#d8576b"
            ],
            [
             0.6666666666666666,
             "#ed7953"
            ],
            [
             0.7777777777777778,
             "#fb9f3a"
            ],
            [
             0.8888888888888888,
             "#fdca26"
            ],
            [
             1,
             "#f0f921"
            ]
           ],
           "sequentialminus": [
            [
             0,
             "#0d0887"
            ],
            [
             0.1111111111111111,
             "#46039f"
            ],
            [
             0.2222222222222222,
             "#7201a8"
            ],
            [
             0.3333333333333333,
             "#9c179e"
            ],
            [
             0.4444444444444444,
             "#bd3786"
            ],
            [
             0.5555555555555556,
             "#d8576b"
            ],
            [
             0.6666666666666666,
             "#ed7953"
            ],
            [
             0.7777777777777778,
             "#fb9f3a"
            ],
            [
             0.8888888888888888,
             "#fdca26"
            ],
            [
             1,
             "#f0f921"
            ]
           ]
          },
          "colorway": [
           "#636efa",
           "#EF553B",
           "#00cc96",
           "#ab63fa",
           "#FFA15A",
           "#19d3f3",
           "#FF6692",
           "#B6E880",
           "#FF97FF",
           "#FECB52"
          ],
          "font": {
           "color": "#2a3f5f"
          },
          "geo": {
           "bgcolor": "white",
           "lakecolor": "white",
           "landcolor": "#E5ECF6",
           "showlakes": true,
           "showland": true,
           "subunitcolor": "white"
          },
          "hoverlabel": {
           "align": "left"
          },
          "hovermode": "closest",
          "mapbox": {
           "style": "light"
          },
          "paper_bgcolor": "white",
          "plot_bgcolor": "#E5ECF6",
          "polar": {
           "angularaxis": {
            "gridcolor": "white",
            "linecolor": "white",
            "ticks": ""
           },
           "bgcolor": "#E5ECF6",
           "radialaxis": {
            "gridcolor": "white",
            "linecolor": "white",
            "ticks": ""
           }
          },
          "scene": {
           "xaxis": {
            "backgroundcolor": "#E5ECF6",
            "gridcolor": "white",
            "gridwidth": 2,
            "linecolor": "white",
            "showbackground": true,
            "ticks": "",
            "zerolinecolor": "white"
           },
           "yaxis": {
            "backgroundcolor": "#E5ECF6",
            "gridcolor": "white",
            "gridwidth": 2,
            "linecolor": "white",
            "showbackground": true,
            "ticks": "",
            "zerolinecolor": "white"
           },
           "zaxis": {
            "backgroundcolor": "#E5ECF6",
            "gridcolor": "white",
            "gridwidth": 2,
            "linecolor": "white",
            "showbackground": true,
            "ticks": "",
            "zerolinecolor": "white"
           }
          },
          "shapedefaults": {
           "line": {
            "color": "#2a3f5f"
           }
          },
          "ternary": {
           "aaxis": {
            "gridcolor": "white",
            "linecolor": "white",
            "ticks": ""
           },
           "baxis": {
            "gridcolor": "white",
            "linecolor": "white",
            "ticks": ""
           },
           "bgcolor": "#E5ECF6",
           "caxis": {
            "gridcolor": "white",
            "linecolor": "white",
            "ticks": ""
           }
          },
          "title": {
           "x": 0.05
          },
          "xaxis": {
           "automargin": true,
           "gridcolor": "white",
           "linecolor": "white",
           "ticks": "",
           "title": {
            "standoff": 15
           },
           "zerolinecolor": "white",
           "zerolinewidth": 2
          },
          "yaxis": {
           "automargin": true,
           "gridcolor": "white",
           "linecolor": "white",
           "ticks": "",
           "title": {
            "standoff": 15
           },
           "zerolinecolor": "white",
           "zerolinewidth": 2
          }
         }
        },
        "title": {
         "text": "NDCG@10"
        },
        "xaxis": {
         "title": {
          "text": "Epoch"
         }
        },
        "yaxis": {
         "title": {
          "text": "NDCG@10"
         }
        }
       }
      }
     },
     "metadata": {},
     "output_type": "display_data"
    },
    {
     "data": {
      "application/vnd.plotly.v1+json": {
       "config": {
        "plotlyServerURL": "https://plot.ly"
       },
       "data": [
        {
         "type": "scatter",
         "x": [
          1,
          2,
          3,
          4,
          5,
          6,
          7,
          8,
          9,
          10,
          11,
          12,
          13,
          14,
          15,
          16,
          17,
          18,
          19,
          20,
          21,
          22,
          23,
          24,
          25,
          26,
          27,
          28,
          29,
          30,
          31,
          32,
          33,
          34,
          35,
          36,
          37,
          38,
          39,
          40,
          41,
          42,
          43,
          44,
          45,
          46,
          47,
          48,
          49,
          50
         ],
         "y": [
          0.30063291139240506,
          0.47151898734177217,
          0.6012658227848101,
          0.6930379746835443,
          0.7341772151898734,
          0.75,
          0.7531645569620253,
          0.7626582278481012,
          0.7689873417721519,
          0.7753164556962026,
          0.7721518987341772,
          0.7626582278481012,
          0.7658227848101266,
          0.7753164556962026,
          0.7721518987341772,
          0.7753164556962026,
          0.7784810126582279,
          0.7689873417721519,
          0.7721518987341772,
          0.7563291139240507,
          0.7753164556962026,
          0.7784810126582279,
          0.7848101265822784,
          0.7689873417721519,
          0.7721518987341772,
          0.7816455696202531,
          0.7689873417721519,
          0.7658227848101266,
          0.7753164556962026,
          0.7658227848101266,
          0.7721518987341772,
          0.7753164556962026,
          0.7848101265822784,
          0.7816455696202531,
          0.7879746835443038,
          0.7753164556962026,
          0.7943037974683544,
          0.7784810126582279,
          0.7816455696202531,
          0.7879746835443038,
          0.7816455696202531,
          0.7784810126582279,
          0.7879746835443038,
          0.7879746835443038,
          0.7943037974683544,
          0.7974683544303798,
          0.7911392405063291,
          0.7911392405063291,
          0.7943037974683544,
          0.7974683544303798
         ]
        }
       ],
       "layout": {
        "template": {
         "data": {
          "bar": [
           {
            "error_x": {
             "color": "#2a3f5f"
            },
            "error_y": {
             "color": "#2a3f5f"
            },
            "marker": {
             "line": {
              "color": "#E5ECF6",
              "width": 0.5
             },
             "pattern": {
              "fillmode": "overlay",
              "size": 10,
              "solidity": 0.2
             }
            },
            "type": "bar"
           }
          ],
          "barpolar": [
           {
            "marker": {
             "line": {
              "color": "#E5ECF6",
              "width": 0.5
             },
             "pattern": {
              "fillmode": "overlay",
              "size": 10,
              "solidity": 0.2
             }
            },
            "type": "barpolar"
           }
          ],
          "carpet": [
           {
            "aaxis": {
             "endlinecolor": "#2a3f5f",
             "gridcolor": "white",
             "linecolor": "white",
             "minorgridcolor": "white",
             "startlinecolor": "#2a3f5f"
            },
            "baxis": {
             "endlinecolor": "#2a3f5f",
             "gridcolor": "white",
             "linecolor": "white",
             "minorgridcolor": "white",
             "startlinecolor": "#2a3f5f"
            },
            "type": "carpet"
           }
          ],
          "choropleth": [
           {
            "colorbar": {
             "outlinewidth": 0,
             "ticks": ""
            },
            "type": "choropleth"
           }
          ],
          "contour": [
           {
            "colorbar": {
             "outlinewidth": 0,
             "ticks": ""
            },
            "colorscale": [
             [
              0,
              "#0d0887"
             ],
             [
              0.1111111111111111,
              "#46039f"
             ],
             [
              0.2222222222222222,
              "#7201a8"
             ],
             [
              0.3333333333333333,
              "#9c179e"
             ],
             [
              0.4444444444444444,
              "#bd3786"
             ],
             [
              0.5555555555555556,
              "#d8576b"
             ],
             [
              0.6666666666666666,
              "#ed7953"
             ],
             [
              0.7777777777777778,
              "#fb9f3a"
             ],
             [
              0.8888888888888888,
              "#fdca26"
             ],
             [
              1,
              "#f0f921"
             ]
            ],
            "type": "contour"
           }
          ],
          "contourcarpet": [
           {
            "colorbar": {
             "outlinewidth": 0,
             "ticks": ""
            },
            "type": "contourcarpet"
           }
          ],
          "heatmap": [
           {
            "colorbar": {
             "outlinewidth": 0,
             "ticks": ""
            },
            "colorscale": [
             [
              0,
              "#0d0887"
             ],
             [
              0.1111111111111111,
              "#46039f"
             ],
             [
              0.2222222222222222,
              "#7201a8"
             ],
             [
              0.3333333333333333,
              "#9c179e"
             ],
             [
              0.4444444444444444,
              "#bd3786"
             ],
             [
              0.5555555555555556,
              "#d8576b"
             ],
             [
              0.6666666666666666,
              "#ed7953"
             ],
             [
              0.7777777777777778,
              "#fb9f3a"
             ],
             [
              0.8888888888888888,
              "#fdca26"
             ],
             [
              1,
              "#f0f921"
             ]
            ],
            "type": "heatmap"
           }
          ],
          "heatmapgl": [
           {
            "colorbar": {
             "outlinewidth": 0,
             "ticks": ""
            },
            "colorscale": [
             [
              0,
              "#0d0887"
             ],
             [
              0.1111111111111111,
              "#46039f"
             ],
             [
              0.2222222222222222,
              "#7201a8"
             ],
             [
              0.3333333333333333,
              "#9c179e"
             ],
             [
              0.4444444444444444,
              "#bd3786"
             ],
             [
              0.5555555555555556,
              "#d8576b"
             ],
             [
              0.6666666666666666,
              "#ed7953"
             ],
             [
              0.7777777777777778,
              "#fb9f3a"
             ],
             [
              0.8888888888888888,
              "#fdca26"
             ],
             [
              1,
              "#f0f921"
             ]
            ],
            "type": "heatmapgl"
           }
          ],
          "histogram": [
           {
            "marker": {
             "pattern": {
              "fillmode": "overlay",
              "size": 10,
              "solidity": 0.2
             }
            },
            "type": "histogram"
           }
          ],
          "histogram2d": [
           {
            "colorbar": {
             "outlinewidth": 0,
             "ticks": ""
            },
            "colorscale": [
             [
              0,
              "#0d0887"
             ],
             [
              0.1111111111111111,
              "#46039f"
             ],
             [
              0.2222222222222222,
              "#7201a8"
             ],
             [
              0.3333333333333333,
              "#9c179e"
             ],
             [
              0.4444444444444444,
              "#bd3786"
             ],
             [
              0.5555555555555556,
              "#d8576b"
             ],
             [
              0.6666666666666666,
              "#ed7953"
             ],
             [
              0.7777777777777778,
              "#fb9f3a"
             ],
             [
              0.8888888888888888,
              "#fdca26"
             ],
             [
              1,
              "#f0f921"
             ]
            ],
            "type": "histogram2d"
           }
          ],
          "histogram2dcontour": [
           {
            "colorbar": {
             "outlinewidth": 0,
             "ticks": ""
            },
            "colorscale": [
             [
              0,
              "#0d0887"
             ],
             [
              0.1111111111111111,
              "#46039f"
             ],
             [
              0.2222222222222222,
              "#7201a8"
             ],
             [
              0.3333333333333333,
              "#9c179e"
             ],
             [
              0.4444444444444444,
              "#bd3786"
             ],
             [
              0.5555555555555556,
              "#d8576b"
             ],
             [
              0.6666666666666666,
              "#ed7953"
             ],
             [
              0.7777777777777778,
              "#fb9f3a"
             ],
             [
              0.8888888888888888,
              "#fdca26"
             ],
             [
              1,
              "#f0f921"
             ]
            ],
            "type": "histogram2dcontour"
           }
          ],
          "mesh3d": [
           {
            "colorbar": {
             "outlinewidth": 0,
             "ticks": ""
            },
            "type": "mesh3d"
           }
          ],
          "parcoords": [
           {
            "line": {
             "colorbar": {
              "outlinewidth": 0,
              "ticks": ""
             }
            },
            "type": "parcoords"
           }
          ],
          "pie": [
           {
            "automargin": true,
            "type": "pie"
           }
          ],
          "scatter": [
           {
            "fillpattern": {
             "fillmode": "overlay",
             "size": 10,
             "solidity": 0.2
            },
            "type": "scatter"
           }
          ],
          "scatter3d": [
           {
            "line": {
             "colorbar": {
              "outlinewidth": 0,
              "ticks": ""
             }
            },
            "marker": {
             "colorbar": {
              "outlinewidth": 0,
              "ticks": ""
             }
            },
            "type": "scatter3d"
           }
          ],
          "scattercarpet": [
           {
            "marker": {
             "colorbar": {
              "outlinewidth": 0,
              "ticks": ""
             }
            },
            "type": "scattercarpet"
           }
          ],
          "scattergeo": [
           {
            "marker": {
             "colorbar": {
              "outlinewidth": 0,
              "ticks": ""
             }
            },
            "type": "scattergeo"
           }
          ],
          "scattergl": [
           {
            "marker": {
             "colorbar": {
              "outlinewidth": 0,
              "ticks": ""
             }
            },
            "type": "scattergl"
           }
          ],
          "scattermapbox": [
           {
            "marker": {
             "colorbar": {
              "outlinewidth": 0,
              "ticks": ""
             }
            },
            "type": "scattermapbox"
           }
          ],
          "scatterpolar": [
           {
            "marker": {
             "colorbar": {
              "outlinewidth": 0,
              "ticks": ""
             }
            },
            "type": "scatterpolar"
           }
          ],
          "scatterpolargl": [
           {
            "marker": {
             "colorbar": {
              "outlinewidth": 0,
              "ticks": ""
             }
            },
            "type": "scatterpolargl"
           }
          ],
          "scatterternary": [
           {
            "marker": {
             "colorbar": {
              "outlinewidth": 0,
              "ticks": ""
             }
            },
            "type": "scatterternary"
           }
          ],
          "surface": [
           {
            "colorbar": {
             "outlinewidth": 0,
             "ticks": ""
            },
            "colorscale": [
             [
              0,
              "#0d0887"
             ],
             [
              0.1111111111111111,
              "#46039f"
             ],
             [
              0.2222222222222222,
              "#7201a8"
             ],
             [
              0.3333333333333333,
              "#9c179e"
             ],
             [
              0.4444444444444444,
              "#bd3786"
             ],
             [
              0.5555555555555556,
              "#d8576b"
             ],
             [
              0.6666666666666666,
              "#ed7953"
             ],
             [
              0.7777777777777778,
              "#fb9f3a"
             ],
             [
              0.8888888888888888,
              "#fdca26"
             ],
             [
              1,
              "#f0f921"
             ]
            ],
            "type": "surface"
           }
          ],
          "table": [
           {
            "cells": {
             "fill": {
              "color": "#EBF0F8"
             },
             "line": {
              "color": "white"
             }
            },
            "header": {
             "fill": {
              "color": "#C8D4E3"
             },
             "line": {
              "color": "white"
             }
            },
            "type": "table"
           }
          ]
         },
         "layout": {
          "annotationdefaults": {
           "arrowcolor": "#2a3f5f",
           "arrowhead": 0,
           "arrowwidth": 1
          },
          "autotypenumbers": "strict",
          "coloraxis": {
           "colorbar": {
            "outlinewidth": 0,
            "ticks": ""
           }
          },
          "colorscale": {
           "diverging": [
            [
             0,
             "#8e0152"
            ],
            [
             0.1,
             "#c51b7d"
            ],
            [
             0.2,
             "#de77ae"
            ],
            [
             0.3,
             "#f1b6da"
            ],
            [
             0.4,
             "#fde0ef"
            ],
            [
             0.5,
             "#f7f7f7"
            ],
            [
             0.6,
             "#e6f5d0"
            ],
            [
             0.7,
             "#b8e186"
            ],
            [
             0.8,
             "#7fbc41"
            ],
            [
             0.9,
             "#4d9221"
            ],
            [
             1,
             "#276419"
            ]
           ],
           "sequential": [
            [
             0,
             "#0d0887"
            ],
            [
             0.1111111111111111,
             "#46039f"
            ],
            [
             0.2222222222222222,
             "#7201a8"
            ],
            [
             0.3333333333333333,
             "#9c179e"
            ],
            [
             0.4444444444444444,
             "#bd3786"
            ],
            [
             0.5555555555555556,
             "#d8576b"
            ],
            [
             0.6666666666666666,
             "#ed7953"
            ],
            [
             0.7777777777777778,
             "#fb9f3a"
            ],
            [
             0.8888888888888888,
             "#fdca26"
            ],
            [
             1,
             "#f0f921"
            ]
           ],
           "sequentialminus": [
            [
             0,
             "#0d0887"
            ],
            [
             0.1111111111111111,
             "#46039f"
            ],
            [
             0.2222222222222222,
             "#7201a8"
            ],
            [
             0.3333333333333333,
             "#9c179e"
            ],
            [
             0.4444444444444444,
             "#bd3786"
            ],
            [
             0.5555555555555556,
             "#d8576b"
            ],
            [
             0.6666666666666666,
             "#ed7953"
            ],
            [
             0.7777777777777778,
             "#fb9f3a"
            ],
            [
             0.8888888888888888,
             "#fdca26"
            ],
            [
             1,
             "#f0f921"
            ]
           ]
          },
          "colorway": [
           "#636efa",
           "#EF553B",
           "#00cc96",
           "#ab63fa",
           "#FFA15A",
           "#19d3f3",
           "#FF6692",
           "#B6E880",
           "#FF97FF",
           "#FECB52"
          ],
          "font": {
           "color": "#2a3f5f"
          },
          "geo": {
           "bgcolor": "white",
           "lakecolor": "white",
           "landcolor": "#E5ECF6",
           "showlakes": true,
           "showland": true,
           "subunitcolor": "white"
          },
          "hoverlabel": {
           "align": "left"
          },
          "hovermode": "closest",
          "mapbox": {
           "style": "light"
          },
          "paper_bgcolor": "white",
          "plot_bgcolor": "#E5ECF6",
          "polar": {
           "angularaxis": {
            "gridcolor": "white",
            "linecolor": "white",
            "ticks": ""
           },
           "bgcolor": "#E5ECF6",
           "radialaxis": {
            "gridcolor": "white",
            "linecolor": "white",
            "ticks": ""
           }
          },
          "scene": {
           "xaxis": {
            "backgroundcolor": "#E5ECF6",
            "gridcolor": "white",
            "gridwidth": 2,
            "linecolor": "white",
            "showbackground": true,
            "ticks": "",
            "zerolinecolor": "white"
           },
           "yaxis": {
            "backgroundcolor": "#E5ECF6",
            "gridcolor": "white",
            "gridwidth": 2,
            "linecolor": "white",
            "showbackground": true,
            "ticks": "",
            "zerolinecolor": "white"
           },
           "zaxis": {
            "backgroundcolor": "#E5ECF6",
            "gridcolor": "white",
            "gridwidth": 2,
            "linecolor": "white",
            "showbackground": true,
            "ticks": "",
            "zerolinecolor": "white"
           }
          },
          "shapedefaults": {
           "line": {
            "color": "#2a3f5f"
           }
          },
          "ternary": {
           "aaxis": {
            "gridcolor": "white",
            "linecolor": "white",
            "ticks": ""
           },
           "baxis": {
            "gridcolor": "white",
            "linecolor": "white",
            "ticks": ""
           },
           "bgcolor": "#E5ECF6",
           "caxis": {
            "gridcolor": "white",
            "linecolor": "white",
            "ticks": ""
           }
          },
          "title": {
           "x": 0.05
          },
          "xaxis": {
           "automargin": true,
           "gridcolor": "white",
           "linecolor": "white",
           "ticks": "",
           "title": {
            "standoff": 15
           },
           "zerolinecolor": "white",
           "zerolinewidth": 2
          },
          "yaxis": {
           "automargin": true,
           "gridcolor": "white",
           "linecolor": "white",
           "ticks": "",
           "title": {
            "standoff": 15
           },
           "zerolinecolor": "white",
           "zerolinewidth": 2
          }
         }
        },
        "title": {
         "text": "HIT@10"
        },
        "xaxis": {
         "title": {
          "text": "Epoch"
         }
        },
        "yaxis": {
         "title": {
          "text": "Epoch@10"
         }
        }
       }
      }
     },
     "metadata": {},
     "output_type": "display_data"
    }
   ],
   "source": [
    "fig = go.Figure(layout = go.Layout(title=\"Loss\"))\n",
    "fig.add_scatter(x=np.arange(len(losses)) + 1, y=losses)\n",
    "fig.update_xaxes(title_text='Epoch', type='log')\n",
    "fig.update_yaxes(title_text='Loss')\n",
    "display(fig)\n",
    "\n",
    "fig = go.Figure(layout = go.Layout(title=\"NDCG@\" + str(EVAL_K)))\n",
    "fig.add_scatter(x=np.arange(len(ndcgs)) + 1, y=ndcgs)\n",
    "fig.update_xaxes(title_text='Epoch')\n",
    "fig.update_yaxes(title_text='NDCG@' + str(EVAL_K))\n",
    "display(fig)\n",
    "\n",
    "fig = go.Figure(layout = go.Layout(title=\"HIT@\" + str(EVAL_K)))\n",
    "fig.add_scatter(x=np.arange(len(hits)) + 1, y=hits)\n",
    "fig.update_xaxes(title_text='Epoch')\n",
    "fig.update_yaxes(title_text='Epoch@' + str(EVAL_K))\n",
    "display(fig)"
   ]
  },
  {
   "cell_type": "code",
   "execution_count": 18,
   "metadata": {},
   "outputs": [
    {
     "data": {
      "application/vnd.jupyter.widget-view+json": {
       "model_id": "54699ba90cb34f688cbf2c6096dd3ef4",
       "version_major": 2,
       "version_minor": 0
      },
      "text/plain": [
       "Evaluating Validation:   0%|          | 0/79 [00:00<?, ?it/s]"
      ]
     },
     "metadata": {},
     "output_type": "display_data"
    },
    {
     "name": "stdout",
     "output_type": "stream",
     "text": [
      "Test NDCG@10: 0.6906\n",
      "Test HIT@10: 0.7975\n"
     ]
    }
   ],
   "source": [
    "# Load the best model during training\n",
    "test_model = FPMC(num_users=max_uid + 1, num_items=max_iid + 1, k_UI=K_UI, k_IL=K_IL)\n",
    "test_model.to(PYTORCH_DEVICE)\n",
    "test_model.load_state_dict(best_ncdg_model_state)\n",
    "\n",
    "ndcg, hit = evaluate_model(test_model, test_dataloader, device=PYTORCH_DEVICE)\n",
    "\n",
    "print(f\"Test NDCG@{EVAL_K}: {ndcg:.4f}\")\n",
    "print(f\"Test HIT@{EVAL_K}: {hit:.4f}\")"
   ]
  }
 ],
 "metadata": {
  "kernelspec": {
   "display_name": "recsys-tp",
   "language": "python",
   "name": "python3"
  },
  "language_info": {
   "codemirror_mode": {
    "name": "ipython",
    "version": 3
   },
   "file_extension": ".py",
   "mimetype": "text/x-python",
   "name": "python",
   "nbconvert_exporter": "python",
   "pygments_lexer": "ipython3",
   "version": "3.12.7"
  }
 },
 "nbformat": 4,
 "nbformat_minor": 2
}
