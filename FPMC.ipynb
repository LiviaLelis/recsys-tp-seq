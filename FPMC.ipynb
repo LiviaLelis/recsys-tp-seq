{
 "cells": [
  {
   "cell_type": "code",
   "execution_count": 1,
   "metadata": {},
   "outputs": [],
   "source": [
    "import os\n",
    "import sys\n",
    "import copy\n",
    "import time\n",
    "import random\n",
    "import warnings\n",
    "from datetime import timedelta, datetime\n",
    "\n",
    "import numpy as np\n",
    "import polars as pl\n",
    "import plotly.graph_objects as go\n",
    "\n",
    "from tqdm.notebook import tqdm\n",
    "from IPython.display import display\n",
    "from ipywidgets.widgets import HBox\n",
    "\n",
    "import torch\n",
    "from torch import nn, optim, cuda\n",
    "from torch.utils.data import DataLoader, Dataset"
   ]
  },
  {
   "cell_type": "code",
   "execution_count": 2,
   "metadata": {
    "ExecuteTime": {
     "end_time": "2024-11-27T06:17:50.493822Z",
     "start_time": "2024-11-27T06:17:50.491338Z"
    }
   },
   "outputs": [],
   "source": [
    "ROOT_PATH = './'\n",
    "DRIVE_PATH = 'Colab/RecSys-TP'\n",
    "\n",
    "# When on Colab, use Google Drive as the root path to persist and load data\n",
    "if 'google.colab' in sys.modules:\n",
    "    from google.colab import drive, output\n",
    "\n",
    "    output.enable_custom_widget_manager()\n",
    "\n",
    "    drive.mount('/content/drive')\n",
    "    ROOT_PATH = os.path.join('/content/drive/My Drive/', DRIVE_PATH)\n",
    "    os.makedirs(ROOT_PATH, exist_ok=True)\n",
    "    os.chdir(ROOT_PATH)"
   ]
  },
  {
   "cell_type": "code",
   "execution_count": 3,
   "metadata": {
    "ExecuteTime": {
     "end_time": "2024-11-27T06:17:50.630098Z",
     "start_time": "2024-11-27T06:17:50.606662Z"
    }
   },
   "outputs": [
    {
     "name": "stdout",
     "output_type": "stream",
     "text": [
      "Using cuda device for PyTorch\n"
     ]
    }
   ],
   "source": [
    "\n",
    "RANDOM_SEED = 1984\n",
    "\n",
    "BATCH_SIZE = 1024\n",
    "K_UI = 64\n",
    "K_IL = 64\n",
    "\n",
    "TOTAL_EPOCHS = 50\n",
    "\n",
    "BETA_1 = 0.9\n",
    "BETA_2 = 0.999\n",
    "EPS = 1e-8\n",
    "AMSGRAD = False\n",
    "WEIGHT_DECAY = 0.01\n",
    "\n",
    "WARMUP_RATIO = 0.05\n",
    "# LEARNING_RATE = 0.04\n",
    "# USE_SCHEDULER = True\n",
    "\n",
    "LEARNING_RATE = 0.005\n",
    "USE_SCHEDULER = False\n",
    "\n",
    "EVAL_K = 10\n",
    "\n",
    "PYTORCH_DEVICE = 'cpu'\n",
    "\n",
    "# Use NVIDIA GPU if available\n",
    "if cuda.is_available():\n",
    "    PYTORCH_DEVICE = 'cuda'\n",
    "\n",
    "# Use Apple Metal backend if available\n",
    "if torch.backends.mps.is_available():\n",
    "    if not torch.backends.mps.is_built():\n",
    "        print(\"Your device supports MPS but it is not installed. Checkout https://developer.apple.com/metal/pytorch/\")\n",
    "    else:\n",
    "        PYTORCH_DEVICE = 'mps'\n",
    "\n",
    "print(f\"Using {PYTORCH_DEVICE} device for PyTorch\")"
   ]
  },
  {
   "cell_type": "code",
   "execution_count": 4,
   "metadata": {
    "ExecuteTime": {
     "end_time": "2024-11-27T06:17:50.659716Z",
     "start_time": "2024-11-27T06:17:50.641183Z"
    }
   },
   "outputs": [],
   "source": [
    "\n",
    "random.seed(RANDOM_SEED)\n",
    "np.random.seed(RANDOM_SEED)\n",
    "torch.manual_seed(RANDOM_SEED)\n",
    "torch.mps.manual_seed(RANDOM_SEED)\n",
    "torch.cuda.manual_seed_all(RANDOM_SEED)\n",
    "torch.backends.cudnn.deterministic = True\n",
    "torch.backends.cudnn.benchmark = False"
   ]
  },
  {
   "cell_type": "code",
   "execution_count": 5,
   "metadata": {
    "ExecuteTime": {
     "end_time": "2024-11-27T06:17:55.863262Z",
     "start_time": "2024-11-27T06:17:50.666508Z"
    }
   },
   "outputs": [
    {
     "data": {
      "text/html": [
       "<div><style>\n",
       ".dataframe > thead > tr,\n",
       ".dataframe > tbody > tr {\n",
       "  text-align: right;\n",
       "  white-space: pre-wrap;\n",
       "}\n",
       "</style>\n",
       "<small>shape: (10, 5)</small><table border=\"1\" class=\"dataframe\"><thead><tr><th>user_id</th><th>gender</th><th>age</th><th>country</th><th>registered</th></tr><tr><td>str</td><td>str</td><td>i64</td><td>str</td><td>str</td></tr></thead><tbody><tr><td>&quot;user_000809&quot;</td><td>&quot;m&quot;</td><td>null</td><td>&quot;Finland&quot;</td><td>&quot;Jun&nbsp;8,&nbsp;2005&quot;</td></tr><tr><td>&quot;user_000112&quot;</td><td>&quot;f&quot;</td><td>30</td><td>&quot;Turkey&quot;</td><td>&quot;Mar&nbsp;25,&nbsp;2006&quot;</td></tr><tr><td>&quot;user_000086&quot;</td><td>&quot;f&quot;</td><td>27</td><td>null</td><td>&quot;Sep&nbsp;21,&nbsp;2007&quot;</td></tr><tr><td>&quot;user_000403&quot;</td><td>&quot;f&quot;</td><td>null</td><td>&quot;United&nbsp;States&quot;</td><td>&quot;May&nbsp;17,&nbsp;2006&quot;</td></tr><tr><td>&quot;user_000863&quot;</td><td>null</td><td>null</td><td>&quot;United&nbsp;Kingdom&quot;</td><td>&quot;Oct&nbsp;15,&nbsp;2004&quot;</td></tr><tr><td>&quot;user_000720&quot;</td><td>&quot;f&quot;</td><td>null</td><td>&quot;Norway&quot;</td><td>&quot;Jun&nbsp;29,&nbsp;2007&quot;</td></tr><tr><td>&quot;user_000985&quot;</td><td>&quot;f&quot;</td><td>null</td><td>&quot;Australia&quot;</td><td>&quot;May&nbsp;22,&nbsp;2006&quot;</td></tr><tr><td>&quot;user_000487&quot;</td><td>&quot;m&quot;</td><td>null</td><td>&quot;Netherlands&quot;</td><td>&quot;Mar&nbsp;8,&nbsp;2006&quot;</td></tr><tr><td>&quot;user_000049&quot;</td><td>null</td><td>null</td><td>null</td><td>&quot;Jan&nbsp;11,&nbsp;2006&quot;</td></tr><tr><td>&quot;user_000184&quot;</td><td>&quot;f&quot;</td><td>23</td><td>&quot;Canada&quot;</td><td>&quot;Jun&nbsp;3,&nbsp;2006&quot;</td></tr></tbody></table></div>"
      ],
      "text/plain": [
       "shape: (10, 5)\n",
       "┌─────────────┬────────┬──────┬────────────────┬──────────────┐\n",
       "│ user_id     ┆ gender ┆ age  ┆ country        ┆ registered   │\n",
       "│ ---         ┆ ---    ┆ ---  ┆ ---            ┆ ---          │\n",
       "│ str         ┆ str    ┆ i64  ┆ str            ┆ str          │\n",
       "╞═════════════╪════════╪══════╪════════════════╪══════════════╡\n",
       "│ user_000809 ┆ m      ┆ null ┆ Finland        ┆ Jun 8, 2005  │\n",
       "│ user_000112 ┆ f      ┆ 30   ┆ Turkey         ┆ Mar 25, 2006 │\n",
       "│ user_000086 ┆ f      ┆ 27   ┆ null           ┆ Sep 21, 2007 │\n",
       "│ user_000403 ┆ f      ┆ null ┆ United States  ┆ May 17, 2006 │\n",
       "│ user_000863 ┆ null   ┆ null ┆ United Kingdom ┆ Oct 15, 2004 │\n",
       "│ user_000720 ┆ f      ┆ null ┆ Norway         ┆ Jun 29, 2007 │\n",
       "│ user_000985 ┆ f      ┆ null ┆ Australia      ┆ May 22, 2006 │\n",
       "│ user_000487 ┆ m      ┆ null ┆ Netherlands    ┆ Mar 8, 2006  │\n",
       "│ user_000049 ┆ null   ┆ null ┆ null           ┆ Jan 11, 2006 │\n",
       "│ user_000184 ┆ f      ┆ 23   ┆ Canada         ┆ Jun 3, 2006  │\n",
       "└─────────────┴────────┴──────┴────────────────┴──────────────┘"
      ]
     },
     "metadata": {},
     "output_type": "display_data"
    },
    {
     "data": {
      "text/html": [
       "<div><style>\n",
       ".dataframe > thead > tr,\n",
       ".dataframe > tbody > tr {\n",
       "  text-align: right;\n",
       "  white-space: pre-wrap;\n",
       "}\n",
       "</style>\n",
       "<small>shape: (10, 6)</small><table border=\"1\" class=\"dataframe\"><thead><tr><th>user_id</th><th>timestamp</th><th>artist_id</th><th>artist_name</th><th>track_id</th><th>track_name</th></tr><tr><td>str</td><td>str</td><td>str</td><td>str</td><td>str</td><td>str</td></tr></thead><tbody><tr><td>&quot;user_000806&quot;</td><td>&quot;2008-08-09T19:28:14Z&quot;</td><td>&quot;fc61dd75-880b-44ba-9ba9-c7b643…</td><td>&quot;Prefuse&nbsp;73&quot;</td><td>&quot;60f3a1c9-e756-4a48-8a3e-c44140…</td><td>&quot;Altoid&nbsp;Addiction&nbsp;(Interlude)&quot;</td></tr><tr><td>&quot;user_000108&quot;</td><td>&quot;2007-12-19T17:14:42Z&quot;</td><td>&quot;6ae51665-8261-4ae5-883f-189965…</td><td>&quot;Filter&quot;</td><td>&quot;784f24f6-6fa7-44e7-81a5-a7b592…</td><td>&quot;The&nbsp;Best&nbsp;Things&quot;</td></tr><tr><td>&quot;user_000079&quot;</td><td>&quot;2008-12-01T00:09:19Z&quot;</td><td>&quot;48896dee-a985-424d-9849-84802f…</td><td>&quot;Johnny&nbsp;Mathis&quot;</td><td>&quot;e77a742f-eb2c-417c-9b48-45e404…</td><td>&quot;Can&#x27;T&nbsp;Get&nbsp;Out&nbsp;Of&nbsp;This&nbsp;Mood&quot;</td></tr><tr><td>&quot;user_000407&quot;</td><td>&quot;2008-05-20T15:37:40Z&quot;</td><td>&quot;8bfac288-ccc5-448d-9573-c33ea2…</td><td>&quot;Red&nbsp;Hot&nbsp;Chili&nbsp;Peppers&quot;</td><td>&quot;7a3e8796-a0b3-4999-b268-4e2d47…</td><td>&quot;Otherside&quot;</td></tr><tr><td>&quot;user_000861&quot;</td><td>&quot;2008-02-12T22:25:17Z&quot;</td><td>&quot;31aa6f87-8d00-4ae9-a5cc-6d7eee…</td><td>&quot;Alphaville&quot;</td><td>&quot;f11939cf-9ad1-45b8-b927-a89b00…</td><td>&quot;Big&nbsp;In&nbsp;Japan&quot;</td></tr><tr><td>&quot;user_000728&quot;</td><td>&quot;2009-05-21T19:04:24Z&quot;</td><td>&quot;41c86965-305a-482d-bc1e-2daeca…</td><td>&quot;Skankfunk&quot;</td><td>&quot;e48c9ed7-34ac-44aa-ab5a-3d792a…</td><td>&quot;Melo-Pole&quot;</td></tr><tr><td>&quot;user_000990&quot;</td><td>&quot;2009-03-31T10:20:28Z&quot;</td><td>&quot;1bc69a93-8020-4e07-8b05-0b6331…</td><td>&quot;The&nbsp;Cliks&quot;</td><td>&quot;f89ba590-0226-4c65-b5c5-4b69ee…</td><td>&quot;Complicated&quot;</td></tr><tr><td>&quot;user_000174&quot;</td><td>&quot;2005-05-03T18:42:12Z&quot;</td><td>&quot;fc178247-53b6-4702-ad77-546cb0…</td><td>&quot;The&nbsp;Exposures&quot;</td><td>&quot;b222a53c-3168-43e5-a40d-65e95a…</td><td>&quot;Sake&nbsp;Rock&quot;</td></tr><tr><td>&quot;user_000412&quot;</td><td>&quot;2005-11-04T22:08:08Z&quot;</td><td>&quot;86e736b4-93e2-40ff-9e1c-fb7c63…</td><td>&quot;Barenaked&nbsp;Ladies&quot;</td><td>&quot;05b34070-535a-4b92-aa9b-ecb97c…</td><td>&quot;Call&nbsp;And&nbsp;Answer&quot;</td></tr><tr><td>&quot;user_000112&quot;</td><td>&quot;2007-12-11T01:00:05Z&quot;</td><td>&quot;fc63a914-272d-4b95-9221-61adcc…</td><td>&quot;Gal&nbsp;Costa&quot;</td><td>&quot;08345bf4-f7b1-40ff-98c3-21b34c…</td><td>&quot;Estrada&nbsp;Do&nbsp;Sol&quot;</td></tr></tbody></table></div>"
      ],
      "text/plain": [
       "shape: (10, 6)\n",
       "┌─────────────┬────────────────┬────────────────┬────────────────┬────────────────┬────────────────┐\n",
       "│ user_id     ┆ timestamp      ┆ artist_id      ┆ artist_name    ┆ track_id       ┆ track_name     │\n",
       "│ ---         ┆ ---            ┆ ---            ┆ ---            ┆ ---            ┆ ---            │\n",
       "│ str         ┆ str            ┆ str            ┆ str            ┆ str            ┆ str            │\n",
       "╞═════════════╪════════════════╪════════════════╪════════════════╪════════════════╪════════════════╡\n",
       "│ user_000806 ┆ 2008-08-09T19: ┆ fc61dd75-880b- ┆ Prefuse 73     ┆ 60f3a1c9-e756- ┆ Altoid         │\n",
       "│             ┆ 28:14Z         ┆ 44ba-9ba9-c7b6 ┆                ┆ 4a48-8a3e-c441 ┆ Addiction      │\n",
       "│             ┆                ┆ 43…            ┆                ┆ 40…            ┆ (Interlude)    │\n",
       "│ user_000108 ┆ 2007-12-19T17: ┆ 6ae51665-8261- ┆ Filter         ┆ 784f24f6-6fa7- ┆ The Best       │\n",
       "│             ┆ 14:42Z         ┆ 4ae5-883f-1899 ┆                ┆ 44e7-81a5-a7b5 ┆ Things         │\n",
       "│             ┆                ┆ 65…            ┆                ┆ 92…            ┆                │\n",
       "│ user_000079 ┆ 2008-12-01T00: ┆ 48896dee-a985- ┆ Johnny Mathis  ┆ e77a742f-eb2c- ┆ Can'T Get Out  │\n",
       "│             ┆ 09:19Z         ┆ 424d-9849-8480 ┆                ┆ 417c-9b48-45e4 ┆ Of This Mood   │\n",
       "│             ┆                ┆ 2f…            ┆                ┆ 04…            ┆                │\n",
       "│ user_000407 ┆ 2008-05-20T15: ┆ 8bfac288-ccc5- ┆ Red Hot Chili  ┆ 7a3e8796-a0b3- ┆ Otherside      │\n",
       "│             ┆ 37:40Z         ┆ 448d-9573-c33e ┆ Peppers        ┆ 4999-b268-4e2d ┆                │\n",
       "│             ┆                ┆ a2…            ┆                ┆ 47…            ┆                │\n",
       "│ user_000861 ┆ 2008-02-12T22: ┆ 31aa6f87-8d00- ┆ Alphaville     ┆ f11939cf-9ad1- ┆ Big In Japan   │\n",
       "│             ┆ 25:17Z         ┆ 4ae9-a5cc-6d7e ┆                ┆ 45b8-b927-a89b ┆                │\n",
       "│             ┆                ┆ ee…            ┆                ┆ 00…            ┆                │\n",
       "│ user_000728 ┆ 2009-05-21T19: ┆ 41c86965-305a- ┆ Skankfunk      ┆ e48c9ed7-34ac- ┆ Melo-Pole      │\n",
       "│             ┆ 04:24Z         ┆ 482d-bc1e-2dae ┆                ┆ 44aa-ab5a-3d79 ┆                │\n",
       "│             ┆                ┆ ca…            ┆                ┆ 2a…            ┆                │\n",
       "│ user_000990 ┆ 2009-03-31T10: ┆ 1bc69a93-8020- ┆ The Cliks      ┆ f89ba590-0226- ┆ Complicated    │\n",
       "│             ┆ 20:28Z         ┆ 4e07-8b05-0b63 ┆                ┆ 4c65-b5c5-4b69 ┆                │\n",
       "│             ┆                ┆ 31…            ┆                ┆ ee…            ┆                │\n",
       "│ user_000174 ┆ 2005-05-03T18: ┆ fc178247-53b6- ┆ The Exposures  ┆ b222a53c-3168- ┆ Sake Rock      │\n",
       "│             ┆ 42:12Z         ┆ 4702-ad77-546c ┆                ┆ 43e5-a40d-65e9 ┆                │\n",
       "│             ┆                ┆ b0…            ┆                ┆ 5a…            ┆                │\n",
       "│ user_000412 ┆ 2005-11-04T22: ┆ 86e736b4-93e2- ┆ Barenaked      ┆ 05b34070-535a- ┆ Call And       │\n",
       "│             ┆ 08:08Z         ┆ 40ff-9e1c-fb7c ┆ Ladies         ┆ 4b92-aa9b-ecb9 ┆ Answer         │\n",
       "│             ┆                ┆ 63…            ┆                ┆ 7c…            ┆                │\n",
       "│ user_000112 ┆ 2007-12-11T01: ┆ fc63a914-272d- ┆ Gal Costa      ┆ 08345bf4-f7b1- ┆ Estrada Do Sol │\n",
       "│             ┆ 00:05Z         ┆ 4b95-9221-61ad ┆                ┆ 40ff-98c3-21b3 ┆                │\n",
       "│             ┆                ┆ cc…            ┆                ┆ 4c…            ┆                │\n",
       "└─────────────┴────────────────┴────────────────┴────────────────┴────────────────┴────────────────┘"
      ]
     },
     "metadata": {},
     "output_type": "display_data"
    }
   ],
   "source": [
    "# Carrega os dados do dataset (http://ocelma.net/MusicRecommendationDataset/lastfm-1K.html)\n",
    "user_profiles = pl.read_csv(\"./data/lastfm-dataset-1K/userid-profile.tsv\", separator=\"\\t\")\n",
    "user_interactions = pl.read_csv(\"./data/lastfm-dataset-1K/userid-timestamp-artid-artname-traid-traname.tsv\",\n",
    "                                separator=\"\\t\", has_header=False, quote_char=None)\n",
    "\n",
    "# Renomeia as colunas\n",
    "user_profiles.columns = [\"user_id\", \"gender\", \"age\", \"country\", \"registered\"]\n",
    "user_interactions.columns = [\"user_id\", \"timestamp\", \"artist_id\", \"artist_name\", \"track_id\", \"track_name\"]\n",
    "\n",
    "# Descarta linhas com valores nulos nas iterações\n",
    "user_interactions = user_interactions.drop_nulls()\n",
    "\n",
    "display(user_profiles.sample(10, seed=RANDOM_SEED))\n",
    "display(user_interactions.sample(10, seed=RANDOM_SEED))"
   ]
  },
  {
   "cell_type": "code",
   "execution_count": 6,
   "metadata": {
    "ExecuteTime": {
     "end_time": "2024-11-27T06:18:00.306055Z",
     "start_time": "2024-11-27T06:17:55.871541Z"
    }
   },
   "outputs": [
    {
     "data": {
      "text/html": [
       "<div><style>\n",
       ".dataframe > thead > tr,\n",
       ".dataframe > tbody > tr {\n",
       "  text-align: right;\n",
       "  white-space: pre-wrap;\n",
       "}\n",
       "</style>\n",
       "<small>shape: (10, 3)</small><table border=\"1\" class=\"dataframe\"><thead><tr><th>uid</th><th>iid</th><th>ts</th></tr><tr><td>i64</td><td>i64</td><td>datetime[μs]</td></tr></thead><tbody><tr><td>1</td><td>570607</td><td>2006-03-29&nbsp;02:55:44</td></tr><tr><td>1</td><td>843348</td><td>2006-03-29&nbsp;03:05:06</td></tr><tr><td>1</td><td>10213</td><td>2006-03-29&nbsp;03:09:48</td></tr><tr><td>1</td><td>621866</td><td>2006-03-29&nbsp;03:14:19</td></tr><tr><td>1</td><td>146424</td><td>2006-03-29&nbsp;03:18:26</td></tr><tr><td>1</td><td>461811</td><td>2006-03-29&nbsp;03:21:47</td></tr><tr><td>1</td><td>197049</td><td>2006-03-29&nbsp;03:25:19</td></tr><tr><td>1</td><td>43955</td><td>2006-03-29&nbsp;03:28:40</td></tr><tr><td>1</td><td>4774</td><td>2006-03-29&nbsp;03:32:41</td></tr><tr><td>1</td><td>958671</td><td>2006-03-29&nbsp;03:36:53</td></tr></tbody></table></div>"
      ],
      "text/plain": [
       "shape: (10, 3)\n",
       "┌─────┬────────┬─────────────────────┐\n",
       "│ uid ┆ iid    ┆ ts                  │\n",
       "│ --- ┆ ---    ┆ ---                 │\n",
       "│ i64 ┆ i64    ┆ datetime[μs]        │\n",
       "╞═════╪════════╪═════════════════════╡\n",
       "│ 1   ┆ 570607 ┆ 2006-03-29 02:55:44 │\n",
       "│ 1   ┆ 843348 ┆ 2006-03-29 03:05:06 │\n",
       "│ 1   ┆ 10213  ┆ 2006-03-29 03:09:48 │\n",
       "│ 1   ┆ 621866 ┆ 2006-03-29 03:14:19 │\n",
       "│ 1   ┆ 146424 ┆ 2006-03-29 03:18:26 │\n",
       "│ 1   ┆ 461811 ┆ 2006-03-29 03:21:47 │\n",
       "│ 1   ┆ 197049 ┆ 2006-03-29 03:25:19 │\n",
       "│ 1   ┆ 43955  ┆ 2006-03-29 03:28:40 │\n",
       "│ 1   ┆ 4774   ┆ 2006-03-29 03:32:41 │\n",
       "│ 1   ┆ 958671 ┆ 2006-03-29 03:36:53 │\n",
       "└─────┴────────┴─────────────────────┘"
      ]
     },
     "metadata": {},
     "output_type": "display_data"
    }
   ],
   "source": [
    "# Cria um mapeamento dos IDs para números\n",
    "item_ids = user_interactions['track_id'].unique().to_list()\n",
    "user_ids = user_interactions['user_id'].unique().to_list()\n",
    "\n",
    "item_id_index = {id: i + 1 for i, id in enumerate(item_ids)}\n",
    "item_id_index_rev = {v: k for k, v in item_id_index.items()}\n",
    "\n",
    "user_id_index = {id: i + 1 for i, id in enumerate(user_ids)}\n",
    "user_id_index_rev = {v: k for k, v in user_id_index.items()}\n",
    "\n",
    "# Aplica as transformações no dataframe\n",
    "dataset = user_interactions.select(\n",
    "    pl.col('user_id').replace_strict(user_id_index).alias('uid'),\n",
    "    pl.col('track_id').replace_strict(item_id_index).alias('iid'),\n",
    "    pl.col('timestamp').cast(pl.Datetime).alias('ts')\n",
    ").sort('uid', 'ts')\n",
    "\n",
    "max_uid = dataset['uid'].max()\n",
    "max_iid = dataset['iid'].max()\n",
    "\n",
    "display(dataset.head(10))"
   ]
  },
  {
   "cell_type": "code",
   "execution_count": 7,
   "metadata": {
    "ExecuteTime": {
     "end_time": "2024-11-27T06:18:01.179400Z",
     "start_time": "2024-11-27T06:18:00.732445Z"
    }
   },
   "outputs": [
    {
     "data": {
      "text/html": [
       "<div><style>\n",
       ".dataframe > thead > tr,\n",
       ".dataframe > tbody > tr {\n",
       "  text-align: right;\n",
       "  white-space: pre-wrap;\n",
       "}\n",
       "</style>\n",
       "<small>shape: (16_982_280, 4)</small><table border=\"1\" class=\"dataframe\"><thead><tr><th>uid</th><th>iid</th><th>ts</th><th>sid</th></tr><tr><td>i64</td><td>i64</td><td>datetime[μs]</td><td>u32</td></tr></thead><tbody><tr><td>1</td><td>570607</td><td>2006-03-29&nbsp;02:55:44</td><td>1</td></tr><tr><td>1</td><td>843348</td><td>2006-03-29&nbsp;03:05:06</td><td>1</td></tr><tr><td>1</td><td>10213</td><td>2006-03-29&nbsp;03:09:48</td><td>1</td></tr><tr><td>1</td><td>621866</td><td>2006-03-29&nbsp;03:14:19</td><td>1</td></tr><tr><td>1</td><td>146424</td><td>2006-03-29&nbsp;03:18:26</td><td>1</td></tr><tr><td>&hellip;</td><td>&hellip;</td><td>&hellip;</td><td>&hellip;</td></tr><tr><td>992</td><td>93655</td><td>2008-04-15&nbsp;07:14:30</td><td>899897</td></tr><tr><td>992</td><td>778256</td><td>2008-04-15&nbsp;07:19:47</td><td>899897</td></tr><tr><td>992</td><td>509236</td><td>2008-04-15&nbsp;07:22:15</td><td>899897</td></tr><tr><td>992</td><td>829278</td><td>2008-04-15&nbsp;07:25:24</td><td>899897</td></tr><tr><td>992</td><td>565152</td><td>2009-06-12&nbsp;17:55:29</td><td>899898</td></tr></tbody></table></div>"
      ],
      "text/plain": [
       "shape: (16_982_280, 4)\n",
       "┌─────┬────────┬─────────────────────┬────────┐\n",
       "│ uid ┆ iid    ┆ ts                  ┆ sid    │\n",
       "│ --- ┆ ---    ┆ ---                 ┆ ---    │\n",
       "│ i64 ┆ i64    ┆ datetime[μs]        ┆ u32    │\n",
       "╞═════╪════════╪═════════════════════╪════════╡\n",
       "│ 1   ┆ 570607 ┆ 2006-03-29 02:55:44 ┆ 1      │\n",
       "│ 1   ┆ 843348 ┆ 2006-03-29 03:05:06 ┆ 1      │\n",
       "│ 1   ┆ 10213  ┆ 2006-03-29 03:09:48 ┆ 1      │\n",
       "│ 1   ┆ 621866 ┆ 2006-03-29 03:14:19 ┆ 1      │\n",
       "│ 1   ┆ 146424 ┆ 2006-03-29 03:18:26 ┆ 1      │\n",
       "│ …   ┆ …      ┆ …                   ┆ …      │\n",
       "│ 992 ┆ 93655  ┆ 2008-04-15 07:14:30 ┆ 899897 │\n",
       "│ 992 ┆ 778256 ┆ 2008-04-15 07:19:47 ┆ 899897 │\n",
       "│ 992 ┆ 509236 ┆ 2008-04-15 07:22:15 ┆ 899897 │\n",
       "│ 992 ┆ 829278 ┆ 2008-04-15 07:25:24 ┆ 899897 │\n",
       "│ 992 ┆ 565152 ┆ 2009-06-12 17:55:29 ┆ 899898 │\n",
       "└─────┴────────┴─────────────────────┴────────┘"
      ]
     },
     "metadata": {},
     "output_type": "display_data"
    }
   ],
   "source": [
    "threshold = timedelta(minutes=30)\n",
    "\n",
    "# Marca cada música como se ela representa ou não o início de uma nova sessão\n",
    "new_session_col = dataset.group_by('uid') \\\n",
    "    .agg(\n",
    "    # Separa por usuário (uma sessão é de um usuário)\n",
    "    pl.col('iid'),\n",
    "\n",
    "    # Computa a diferença entre a música atual e a anterior, se essa \n",
    "    # diferença for nula ou maior igual ao nosso limite de tempo,\n",
    "    # então é um início de sessão.\n",
    "    (pl.col('ts').diff().fill_null(threshold) >= threshold).alias('start'),\n",
    "    # Expande as duas listas simultaneamente para que voltemos ao formato inicial\n",
    ").explode('iid', 'start')['start']\n",
    "\n",
    "# Agora, para criar um id para cada sessão, vamos usar a função cum_sum (isso \n",
    "# funciona pois nossos dados estão ordenados por usuário e timestamp, \n",
    "# respectivamente)\n",
    "dataset_with_session = dataset.with_columns(new_session_col.cum_sum().alias('sid'))\n",
    "\n",
    "display(dataset_with_session)"
   ]
  },
  {
   "cell_type": "code",
   "execution_count": 8,
   "metadata": {
    "ExecuteTime": {
     "end_time": "2024-11-27T06:18:02.034685Z",
     "start_time": "2024-11-27T06:18:01.579343Z"
    }
   },
   "outputs": [
    {
     "data": {
      "text/html": [
       "<div><style>\n",
       ".dataframe > thead > tr,\n",
       ".dataframe > tbody > tr {\n",
       "  text-align: right;\n",
       "  white-space: pre-wrap;\n",
       "}\n",
       "</style>\n",
       "<small>shape: (5, 3)</small><table border=\"1\" class=\"dataframe\"><thead><tr><th>sid</th><th>uid</th><th>iids</th></tr><tr><td>u32</td><td>i64</td><td>list[i64]</td></tr></thead><tbody><tr><td>268732</td><td>311</td><td>[567546,&nbsp;944294,&nbsp;…&nbsp;744342]</td></tr><tr><td>486948</td><td>530</td><td>[55781,&nbsp;784265,&nbsp;…&nbsp;728559]</td></tr><tr><td>603578</td><td>675</td><td>[84336,&nbsp;960246,&nbsp;…&nbsp;542863]</td></tr><tr><td>728295</td><td>811</td><td>[651800,&nbsp;824581,&nbsp;…&nbsp;296711]</td></tr><tr><td>74830</td><td>93</td><td>[543635,&nbsp;69723,&nbsp;…&nbsp;319250]</td></tr></tbody></table></div>"
      ],
      "text/plain": [
       "shape: (5, 3)\n",
       "┌────────┬─────┬────────────────────────────┐\n",
       "│ sid    ┆ uid ┆ iids                       │\n",
       "│ ---    ┆ --- ┆ ---                        │\n",
       "│ u32    ┆ i64 ┆ list[i64]                  │\n",
       "╞════════╪═════╪════════════════════════════╡\n",
       "│ 268732 ┆ 311 ┆ [567546, 944294, … 744342] │\n",
       "│ 486948 ┆ 530 ┆ [55781, 784265, … 728559]  │\n",
       "│ 603578 ┆ 675 ┆ [84336, 960246, … 542863]  │\n",
       "│ 728295 ┆ 811 ┆ [651800, 824581, … 296711] │\n",
       "│ 74830  ┆ 93  ┆ [543635, 69723, … 319250]  │\n",
       "└────────┴─────┴────────────────────────────┘"
      ]
     },
     "metadata": {},
     "output_type": "display_data"
    },
    {
     "data": {
      "text/html": [
       "<div><style>\n",
       ".dataframe > thead > tr,\n",
       ".dataframe > tbody > tr {\n",
       "  text-align: right;\n",
       "  white-space: pre-wrap;\n",
       "}\n",
       "</style>\n",
       "<small>shape: (9, 2)</small><table border=\"1\" class=\"dataframe\"><thead><tr><th>statistic</th><th>value</th></tr><tr><td>str</td><td>f64</td></tr></thead><tbody><tr><td>&quot;count&quot;</td><td>899898.0</td></tr><tr><td>&quot;null_count&quot;</td><td>0.0</td></tr><tr><td>&quot;mean&quot;</td><td>18.871339</td></tr><tr><td>&quot;std&quot;</td><td>43.066011</td></tr><tr><td>&quot;min&quot;</td><td>1.0</td></tr><tr><td>&quot;25%&quot;</td><td>3.0</td></tr><tr><td>&quot;50%&quot;</td><td>9.0</td></tr><tr><td>&quot;75%&quot;</td><td>21.0</td></tr><tr><td>&quot;max&quot;</td><td>5435.0</td></tr></tbody></table></div>"
      ],
      "text/plain": [
       "shape: (9, 2)\n",
       "┌────────────┬───────────┐\n",
       "│ statistic  ┆ value     │\n",
       "│ ---        ┆ ---       │\n",
       "│ str        ┆ f64       │\n",
       "╞════════════╪═══════════╡\n",
       "│ count      ┆ 899898.0  │\n",
       "│ null_count ┆ 0.0       │\n",
       "│ mean       ┆ 18.871339 │\n",
       "│ std        ┆ 43.066011 │\n",
       "│ min        ┆ 1.0       │\n",
       "│ 25%        ┆ 3.0       │\n",
       "│ 50%        ┆ 9.0       │\n",
       "│ 75%        ┆ 21.0      │\n",
       "│ max        ┆ 5435.0    │\n",
       "└────────────┴───────────┘"
      ]
     },
     "metadata": {},
     "output_type": "display_data"
    }
   ],
   "source": [
    "# Agrupa as reproduções por sessão em um array\n",
    "dataset_grouped = dataset_with_session.group_by('sid', 'uid').agg(pl.col('iid').alias('iids'))\n",
    "display(dataset_grouped.head())\n",
    "\n",
    "# Imprime a distribuição do tamanho das sessões\n",
    "display(dataset_grouped['iids'].list.len().describe())\n",
    "\n",
    "# Reduz o número de amostras para reduzir o tempo de treinamento (ao custo de\n",
    "# uma redução na qualidade da base de dados) Seguiremos com 100k sessões das\n",
    "# ~900k presentes na base.\n",
    "dataset_grouped = dataset_grouped.sample(1e5, shuffle=True)"
   ]
  },
  {
   "cell_type": "code",
   "execution_count": 9,
   "metadata": {
    "ExecuteTime": {
     "end_time": "2024-11-27T06:18:03.611803Z",
     "start_time": "2024-11-27T06:18:02.391150Z"
    }
   },
   "outputs": [],
   "source": [
    "def gen_negative(iid: int) -> int:\n",
    "    global max_iid\n",
    "    while True:\n",
    "        negative = np.random.randint(1, max_iid)\n",
    "        if negative != iid:\n",
    "            return negative\n",
    "        \n",
    "# Para o FPMC, precisamos de tuplas do tipo (usuário, item anterior, próximo item real, próximo item negativo [gerado no dataset])\n",
    "def gen_data(uid: int, iids: list[int]) -> list[tuple[int, int, int]]:\n",
    "    data = []\n",
    "    for prev, nxt in zip(iids[:-1], iids[1:]):\n",
    "        data.append((uid, prev, nxt))\n",
    "    return data\n",
    "\n",
    "def train_slice(uid: int, data: list[int]) -> list[tuple[int, int, int]]:\n",
    "    if len(data) < 3:\n",
    "        return gen_data(uid, data)\n",
    "\n",
    "    return gen_data(uid, data[:-2])\n",
    "\n",
    "\n",
    "def validation_slice(uid: int, data: list[int]) -> list[tuple[int, int, int]]:\n",
    "    if len(data) < 3:\n",
    "        return []\n",
    "\n",
    "    return gen_data(uid, data[-3:-1])\n",
    "\n",
    "\n",
    "def test_slice(uid: int, data: list[int]) -> list[tuple[int, int, int]]:\n",
    "    if len(data) < 3:\n",
    "        return []\n",
    "\n",
    "    return gen_data(uid, data[-2:])\n",
    "\n",
    "def flatten(data: list[list[tuple[int, int, int]]]) -> list[tuple[int, int, int]]:\n",
    "    return [x for sublist in data for x in sublist]\n",
    "\n",
    "train_data: list[tuple[int, int, int]] = flatten([train_slice(uid, data.to_list()) for uid, data in\n",
    "                                                     zip(dataset_grouped['uid'], dataset_grouped['iids'])])\n",
    "validation_data: list[tuple[int, int, int]] = flatten([validation_slice(uid, data.to_list()) for uid, data in\n",
    "                                                                 zip(dataset_grouped['uid'], dataset_grouped['iids']) if len(data) > 2])\n",
    "test_data: list[tuple[int, int, int]] = flatten([validation_slice(uid, data.to_list()) for uid, data in\n",
    "                                                                      zip(dataset_grouped['uid'], dataset_grouped['iids']) if len(data) > 2])"
   ]
  },
  {
   "cell_type": "code",
   "execution_count": 10,
   "metadata": {
    "ExecuteTime": {
     "end_time": "2024-11-27T06:18:04.015473Z",
     "start_time": "2024-11-27T06:18:04.008390Z"
    }
   },
   "outputs": [],
   "source": [
    "sample_negatives = {}\n",
    "# Utilizado para avaliação/teste\n",
    "def get_or_generate_negatives(iid: int, sample_size: int = 100) -> list[int]:\n",
    "    global sample_negatives\n",
    "    if iid not in sample_negatives:\n",
    "        sample_negatives[iid] = np.random.randint(1, max_iid, size=sample_size)\n",
    "    return sample_negatives[iid]\n",
    "\n",
    "class FPMCTrainDataset(Dataset):\n",
    "    def __init__(self, data: list[tuple[int, int, int]]):\n",
    "        self.data = data\n",
    "\n",
    "    def __len__(self):\n",
    "        return len(self.data)\n",
    "\n",
    "    def __getitem__(self, index):\n",
    "        return *self.data[index], gen_negative(self.data[index][2])\n",
    "\n",
    "class FPMCEvalDataset(Dataset):\n",
    "    def __init__(self, data: list[tuple[int, int, int]]):\n",
    "        self.data = data\n",
    "\n",
    "    def __len__(self):\n",
    "        return len(self.data)\n",
    "\n",
    "    def __getitem__(self, index):\n",
    "        return *self.data[index], get_or_generate_negatives(self.data[index][2])\n",
    "\n",
    "train_dataloader = DataLoader(FPMCTrainDataset(train_data), batch_size=BATCH_SIZE, shuffle=True, num_workers=8)\n",
    "validation_dataloader = DataLoader(FPMCEvalDataset(validation_data), batch_size=BATCH_SIZE, shuffle=False, num_workers=2)\n",
    "test_dataloader = DataLoader(FPMCEvalDataset(test_data), batch_size=BATCH_SIZE, shuffle=False, num_workers=2)\n"
   ]
  },
  {
   "cell_type": "code",
   "execution_count": 11,
   "metadata": {
    "ExecuteTime": {
     "end_time": "2024-11-27T06:21:31.709652Z",
     "start_time": "2024-11-27T06:21:31.705165Z"
    }
   },
   "outputs": [],
   "source": [
    "class FPMC(nn.Module):\n",
    "    def __init__(self, num_users, num_items, k_UI=64, k_IL=64):\n",
    "        \"\"\"\n",
    "        Initializes the FPMC model.\n",
    "\n",
    "        Args:\n",
    "            num_users (int): The number of users in the dataset.\n",
    "            num_items (int): The number of items in the dataset.\n",
    "            k_UI (int, optional): The embedding dimension for the user embeddings. Defaults to 64.\n",
    "            k_IL (int, optional): The embedding dimension for the item embeddings. Defaults to 64.\n",
    "        \"\"\"\n",
    "        super(FPMC, self).__init__()\n",
    "        self.num_users = num_users\n",
    "        self.num_items = num_items\n",
    "        self.k_UI = k_UI\n",
    "        self.k_IL = k_IL\n",
    "        self.sqrt_kUI = k_UI ** 0.5\n",
    "        self.sqrt_kIL = k_IL ** 0.5\n",
    "        \n",
    "\n",
    "        self.IL = nn.Embedding(self.num_items, self.k_IL)\n",
    "        self.LI = nn.Embedding(self.num_items, self.k_IL)\n",
    "\n",
    "        self.UI = nn.Embedding(self.num_users, self.k_UI)\n",
    "        self.IU = nn.Embedding(self.num_items, self.k_UI)\n",
    "\n",
    "    def forward(self, uid, prev_iid, next_iid):\n",
    "        # O modelo é composto por dois componentes: MF e FMC\n",
    "        x_mf = torch.sum(self.UI(uid) * self.IU(next_iid), dim=1) / self.sqrt_kUI\n",
    "        x_fmc = torch.sum(self.IL(next_iid) * self.LI(prev_iid), dim=1) / self.sqrt_kIL\n",
    "        return x_mf + x_fmc\n",
    "\n",
    "\n",
    "class BPRLoss(nn.Module):\n",
    "    def __init__(self, gamma=1e-10):\n",
    "        super(BPRLoss, self).__init__()\n",
    "        self.gamma = gamma\n",
    "\n",
    "    def forward(self, pos_score: torch.Tensor, neg_score: torch.Tensor):\n",
    "        loss = -torch.log(self.gamma + torch.sigmoid(pos_score - neg_score)).mean()\n",
    "        return loss\n"
   ]
  },
  {
   "cell_type": "code",
   "execution_count": 12,
   "metadata": {
    "ExecuteTime": {
     "end_time": "2024-11-27T06:18:05.899618Z",
     "start_time": "2024-11-27T06:18:05.885054Z"
    }
   },
   "outputs": [],
   "source": [
    "def evaluate_model(\n",
    "        model: FPMC,\n",
    "        loader: DataLoader,\n",
    "        device: str = PYTORCH_DEVICE,\n",
    ") -> tuple[float, float]:\n",
    "    global EVAL_K\n",
    "    ndcg = 0\n",
    "    hit = 0\n",
    "    total = 0\n",
    "\n",
    "    model.eval()\n",
    "    with torch.no_grad():\n",
    "        for batch in tqdm(loader, desc=\"Evaluating Validation: \", total=len(loader), leave=False):\n",
    "            uids, prev_iids, next_iids, negative_iids = batch\n",
    "            for i in range(len(batch)):\n",
    "                total += 1\n",
    "                \n",
    "                uid = uids[i].repeat(101)\n",
    "                prev_iid = prev_iids[i].repeat(101)\n",
    "                next_iid = torch.tensor([next_iids[i], *negative_iids[i]])\n",
    "            \n",
    "                outputs = model(uid.to(device), prev_iid.to(device), next_iid.to(device))\n",
    "               \n",
    "                ranking = outputs.argsort(descending=True)\n",
    "                \n",
    "                for rank, item in enumerate(ranking[:EVAL_K]):\n",
    "                    if item == 0:\n",
    "                        ndcg += 1 / np.log2(rank + 2)\n",
    "                        hit += 1\n",
    "        \n",
    "    return ndcg / total, hit / total\n",
    "\n",
    "def train_model(\n",
    "        model: FPMC,\n",
    "        optimizer: optim.Optimizer,\n",
    "        scheduler: optim.lr_scheduler.LRScheduler | None,\n",
    "        train_loader: DataLoader,\n",
    "        val_loader: DataLoader,\n",
    "        num_epochs: int,\n",
    "        device: str = PYTORCH_DEVICE,\n",
    ") -> tuple[list[float], list[float], list[float], tuple[dict, dict, dict], tuple[dict, dict, dict]]:\n",
    "    best_ndcg = 0\n",
    "    best_hit = 0\n",
    "    best_ndcg_epoch = 0\n",
    "    best_hit_epoch = 0\n",
    "\n",
    "    losses = []\n",
    "    ndcgs = []\n",
    "    hits = []\n",
    "    lrs = []\n",
    "\n",
    "    best_ncdg_model_state = None\n",
    "    best_ncdg_optimizer_state = None\n",
    "    best_ncdg_scheduler_state = None\n",
    "\n",
    "    best_hit_model_state = None\n",
    "    best_hit_optimizer_state = None\n",
    "    best_hit_scheduler_state = None\n",
    "\n",
    "    # Plot the loss and other metrics\n",
    "\n",
    "    fig_loss_widget = go.FigureWidget(layout=go.Layout(title=\"Loss\"))\n",
    "    fig_ndcg_widget = go.FigureWidget(layout=go.Layout(title=\"NDCG@\" + str(EVAL_K)))\n",
    "    fig_hit_widget = go.FigureWidget(layout=go.Layout(title=\"HIT@\" + str(EVAL_K)))\n",
    "    fig_lr_widget = go.FigureWidget(layout=go.Layout(title=\"Learning Rate\"))\n",
    "\n",
    "\n",
    "    fig_loss_widget.add_scatter(x=np.arange(len(losses)) + 1, y=losses)\n",
    "    fig_ndcg_widget.add_scatter(x=np.arange(len(ndcgs)) + 1, y=ndcgs)\n",
    "    fig_hit_widget.add_scatter(x=np.arange(len(hits)) + 1, y=hits)\n",
    "    fig_lr_widget.add_scatter(x=np.arange(len(lrs)) + 1, y=lrs)\n",
    "\n",
    "    fig_loss_widget.update_xaxes(title_text='Epoch')\n",
    "    fig_ndcg_widget.update_xaxes(title_text='Epoch')\n",
    "    fig_hit_widget.update_xaxes(title_text='Epoch')\n",
    "    fig_lr_widget.update_xaxes(title_text='Epoch')\n",
    "\n",
    "    fig_loss_widget.update_yaxes(title_text='Loss', type='log')\n",
    "    fig_ndcg_widget.update_yaxes(title_text='NDCG@' + str(EVAL_K))\n",
    "    fig_hit_widget.update_yaxes(title_text='Epoch@' + str(EVAL_K))\n",
    "    fig_lr_widget.update_yaxes(title_text='Learning Rate')\n",
    "\n",
    "    display(HBox([fig_loss_widget, fig_lr_widget]))\n",
    "    display(HBox([fig_ndcg_widget, fig_hit_widget]))\n",
    "\n",
    "    # Wait for widgets to load\n",
    "    time.sleep(1)\n",
    "\n",
    "    criterion = BPRLoss()\n",
    "    \n",
    "    steps = 0\n",
    "    for epoch in tqdm(range(num_epochs), desc=\"Epoch: \"):\n",
    "        model.train()\n",
    "        epoch_loss = 0\n",
    "\n",
    "        lrs.append([pg['lr'] for pg in optimizer.param_groups][0])\n",
    "\n",
    "        for batch in tqdm(train_loader, desc=\"Training: \", total=len(train_loader), leave=False):\n",
    "            model.zero_grad()\n",
    "            \n",
    "            uid, prev_iid, next_iid, negative_iid = batch\n",
    "            \n",
    "            uid = uid.to(device)\n",
    "            prev_iid = prev_iid.to(device)\n",
    "            next_iid = next_iid.to(device)\n",
    "            negative_iid = negative_iid.to(device)\n",
    "            \n",
    "            positive_out = model(uid, prev_iid, next_iid)\n",
    "            negative_out = model(uid, prev_iid, negative_iid)\n",
    "\n",
    "            loss = criterion(positive_out, negative_out)\n",
    "\n",
    "            loss.backward()\n",
    "            epoch_loss += loss.item()\n",
    "            \n",
    "            optimizer.step()\n",
    "\n",
    "            if scheduler is not None:\n",
    "                scheduler.step()\n",
    "\n",
    "            steps += 1\n",
    "\n",
    "        ndcg, hit = evaluate_model(model, val_loader, device=device)\n",
    "\n",
    "        if ndcg > best_ndcg:\n",
    "            best_ndcg = ndcg\n",
    "            best_ndcg_epoch = epoch\n",
    "            best_ncdg_model_state = copy.deepcopy(model.state_dict())\n",
    "            best_ncdg_optimizer_state = copy.deepcopy(optimizer.state_dict())\n",
    "            if scheduler is not None:\n",
    "                best_ncdg_scheduler_state = copy.deepcopy(scheduler.state_dict())\n",
    "\n",
    "        if hit > best_hit:\n",
    "            best_hit = hit\n",
    "            best_hit_epoch = epoch\n",
    "            best_hit_model_state = copy.deepcopy(model.state_dict())\n",
    "            best_hit_optimizer_state = copy.deepcopy(optimizer.state_dict())\n",
    "            if scheduler is not None:\n",
    "                best_hit_scheduler_state = copy.deepcopy(scheduler.state_dict())\n",
    "\n",
    "        losses.append(epoch_loss)\n",
    "        ndcgs.append(ndcg)\n",
    "        hits.append(hit)\n",
    "\n",
    "\n",
    "        fig_loss_widget.data[0].x = np.arange(len(losses)) + 1\n",
    "        fig_loss_widget.data[0].y = losses\n",
    "        fig_ndcg_widget.data[0].x = np.arange(len(ndcgs)) + 1\n",
    "        fig_ndcg_widget.data[0].y = ndcgs\n",
    "        fig_hit_widget.data[0].x = np.arange(len(hits)) + 1\n",
    "        fig_hit_widget.data[0].y = hits\n",
    "        fig_lr_widget.data[0].x = np.arange(len(lrs)) + 1\n",
    "        fig_lr_widget.data[0].y = lrs\n",
    "\n",
    "    print(f\"Best NDCG@{EVAL_K} Epoch: {best_ndcg_epoch + 1}, NDCG@{EVAL_K}: {best_ndcg:.4f}\")\n",
    "    print(f\"Best HIT@{EVAL_K} Epoch: {best_hit_epoch + 1}, HIT@{EVAL_K}: {best_hit:.4f}\")\n",
    "\n",
    "    return losses, ndcgs, hits, \\\n",
    "        (best_ncdg_model_state, best_ncdg_optimizer_state, best_ncdg_scheduler_state), \\\n",
    "        (best_hit_model_state, best_hit_optimizer_state, best_hit_scheduler_state)\n"
   ]
  },
  {
   "cell_type": "code",
   "execution_count": 13,
   "metadata": {
    "ExecuteTime": {
     "end_time": "2024-11-27T06:18:11.324511Z",
     "start_time": "2024-11-27T06:18:05.904111Z"
    }
   },
   "outputs": [
    {
     "data": {
      "application/vnd.jupyter.widget-view+json": {
       "model_id": "e865a3f1d3cc4af2adddb6d8abaf353b",
       "version_major": 2,
       "version_minor": 0
      },
      "text/plain": [
       "HBox(children=(FigureWidget({\n",
       "    'data': [{'type': 'scatter', 'uid': '961904d8-73f5-4dd9-aca4-4975149ecf74', …"
      ]
     },
     "metadata": {},
     "output_type": "display_data"
    },
    {
     "data": {
      "application/vnd.jupyter.widget-view+json": {
       "model_id": "ef1e240cd8a0404eadbe37e1ff7193b5",
       "version_major": 2,
       "version_minor": 0
      },
      "text/plain": [
       "HBox(children=(FigureWidget({\n",
       "    'data': [{'type': 'scatter', 'uid': '41539972-8b45-4ce0-866a-be44f6a05c12', …"
      ]
     },
     "metadata": {},
     "output_type": "display_data"
    },
    {
     "data": {
      "application/vnd.jupyter.widget-view+json": {
       "model_id": "3874d7ecc4774f54864cbc3b2476f03c",
       "version_major": 2,
       "version_minor": 0
      },
      "text/plain": [
       "Epoch:   0%|          | 0/50 [00:00<?, ?it/s]"
      ]
     },
     "metadata": {},
     "output_type": "display_data"
    },
    {
     "data": {
      "application/vnd.jupyter.widget-view+json": {
       "model_id": "c8180eb222d8472ba338c9a10d5d43dc",
       "version_major": 2,
       "version_minor": 0
      },
      "text/plain": [
       "Training:   0%|          | 0/1587 [00:00<?, ?it/s]"
      ]
     },
     "metadata": {},
     "output_type": "display_data"
    },
    {
     "data": {
      "application/vnd.jupyter.widget-view+json": {
       "model_id": "04dda2e411d34c9ab6f2aa2f7bf30f62",
       "version_major": 2,
       "version_minor": 0
      },
      "text/plain": [
       "Evaluating Validation:   0%|          | 0/79 [00:00<?, ?it/s]"
      ]
     },
     "metadata": {},
     "output_type": "display_data"
    },
    {
     "data": {
      "application/vnd.jupyter.widget-view+json": {
       "model_id": "0934df88f1ad41a3828d9751e2e1b140",
       "version_major": 2,
       "version_minor": 0
      },
      "text/plain": [
       "Training:   0%|          | 0/1587 [00:00<?, ?it/s]"
      ]
     },
     "metadata": {},
     "output_type": "display_data"
    },
    {
     "data": {
      "application/vnd.jupyter.widget-view+json": {
       "model_id": "c5b897f2c4584becaca8189f49769524",
       "version_major": 2,
       "version_minor": 0
      },
      "text/plain": [
       "Evaluating Validation:   0%|          | 0/79 [00:00<?, ?it/s]"
      ]
     },
     "metadata": {},
     "output_type": "display_data"
    },
    {
     "data": {
      "application/vnd.jupyter.widget-view+json": {
       "model_id": "0f75bb881420416a83d4b2d9f181859d",
       "version_major": 2,
       "version_minor": 0
      },
      "text/plain": [
       "Training:   0%|          | 0/1587 [00:00<?, ?it/s]"
      ]
     },
     "metadata": {},
     "output_type": "display_data"
    },
    {
     "data": {
      "application/vnd.jupyter.widget-view+json": {
       "model_id": "500c56332f9e42d6999a1e1b7b8995cf",
       "version_major": 2,
       "version_minor": 0
      },
      "text/plain": [
       "Evaluating Validation:   0%|          | 0/79 [00:00<?, ?it/s]"
      ]
     },
     "metadata": {},
     "output_type": "display_data"
    },
    {
     "data": {
      "application/vnd.jupyter.widget-view+json": {
       "model_id": "5d12617943294afb87c433d34f7d8fae",
       "version_major": 2,
       "version_minor": 0
      },
      "text/plain": [
       "Training:   0%|          | 0/1587 [00:00<?, ?it/s]"
      ]
     },
     "metadata": {},
     "output_type": "display_data"
    },
    {
     "data": {
      "application/vnd.jupyter.widget-view+json": {
       "model_id": "25ec2f8095434c6194c226f3f6ca11fd",
       "version_major": 2,
       "version_minor": 0
      },
      "text/plain": [
       "Evaluating Validation:   0%|          | 0/79 [00:00<?, ?it/s]"
      ]
     },
     "metadata": {},
     "output_type": "display_data"
    },
    {
     "data": {
      "application/vnd.jupyter.widget-view+json": {
       "model_id": "c6a6bd3bf7a242538ba3a972985da0a7",
       "version_major": 2,
       "version_minor": 0
      },
      "text/plain": [
       "Training:   0%|          | 0/1587 [00:00<?, ?it/s]"
      ]
     },
     "metadata": {},
     "output_type": "display_data"
    },
    {
     "data": {
      "application/vnd.jupyter.widget-view+json": {
       "model_id": "3dd5df2fb0b847248ba088cb82430648",
       "version_major": 2,
       "version_minor": 0
      },
      "text/plain": [
       "Evaluating Validation:   0%|          | 0/79 [00:00<?, ?it/s]"
      ]
     },
     "metadata": {},
     "output_type": "display_data"
    },
    {
     "data": {
      "application/vnd.jupyter.widget-view+json": {
       "model_id": "d26942dd9a8741ba9845013c1072af00",
       "version_major": 2,
       "version_minor": 0
      },
      "text/plain": [
       "Training:   0%|          | 0/1587 [00:00<?, ?it/s]"
      ]
     },
     "metadata": {},
     "output_type": "display_data"
    },
    {
     "data": {
      "application/vnd.jupyter.widget-view+json": {
       "model_id": "6e7bef37025d4aeb9b924996db9a1121",
       "version_major": 2,
       "version_minor": 0
      },
      "text/plain": [
       "Evaluating Validation:   0%|          | 0/79 [00:00<?, ?it/s]"
      ]
     },
     "metadata": {},
     "output_type": "display_data"
    },
    {
     "data": {
      "application/vnd.jupyter.widget-view+json": {
       "model_id": "bfd41597bd9d4c6db9cab3eb01606b8e",
       "version_major": 2,
       "version_minor": 0
      },
      "text/plain": [
       "Training:   0%|          | 0/1587 [00:00<?, ?it/s]"
      ]
     },
     "metadata": {},
     "output_type": "display_data"
    },
    {
     "data": {
      "application/vnd.jupyter.widget-view+json": {
       "model_id": "8ce1a600cc4145d3a4ae10e24c051584",
       "version_major": 2,
       "version_minor": 0
      },
      "text/plain": [
       "Evaluating Validation:   0%|          | 0/79 [00:00<?, ?it/s]"
      ]
     },
     "metadata": {},
     "output_type": "display_data"
    },
    {
     "data": {
      "application/vnd.jupyter.widget-view+json": {
       "model_id": "05211f95a96f401bb212c12bfbd6a617",
       "version_major": 2,
       "version_minor": 0
      },
      "text/plain": [
       "Training:   0%|          | 0/1587 [00:00<?, ?it/s]"
      ]
     },
     "metadata": {},
     "output_type": "display_data"
    },
    {
     "data": {
      "application/vnd.jupyter.widget-view+json": {
       "model_id": "8a350b6a0e02470c803c51ae737fe2a4",
       "version_major": 2,
       "version_minor": 0
      },
      "text/plain": [
       "Evaluating Validation:   0%|          | 0/79 [00:00<?, ?it/s]"
      ]
     },
     "metadata": {},
     "output_type": "display_data"
    },
    {
     "data": {
      "application/vnd.jupyter.widget-view+json": {
       "model_id": "404ce824657048338317011bdd6586c8",
       "version_major": 2,
       "version_minor": 0
      },
      "text/plain": [
       "Training:   0%|          | 0/1587 [00:00<?, ?it/s]"
      ]
     },
     "metadata": {},
     "output_type": "display_data"
    },
    {
     "data": {
      "application/vnd.jupyter.widget-view+json": {
       "model_id": "32f3bf88f3ce4407a7b3c5bfd495c600",
       "version_major": 2,
       "version_minor": 0
      },
      "text/plain": [
       "Evaluating Validation:   0%|          | 0/79 [00:00<?, ?it/s]"
      ]
     },
     "metadata": {},
     "output_type": "display_data"
    },
    {
     "data": {
      "application/vnd.jupyter.widget-view+json": {
       "model_id": "3e147d5ecfd448a481671326813b6845",
       "version_major": 2,
       "version_minor": 0
      },
      "text/plain": [
       "Training:   0%|          | 0/1587 [00:00<?, ?it/s]"
      ]
     },
     "metadata": {},
     "output_type": "display_data"
    },
    {
     "data": {
      "application/vnd.jupyter.widget-view+json": {
       "model_id": "1d757d4e615642508284be89f8f2ff22",
       "version_major": 2,
       "version_minor": 0
      },
      "text/plain": [
       "Evaluating Validation:   0%|          | 0/79 [00:00<?, ?it/s]"
      ]
     },
     "metadata": {},
     "output_type": "display_data"
    },
    {
     "data": {
      "application/vnd.jupyter.widget-view+json": {
       "model_id": "bea00b7837154af99f549ed1cbdaef80",
       "version_major": 2,
       "version_minor": 0
      },
      "text/plain": [
       "Training:   0%|          | 0/1587 [00:00<?, ?it/s]"
      ]
     },
     "metadata": {},
     "output_type": "display_data"
    },
    {
     "data": {
      "application/vnd.jupyter.widget-view+json": {
       "model_id": "6b6658c8ec6d4153a06620eb32e0637a",
       "version_major": 2,
       "version_minor": 0
      },
      "text/plain": [
       "Evaluating Validation:   0%|          | 0/79 [00:00<?, ?it/s]"
      ]
     },
     "metadata": {},
     "output_type": "display_data"
    },
    {
     "data": {
      "application/vnd.jupyter.widget-view+json": {
       "model_id": "4bebdaa883044898b65c8c1f8f71bcfa",
       "version_major": 2,
       "version_minor": 0
      },
      "text/plain": [
       "Training:   0%|          | 0/1587 [00:00<?, ?it/s]"
      ]
     },
     "metadata": {},
     "output_type": "display_data"
    },
    {
     "data": {
      "application/vnd.jupyter.widget-view+json": {
       "model_id": "3d979ce8f974495b8f8cb021ef82a8bf",
       "version_major": 2,
       "version_minor": 0
      },
      "text/plain": [
       "Evaluating Validation:   0%|          | 0/79 [00:00<?, ?it/s]"
      ]
     },
     "metadata": {},
     "output_type": "display_data"
    },
    {
     "data": {
      "application/vnd.jupyter.widget-view+json": {
       "model_id": "c4f171a366224b38993a72b7bd03ed1d",
       "version_major": 2,
       "version_minor": 0
      },
      "text/plain": [
       "Training:   0%|          | 0/1587 [00:00<?, ?it/s]"
      ]
     },
     "metadata": {},
     "output_type": "display_data"
    },
    {
     "data": {
      "application/vnd.jupyter.widget-view+json": {
       "model_id": "9c8e7c7284b34f079b4fc0e1ac85600a",
       "version_major": 2,
       "version_minor": 0
      },
      "text/plain": [
       "Evaluating Validation:   0%|          | 0/79 [00:00<?, ?it/s]"
      ]
     },
     "metadata": {},
     "output_type": "display_data"
    },
    {
     "data": {
      "application/vnd.jupyter.widget-view+json": {
       "model_id": "0190f9b6977d4f55b4701f016aabce27",
       "version_major": 2,
       "version_minor": 0
      },
      "text/plain": [
       "Training:   0%|          | 0/1587 [00:00<?, ?it/s]"
      ]
     },
     "metadata": {},
     "output_type": "display_data"
    },
    {
     "data": {
      "application/vnd.jupyter.widget-view+json": {
       "model_id": "2d275912ae924f51a0d8006017b0194c",
       "version_major": 2,
       "version_minor": 0
      },
      "text/plain": [
       "Evaluating Validation:   0%|          | 0/79 [00:00<?, ?it/s]"
      ]
     },
     "metadata": {},
     "output_type": "display_data"
    },
    {
     "data": {
      "application/vnd.jupyter.widget-view+json": {
       "model_id": "66afe5957a474847b46b499c3615a931",
       "version_major": 2,
       "version_minor": 0
      },
      "text/plain": [
       "Training:   0%|          | 0/1587 [00:00<?, ?it/s]"
      ]
     },
     "metadata": {},
     "output_type": "display_data"
    },
    {
     "data": {
      "application/vnd.jupyter.widget-view+json": {
       "model_id": "d1dd362c7dd74fdf99e2ea836f85b38d",
       "version_major": 2,
       "version_minor": 0
      },
      "text/plain": [
       "Evaluating Validation:   0%|          | 0/79 [00:00<?, ?it/s]"
      ]
     },
     "metadata": {},
     "output_type": "display_data"
    },
    {
     "data": {
      "application/vnd.jupyter.widget-view+json": {
       "model_id": "b140d5173b7c44caa0c16f607adf9474",
       "version_major": 2,
       "version_minor": 0
      },
      "text/plain": [
       "Training:   0%|          | 0/1587 [00:00<?, ?it/s]"
      ]
     },
     "metadata": {},
     "output_type": "display_data"
    },
    {
     "data": {
      "application/vnd.jupyter.widget-view+json": {
       "model_id": "4bf3763379b843f0bf8b1155a72925cd",
       "version_major": 2,
       "version_minor": 0
      },
      "text/plain": [
       "Evaluating Validation:   0%|          | 0/79 [00:00<?, ?it/s]"
      ]
     },
     "metadata": {},
     "output_type": "display_data"
    },
    {
     "data": {
      "application/vnd.jupyter.widget-view+json": {
       "model_id": "97548eeae54643cbbe20392344fdb8a5",
       "version_major": 2,
       "version_minor": 0
      },
      "text/plain": [
       "Training:   0%|          | 0/1587 [00:00<?, ?it/s]"
      ]
     },
     "metadata": {},
     "output_type": "display_data"
    },
    {
     "data": {
      "application/vnd.jupyter.widget-view+json": {
       "model_id": "7ba3ed7cd6bc4ac587adc2874ec80bb9",
       "version_major": 2,
       "version_minor": 0
      },
      "text/plain": [
       "Evaluating Validation:   0%|          | 0/79 [00:00<?, ?it/s]"
      ]
     },
     "metadata": {},
     "output_type": "display_data"
    },
    {
     "data": {
      "application/vnd.jupyter.widget-view+json": {
       "model_id": "5d15605c31aa4a46b4229d38f6923aae",
       "version_major": 2,
       "version_minor": 0
      },
      "text/plain": [
       "Training:   0%|          | 0/1587 [00:00<?, ?it/s]"
      ]
     },
     "metadata": {},
     "output_type": "display_data"
    },
    {
     "data": {
      "application/vnd.jupyter.widget-view+json": {
       "model_id": "e4981f45d79f484ca9452b66be15dfbf",
       "version_major": 2,
       "version_minor": 0
      },
      "text/plain": [
       "Evaluating Validation:   0%|          | 0/79 [00:00<?, ?it/s]"
      ]
     },
     "metadata": {},
     "output_type": "display_data"
    },
    {
     "data": {
      "application/vnd.jupyter.widget-view+json": {
       "model_id": "bdbb7d35ae0147b5afe1d33317f87ed0",
       "version_major": 2,
       "version_minor": 0
      },
      "text/plain": [
       "Training:   0%|          | 0/1587 [00:00<?, ?it/s]"
      ]
     },
     "metadata": {},
     "output_type": "display_data"
    },
    {
     "data": {
      "application/vnd.jupyter.widget-view+json": {
       "model_id": "c2127f2bee764170a99a24f564c5ae57",
       "version_major": 2,
       "version_minor": 0
      },
      "text/plain": [
       "Evaluating Validation:   0%|          | 0/79 [00:00<?, ?it/s]"
      ]
     },
     "metadata": {},
     "output_type": "display_data"
    },
    {
     "data": {
      "application/vnd.jupyter.widget-view+json": {
       "model_id": "0e708fd6795a426f89ce3e50f959b628",
       "version_major": 2,
       "version_minor": 0
      },
      "text/plain": [
       "Training:   0%|          | 0/1587 [00:00<?, ?it/s]"
      ]
     },
     "metadata": {},
     "output_type": "display_data"
    },
    {
     "data": {
      "application/vnd.jupyter.widget-view+json": {
       "model_id": "53c2d93ea55b4eda81b7aa67e5faf2d5",
       "version_major": 2,
       "version_minor": 0
      },
      "text/plain": [
       "Evaluating Validation:   0%|          | 0/79 [00:00<?, ?it/s]"
      ]
     },
     "metadata": {},
     "output_type": "display_data"
    },
    {
     "data": {
      "application/vnd.jupyter.widget-view+json": {
       "model_id": "de510f1bff1841bd83ae16c821529dc7",
       "version_major": 2,
       "version_minor": 0
      },
      "text/plain": [
       "Training:   0%|          | 0/1587 [00:00<?, ?it/s]"
      ]
     },
     "metadata": {},
     "output_type": "display_data"
    },
    {
     "data": {
      "application/vnd.jupyter.widget-view+json": {
       "model_id": "86e0be7b9cbe4afaa92349e85b3e0d13",
       "version_major": 2,
       "version_minor": 0
      },
      "text/plain": [
       "Evaluating Validation:   0%|          | 0/79 [00:00<?, ?it/s]"
      ]
     },
     "metadata": {},
     "output_type": "display_data"
    },
    {
     "data": {
      "application/vnd.jupyter.widget-view+json": {
       "model_id": "b31805105a9c49a28a1222bec01ec88e",
       "version_major": 2,
       "version_minor": 0
      },
      "text/plain": [
       "Training:   0%|          | 0/1587 [00:00<?, ?it/s]"
      ]
     },
     "metadata": {},
     "output_type": "display_data"
    },
    {
     "data": {
      "application/vnd.jupyter.widget-view+json": {
       "model_id": "7e486b44e83349c99703757c05eee4e4",
       "version_major": 2,
       "version_minor": 0
      },
      "text/plain": [
       "Evaluating Validation:   0%|          | 0/79 [00:00<?, ?it/s]"
      ]
     },
     "metadata": {},
     "output_type": "display_data"
    },
    {
     "data": {
      "application/vnd.jupyter.widget-view+json": {
       "model_id": "b74614a9595b4386ac51abb96a29daeb",
       "version_major": 2,
       "version_minor": 0
      },
      "text/plain": [
       "Training:   0%|          | 0/1587 [00:00<?, ?it/s]"
      ]
     },
     "metadata": {},
     "output_type": "display_data"
    },
    {
     "data": {
      "application/vnd.jupyter.widget-view+json": {
       "model_id": "a4c4d23a61a64ef79844d732739c1d46",
       "version_major": 2,
       "version_minor": 0
      },
      "text/plain": [
       "Evaluating Validation:   0%|          | 0/79 [00:00<?, ?it/s]"
      ]
     },
     "metadata": {},
     "output_type": "display_data"
    },
    {
     "data": {
      "application/vnd.jupyter.widget-view+json": {
       "model_id": "671f347746514bc28d9987417b3869d9",
       "version_major": 2,
       "version_minor": 0
      },
      "text/plain": [
       "Training:   0%|          | 0/1587 [00:00<?, ?it/s]"
      ]
     },
     "metadata": {},
     "output_type": "display_data"
    },
    {
     "data": {
      "application/vnd.jupyter.widget-view+json": {
       "model_id": "1d2df47605754cdea038f6a92b8132df",
       "version_major": 2,
       "version_minor": 0
      },
      "text/plain": [
       "Evaluating Validation:   0%|          | 0/79 [00:00<?, ?it/s]"
      ]
     },
     "metadata": {},
     "output_type": "display_data"
    },
    {
     "data": {
      "application/vnd.jupyter.widget-view+json": {
       "model_id": "4fa8107c4fc24e91b0ac3ef83b9a39f2",
       "version_major": 2,
       "version_minor": 0
      },
      "text/plain": [
       "Training:   0%|          | 0/1587 [00:00<?, ?it/s]"
      ]
     },
     "metadata": {},
     "output_type": "display_data"
    },
    {
     "data": {
      "application/vnd.jupyter.widget-view+json": {
       "model_id": "d0768d084ee24205b68aa97b2dafab19",
       "version_major": 2,
       "version_minor": 0
      },
      "text/plain": [
       "Evaluating Validation:   0%|          | 0/79 [00:00<?, ?it/s]"
      ]
     },
     "metadata": {},
     "output_type": "display_data"
    },
    {
     "data": {
      "application/vnd.jupyter.widget-view+json": {
       "model_id": "32e216938c154cec9fd110f4265375d9",
       "version_major": 2,
       "version_minor": 0
      },
      "text/plain": [
       "Training:   0%|          | 0/1587 [00:00<?, ?it/s]"
      ]
     },
     "metadata": {},
     "output_type": "display_data"
    },
    {
     "data": {
      "application/vnd.jupyter.widget-view+json": {
       "model_id": "3c0210a161164102a4d65b849500c83a",
       "version_major": 2,
       "version_minor": 0
      },
      "text/plain": [
       "Evaluating Validation:   0%|          | 0/79 [00:00<?, ?it/s]"
      ]
     },
     "metadata": {},
     "output_type": "display_data"
    },
    {
     "data": {
      "application/vnd.jupyter.widget-view+json": {
       "model_id": "a7161bc7ce8943e094e9423a9989d0da",
       "version_major": 2,
       "version_minor": 0
      },
      "text/plain": [
       "Training:   0%|          | 0/1587 [00:00<?, ?it/s]"
      ]
     },
     "metadata": {},
     "output_type": "display_data"
    },
    {
     "data": {
      "application/vnd.jupyter.widget-view+json": {
       "model_id": "6c3a352d127c43a18d6493d151011ccd",
       "version_major": 2,
       "version_minor": 0
      },
      "text/plain": [
       "Evaluating Validation:   0%|          | 0/79 [00:00<?, ?it/s]"
      ]
     },
     "metadata": {},
     "output_type": "display_data"
    },
    {
     "data": {
      "application/vnd.jupyter.widget-view+json": {
       "model_id": "a242e5a210124d79a4c17e5c7b0b2967",
       "version_major": 2,
       "version_minor": 0
      },
      "text/plain": [
       "Training:   0%|          | 0/1587 [00:00<?, ?it/s]"
      ]
     },
     "metadata": {},
     "output_type": "display_data"
    },
    {
     "data": {
      "application/vnd.jupyter.widget-view+json": {
       "model_id": "82dcabb25d574eb5a50c4d0bcf195465",
       "version_major": 2,
       "version_minor": 0
      },
      "text/plain": [
       "Evaluating Validation:   0%|          | 0/79 [00:00<?, ?it/s]"
      ]
     },
     "metadata": {},
     "output_type": "display_data"
    },
    {
     "data": {
      "application/vnd.jupyter.widget-view+json": {
       "model_id": "a056de6b40e8409b8c8d5a9ee2c22d08",
       "version_major": 2,
       "version_minor": 0
      },
      "text/plain": [
       "Training:   0%|          | 0/1587 [00:00<?, ?it/s]"
      ]
     },
     "metadata": {},
     "output_type": "display_data"
    },
    {
     "data": {
      "application/vnd.jupyter.widget-view+json": {
       "model_id": "1251ce66b6be42bdb3a657a0b12d0cb0",
       "version_major": 2,
       "version_minor": 0
      },
      "text/plain": [
       "Evaluating Validation:   0%|          | 0/79 [00:00<?, ?it/s]"
      ]
     },
     "metadata": {},
     "output_type": "display_data"
    },
    {
     "data": {
      "application/vnd.jupyter.widget-view+json": {
       "model_id": "ca3e1866fe684ad9b0f504722bd351c9",
       "version_major": 2,
       "version_minor": 0
      },
      "text/plain": [
       "Training:   0%|          | 0/1587 [00:00<?, ?it/s]"
      ]
     },
     "metadata": {},
     "output_type": "display_data"
    },
    {
     "data": {
      "application/vnd.jupyter.widget-view+json": {
       "model_id": "0519a9c7b4394fc69f2311f4c6db12f3",
       "version_major": 2,
       "version_minor": 0
      },
      "text/plain": [
       "Evaluating Validation:   0%|          | 0/79 [00:00<?, ?it/s]"
      ]
     },
     "metadata": {},
     "output_type": "display_data"
    },
    {
     "data": {
      "application/vnd.jupyter.widget-view+json": {
       "model_id": "f11f9ee0ae6f4fe7b17bc0e50ac5fd15",
       "version_major": 2,
       "version_minor": 0
      },
      "text/plain": [
       "Training:   0%|          | 0/1587 [00:00<?, ?it/s]"
      ]
     },
     "metadata": {},
     "output_type": "display_data"
    },
    {
     "data": {
      "application/vnd.jupyter.widget-view+json": {
       "model_id": "a75e2f1101c5441d929fedea16cb8ec6",
       "version_major": 2,
       "version_minor": 0
      },
      "text/plain": [
       "Evaluating Validation:   0%|          | 0/79 [00:00<?, ?it/s]"
      ]
     },
     "metadata": {},
     "output_type": "display_data"
    },
    {
     "data": {
      "application/vnd.jupyter.widget-view+json": {
       "model_id": "28380a7a8b554b85a306d9597eec8786",
       "version_major": 2,
       "version_minor": 0
      },
      "text/plain": [
       "Training:   0%|          | 0/1587 [00:00<?, ?it/s]"
      ]
     },
     "metadata": {},
     "output_type": "display_data"
    },
    {
     "data": {
      "application/vnd.jupyter.widget-view+json": {
       "model_id": "3be58bb50099459cb6172dcd3b6461bd",
       "version_major": 2,
       "version_minor": 0
      },
      "text/plain": [
       "Evaluating Validation:   0%|          | 0/79 [00:00<?, ?it/s]"
      ]
     },
     "metadata": {},
     "output_type": "display_data"
    },
    {
     "data": {
      "application/vnd.jupyter.widget-view+json": {
       "model_id": "44dc7afbcbeb4d2eb0111ae483733556",
       "version_major": 2,
       "version_minor": 0
      },
      "text/plain": [
       "Training:   0%|          | 0/1587 [00:00<?, ?it/s]"
      ]
     },
     "metadata": {},
     "output_type": "display_data"
    },
    {
     "data": {
      "application/vnd.jupyter.widget-view+json": {
       "model_id": "8d2f1eee6ec54c9497a5f31ca088a906",
       "version_major": 2,
       "version_minor": 0
      },
      "text/plain": [
       "Evaluating Validation:   0%|          | 0/79 [00:00<?, ?it/s]"
      ]
     },
     "metadata": {},
     "output_type": "display_data"
    },
    {
     "data": {
      "application/vnd.jupyter.widget-view+json": {
       "model_id": "a7baca62d8f246cd87c533a7cadfd391",
       "version_major": 2,
       "version_minor": 0
      },
      "text/plain": [
       "Training:   0%|          | 0/1587 [00:00<?, ?it/s]"
      ]
     },
     "metadata": {},
     "output_type": "display_data"
    },
    {
     "data": {
      "application/vnd.jupyter.widget-view+json": {
       "model_id": "1fc7884fac0b4283a6eb9f5dc638a8a8",
       "version_major": 2,
       "version_minor": 0
      },
      "text/plain": [
       "Evaluating Validation:   0%|          | 0/79 [00:00<?, ?it/s]"
      ]
     },
     "metadata": {},
     "output_type": "display_data"
    },
    {
     "data": {
      "application/vnd.jupyter.widget-view+json": {
       "model_id": "e20c7b8465614a2994f5511d8c4717b1",
       "version_major": 2,
       "version_minor": 0
      },
      "text/plain": [
       "Training:   0%|          | 0/1587 [00:00<?, ?it/s]"
      ]
     },
     "metadata": {},
     "output_type": "display_data"
    },
    {
     "data": {
      "application/vnd.jupyter.widget-view+json": {
       "model_id": "5ca3d9103cab446bb28123981b86601c",
       "version_major": 2,
       "version_minor": 0
      },
      "text/plain": [
       "Evaluating Validation:   0%|          | 0/79 [00:00<?, ?it/s]"
      ]
     },
     "metadata": {},
     "output_type": "display_data"
    },
    {
     "data": {
      "application/vnd.jupyter.widget-view+json": {
       "model_id": "ea052c4457a6472c9672183471cc80b0",
       "version_major": 2,
       "version_minor": 0
      },
      "text/plain": [
       "Training:   0%|          | 0/1587 [00:00<?, ?it/s]"
      ]
     },
     "metadata": {},
     "output_type": "display_data"
    },
    {
     "data": {
      "application/vnd.jupyter.widget-view+json": {
       "model_id": "8dd705d0e769405f85234923758fd650",
       "version_major": 2,
       "version_minor": 0
      },
      "text/plain": [
       "Evaluating Validation:   0%|          | 0/79 [00:00<?, ?it/s]"
      ]
     },
     "metadata": {},
     "output_type": "display_data"
    },
    {
     "data": {
      "application/vnd.jupyter.widget-view+json": {
       "model_id": "c1c9efeb997d4573b7d0a45ab8d80bf9",
       "version_major": 2,
       "version_minor": 0
      },
      "text/plain": [
       "Training:   0%|          | 0/1587 [00:00<?, ?it/s]"
      ]
     },
     "metadata": {},
     "output_type": "display_data"
    },
    {
     "data": {
      "application/vnd.jupyter.widget-view+json": {
       "model_id": "efe980c537534d31b3b3d3f1ad4967fe",
       "version_major": 2,
       "version_minor": 0
      },
      "text/plain": [
       "Evaluating Validation:   0%|          | 0/79 [00:00<?, ?it/s]"
      ]
     },
     "metadata": {},
     "output_type": "display_data"
    },
    {
     "data": {
      "application/vnd.jupyter.widget-view+json": {
       "model_id": "72797998ed8949538d3ee71a29585b96",
       "version_major": 2,
       "version_minor": 0
      },
      "text/plain": [
       "Training:   0%|          | 0/1587 [00:00<?, ?it/s]"
      ]
     },
     "metadata": {},
     "output_type": "display_data"
    },
    {
     "data": {
      "application/vnd.jupyter.widget-view+json": {
       "model_id": "400fe41516ef465aaf117a4505ff0adf",
       "version_major": 2,
       "version_minor": 0
      },
      "text/plain": [
       "Evaluating Validation:   0%|          | 0/79 [00:00<?, ?it/s]"
      ]
     },
     "metadata": {},
     "output_type": "display_data"
    },
    {
     "data": {
      "application/vnd.jupyter.widget-view+json": {
       "model_id": "deb1a063a02447ad954423e41fa32527",
       "version_major": 2,
       "version_minor": 0
      },
      "text/plain": [
       "Training:   0%|          | 0/1587 [00:00<?, ?it/s]"
      ]
     },
     "metadata": {},
     "output_type": "display_data"
    },
    {
     "data": {
      "application/vnd.jupyter.widget-view+json": {
       "model_id": "1efad34c4a6e4e139ab48ba820fa60b6",
       "version_major": 2,
       "version_minor": 0
      },
      "text/plain": [
       "Evaluating Validation:   0%|          | 0/79 [00:00<?, ?it/s]"
      ]
     },
     "metadata": {},
     "output_type": "display_data"
    },
    {
     "data": {
      "application/vnd.jupyter.widget-view+json": {
       "model_id": "0707a9dd208144999aa29fe940e9db4c",
       "version_major": 2,
       "version_minor": 0
      },
      "text/plain": [
       "Training:   0%|          | 0/1587 [00:00<?, ?it/s]"
      ]
     },
     "metadata": {},
     "output_type": "display_data"
    },
    {
     "data": {
      "application/vnd.jupyter.widget-view+json": {
       "model_id": "0fb62cfef0a74bd2a7a31c7e8e0006c3",
       "version_major": 2,
       "version_minor": 0
      },
      "text/plain": [
       "Evaluating Validation:   0%|          | 0/79 [00:00<?, ?it/s]"
      ]
     },
     "metadata": {},
     "output_type": "display_data"
    },
    {
     "data": {
      "application/vnd.jupyter.widget-view+json": {
       "model_id": "69a77759e6164ac5bfd30bbbfa6a0b05",
       "version_major": 2,
       "version_minor": 0
      },
      "text/plain": [
       "Training:   0%|          | 0/1587 [00:00<?, ?it/s]"
      ]
     },
     "metadata": {},
     "output_type": "display_data"
    },
    {
     "data": {
      "application/vnd.jupyter.widget-view+json": {
       "model_id": "645562bcaa534d1a816f83a91c2ad98f",
       "version_major": 2,
       "version_minor": 0
      },
      "text/plain": [
       "Evaluating Validation:   0%|          | 0/79 [00:00<?, ?it/s]"
      ]
     },
     "metadata": {},
     "output_type": "display_data"
    },
    {
     "data": {
      "application/vnd.jupyter.widget-view+json": {
       "model_id": "d64257f428dc49988ba69aea92640b7c",
       "version_major": 2,
       "version_minor": 0
      },
      "text/plain": [
       "Training:   0%|          | 0/1587 [00:00<?, ?it/s]"
      ]
     },
     "metadata": {},
     "output_type": "display_data"
    },
    {
     "data": {
      "application/vnd.jupyter.widget-view+json": {
       "model_id": "65d1f57caf584a05a90bce976076fd7d",
       "version_major": 2,
       "version_minor": 0
      },
      "text/plain": [
       "Evaluating Validation:   0%|          | 0/79 [00:00<?, ?it/s]"
      ]
     },
     "metadata": {},
     "output_type": "display_data"
    },
    {
     "data": {
      "application/vnd.jupyter.widget-view+json": {
       "model_id": "1aaae3f218f845f388f6ff4bae081bf6",
       "version_major": 2,
       "version_minor": 0
      },
      "text/plain": [
       "Training:   0%|          | 0/1587 [00:00<?, ?it/s]"
      ]
     },
     "metadata": {},
     "output_type": "display_data"
    },
    {
     "data": {
      "application/vnd.jupyter.widget-view+json": {
       "model_id": "885760fb277a4095ba21cf7068777c07",
       "version_major": 2,
       "version_minor": 0
      },
      "text/plain": [
       "Evaluating Validation:   0%|          | 0/79 [00:00<?, ?it/s]"
      ]
     },
     "metadata": {},
     "output_type": "display_data"
    },
    {
     "data": {
      "application/vnd.jupyter.widget-view+json": {
       "model_id": "b157238ab9a64f53ae0c021f29b2a466",
       "version_major": 2,
       "version_minor": 0
      },
      "text/plain": [
       "Training:   0%|          | 0/1587 [00:00<?, ?it/s]"
      ]
     },
     "metadata": {},
     "output_type": "display_data"
    },
    {
     "data": {
      "application/vnd.jupyter.widget-view+json": {
       "model_id": "3ec8d63a947640fb9d1259762af25a66",
       "version_major": 2,
       "version_minor": 0
      },
      "text/plain": [
       "Evaluating Validation:   0%|          | 0/79 [00:00<?, ?it/s]"
      ]
     },
     "metadata": {},
     "output_type": "display_data"
    },
    {
     "data": {
      "application/vnd.jupyter.widget-view+json": {
       "model_id": "ff46d3aed4a04ec0befa2e2e66d4bff1",
       "version_major": 2,
       "version_minor": 0
      },
      "text/plain": [
       "Training:   0%|          | 0/1587 [00:00<?, ?it/s]"
      ]
     },
     "metadata": {},
     "output_type": "display_data"
    },
    {
     "data": {
      "application/vnd.jupyter.widget-view+json": {
       "model_id": "5bde22f8daae47949d1e9ab7da4e0110",
       "version_major": 2,
       "version_minor": 0
      },
      "text/plain": [
       "Evaluating Validation:   0%|          | 0/79 [00:00<?, ?it/s]"
      ]
     },
     "metadata": {},
     "output_type": "display_data"
    },
    {
     "data": {
      "application/vnd.jupyter.widget-view+json": {
       "model_id": "3ca39f7188d04e2abe0de2848817e8eb",
       "version_major": 2,
       "version_minor": 0
      },
      "text/plain": [
       "Training:   0%|          | 0/1587 [00:00<?, ?it/s]"
      ]
     },
     "metadata": {},
     "output_type": "display_data"
    },
    {
     "data": {
      "application/vnd.jupyter.widget-view+json": {
       "model_id": "403a3341a45b4568b6b951980512b008",
       "version_major": 2,
       "version_minor": 0
      },
      "text/plain": [
       "Evaluating Validation:   0%|          | 0/79 [00:00<?, ?it/s]"
      ]
     },
     "metadata": {},
     "output_type": "display_data"
    },
    {
     "data": {
      "application/vnd.jupyter.widget-view+json": {
       "model_id": "41ce806280374a11b242a1b1ebaf9974",
       "version_major": 2,
       "version_minor": 0
      },
      "text/plain": [
       "Training:   0%|          | 0/1587 [00:00<?, ?it/s]"
      ]
     },
     "metadata": {},
     "output_type": "display_data"
    },
    {
     "data": {
      "application/vnd.jupyter.widget-view+json": {
       "model_id": "5bd74229f3ad4e20aa6e10d7c70f59a7",
       "version_major": 2,
       "version_minor": 0
      },
      "text/plain": [
       "Evaluating Validation:   0%|          | 0/79 [00:00<?, ?it/s]"
      ]
     },
     "metadata": {},
     "output_type": "display_data"
    },
    {
     "data": {
      "application/vnd.jupyter.widget-view+json": {
       "model_id": "3e244b7b37e34dddb0ce6b13a219fb24",
       "version_major": 2,
       "version_minor": 0
      },
      "text/plain": [
       "Training:   0%|          | 0/1587 [00:00<?, ?it/s]"
      ]
     },
     "metadata": {},
     "output_type": "display_data"
    },
    {
     "data": {
      "application/vnd.jupyter.widget-view+json": {
       "model_id": "f988b1eea711422eb9412b725bed0f6c",
       "version_major": 2,
       "version_minor": 0
      },
      "text/plain": [
       "Evaluating Validation:   0%|          | 0/79 [00:00<?, ?it/s]"
      ]
     },
     "metadata": {},
     "output_type": "display_data"
    },
    {
     "data": {
      "application/vnd.jupyter.widget-view+json": {
       "model_id": "b11dd79f19e842ec89a4ed46b087002f",
       "version_major": 2,
       "version_minor": 0
      },
      "text/plain": [
       "Training:   0%|          | 0/1587 [00:00<?, ?it/s]"
      ]
     },
     "metadata": {},
     "output_type": "display_data"
    },
    {
     "data": {
      "application/vnd.jupyter.widget-view+json": {
       "model_id": "c687369e70024e729c7078765fc2a15b",
       "version_major": 2,
       "version_minor": 0
      },
      "text/plain": [
       "Evaluating Validation:   0%|          | 0/79 [00:00<?, ?it/s]"
      ]
     },
     "metadata": {},
     "output_type": "display_data"
    },
    {
     "data": {
      "application/vnd.jupyter.widget-view+json": {
       "model_id": "a60a7d30a4874487ba61ddcc8f7371e4",
       "version_major": 2,
       "version_minor": 0
      },
      "text/plain": [
       "Training:   0%|          | 0/1587 [00:00<?, ?it/s]"
      ]
     },
     "metadata": {},
     "output_type": "display_data"
    },
    {
     "data": {
      "application/vnd.jupyter.widget-view+json": {
       "model_id": "b854e80b8fbf488d8853c064914bbf1d",
       "version_major": 2,
       "version_minor": 0
      },
      "text/plain": [
       "Evaluating Validation:   0%|          | 0/79 [00:00<?, ?it/s]"
      ]
     },
     "metadata": {},
     "output_type": "display_data"
    },
    {
     "name": "stdout",
     "output_type": "stream",
     "text": [
      "Best NDCG@10 Epoch: 42, NDCG@10: 0.6745\n",
      "Best HIT@10 Epoch: 31, HIT@10: 0.7595\n"
     ]
    }
   ],
   "source": [
    "model = FPMC(num_users=max_uid + 1, num_items=max_iid + 1, k_UI=K_UI, k_IL=K_IL)\n",
    "\n",
    "model.to(PYTORCH_DEVICE)\n",
    "\n",
    "optimizer = torch.optim.AdamW(model.parameters(), lr=LEARNING_RATE, betas=(BETA_1, BETA_2), eps=EPS, weight_decay=WEIGHT_DECAY, amsgrad=AMSGRAD)\n",
    "\n",
    "scheduler = None\n",
    "if USE_SCHEDULER:\n",
    "    scheduler = optim.lr_scheduler.OneCycleLR(\n",
    "        optimizer=optimizer,\n",
    "        max_lr=LEARNING_RATE,\n",
    "        total_steps=TOTAL_EPOCHS * len(train_dataloader),\n",
    "        pct_start=WARMUP_RATIO,\n",
    "        anneal_strategy=\"linear\",\n",
    "    )\n",
    "\n",
    "with warnings.catch_warnings():\n",
    "    warnings.simplefilter(\"ignore\")\n",
    "    results = train_model(model, optimizer, scheduler, train_dataloader, validation_dataloader, TOTAL_EPOCHS, device=PYTORCH_DEVICE)"
   ]
  },
  {
   "cell_type": "code",
   "execution_count": 14,
   "metadata": {},
   "outputs": [],
   "source": [
    "losses, ndcgs, hits, \\\n",
    "    (best_ncdg_model_state, best_ncdg_optimizer_state, best_ncdg_scheduler_state), \\\n",
    "    (best_hit_model_state, best_hit_optimizer_state, best_hit_scheduler_state) = results\n",
    "\n",
    "timestamp = datetime.now().strftime(\"%Y%m%d-%H%M%S\")\n",
    "os.makedirs(f\"models/fpmc/{timestamp}/\", exist_ok=True)\n",
    "\n",
    "torch.save(best_ncdg_model_state, f\"models/fpmc/{timestamp}/best_ncdg_model_state.pt\")\n",
    "torch.save(best_hit_model_state, f\"models/fpmc/{timestamp}/best_hit_model_state.pt\")\n",
    "\n",
    "torch.save(best_ncdg_optimizer_state, f\"models/fpmc/{timestamp}/best_ncdg_optimizer_state.pt\")\n",
    "torch.save(best_hit_optimizer_state, f\"models/fpmc/{timestamp}/best_hit_optimizer_state.pt\")\n",
    "\n",
    "torch.save(best_ncdg_scheduler_state, f\"models/fpmc/{timestamp}/best_ncdg_scheduler_state.pt\")\n",
    "torch.save(best_hit_scheduler_state, f\"models/fpmc/{timestamp}/best_hit_scheduler_state.pt\")"
   ]
  },
  {
   "cell_type": "code",
   "execution_count": 15,
   "metadata": {},
   "outputs": [
    {
     "data": {
      "application/vnd.plotly.v1+json": {
       "config": {
        "plotlyServerURL": "https://plot.ly"
       },
       "data": [
        {
         "type": "scatter",
         "x": [
          1,
          2,
          3,
          4,
          5,
          6,
          7,
          8,
          9,
          10,
          11,
          12,
          13,
          14,
          15,
          16,
          17,
          18,
          19,
          20,
          21,
          22,
          23,
          24,
          25,
          26,
          27,
          28,
          29,
          30,
          31,
          32,
          33,
          34,
          35,
          36,
          37,
          38,
          39,
          40,
          41,
          42,
          43,
          44,
          45,
          46,
          47,
          48,
          49,
          50
         ],
         "y": [
          1237.354780137539,
          496.8108896166086,
          192.9095707088709,
          83.78807551041245,
          44.95773493126035,
          27.86004119645804,
          19.201452968642116,
          14.384571730159223,
          11.4647161453031,
          9.443226124159992,
          8.260123539483175,
          7.411504019168206,
          6.635780625161715,
          6.279488613479771,
          5.713151453295723,
          5.575184547575191,
          5.405485149589367,
          5.1008979068137705,
          4.952013725065626,
          4.725789688993245,
          4.66112803039141,
          4.585583548760042,
          4.479465711803641,
          4.4342549135908484,
          4.324756876565516,
          4.290494412416592,
          4.234197490324732,
          4.154487896244973,
          4.1300333385006525,
          4.0361740122316405,
          4.021021469205152,
          3.9006613407982513,
          3.904297757137101,
          3.9102265018154867,
          3.8300091811688617,
          3.7964128527673893,
          3.843665001390036,
          3.7690785193117335,
          3.704338478972204,
          3.6797028341679834,
          3.7243097836035304,
          3.6454869394074194,
          3.504960431775544,
          3.568761102971621,
          3.607376468833536,
          3.556884332560003,
          3.48834550823085,
          3.488653795677237,
          3.3991819120710716,
          3.539363100659102
         ]
        }
       ],
       "layout": {
        "template": {
         "data": {
          "bar": [
           {
            "error_x": {
             "color": "#2a3f5f"
            },
            "error_y": {
             "color": "#2a3f5f"
            },
            "marker": {
             "line": {
              "color": "#E5ECF6",
              "width": 0.5
             },
             "pattern": {
              "fillmode": "overlay",
              "size": 10,
              "solidity": 0.2
             }
            },
            "type": "bar"
           }
          ],
          "barpolar": [
           {
            "marker": {
             "line": {
              "color": "#E5ECF6",
              "width": 0.5
             },
             "pattern": {
              "fillmode": "overlay",
              "size": 10,
              "solidity": 0.2
             }
            },
            "type": "barpolar"
           }
          ],
          "carpet": [
           {
            "aaxis": {
             "endlinecolor": "#2a3f5f",
             "gridcolor": "white",
             "linecolor": "white",
             "minorgridcolor": "white",
             "startlinecolor": "#2a3f5f"
            },
            "baxis": {
             "endlinecolor": "#2a3f5f",
             "gridcolor": "white",
             "linecolor": "white",
             "minorgridcolor": "white",
             "startlinecolor": "#2a3f5f"
            },
            "type": "carpet"
           }
          ],
          "choropleth": [
           {
            "colorbar": {
             "outlinewidth": 0,
             "ticks": ""
            },
            "type": "choropleth"
           }
          ],
          "contour": [
           {
            "colorbar": {
             "outlinewidth": 0,
             "ticks": ""
            },
            "colorscale": [
             [
              0,
              "#0d0887"
             ],
             [
              0.1111111111111111,
              "#46039f"
             ],
             [
              0.2222222222222222,
              "#7201a8"
             ],
             [
              0.3333333333333333,
              "#9c179e"
             ],
             [
              0.4444444444444444,
              "#bd3786"
             ],
             [
              0.5555555555555556,
              "#d8576b"
             ],
             [
              0.6666666666666666,
              "#ed7953"
             ],
             [
              0.7777777777777778,
              "#fb9f3a"
             ],
             [
              0.8888888888888888,
              "#fdca26"
             ],
             [
              1,
              "#f0f921"
             ]
            ],
            "type": "contour"
           }
          ],
          "contourcarpet": [
           {
            "colorbar": {
             "outlinewidth": 0,
             "ticks": ""
            },
            "type": "contourcarpet"
           }
          ],
          "heatmap": [
           {
            "colorbar": {
             "outlinewidth": 0,
             "ticks": ""
            },
            "colorscale": [
             [
              0,
              "#0d0887"
             ],
             [
              0.1111111111111111,
              "#46039f"
             ],
             [
              0.2222222222222222,
              "#7201a8"
             ],
             [
              0.3333333333333333,
              "#9c179e"
             ],
             [
              0.4444444444444444,
              "#bd3786"
             ],
             [
              0.5555555555555556,
              "#d8576b"
             ],
             [
              0.6666666666666666,
              "#ed7953"
             ],
             [
              0.7777777777777778,
              "#fb9f3a"
             ],
             [
              0.8888888888888888,
              "#fdca26"
             ],
             [
              1,
              "#f0f921"
             ]
            ],
            "type": "heatmap"
           }
          ],
          "heatmapgl": [
           {
            "colorbar": {
             "outlinewidth": 0,
             "ticks": ""
            },
            "colorscale": [
             [
              0,
              "#0d0887"
             ],
             [
              0.1111111111111111,
              "#46039f"
             ],
             [
              0.2222222222222222,
              "#7201a8"
             ],
             [
              0.3333333333333333,
              "#9c179e"
             ],
             [
              0.4444444444444444,
              "#bd3786"
             ],
             [
              0.5555555555555556,
              "#d8576b"
             ],
             [
              0.6666666666666666,
              "#ed7953"
             ],
             [
              0.7777777777777778,
              "#fb9f3a"
             ],
             [
              0.8888888888888888,
              "#fdca26"
             ],
             [
              1,
              "#f0f921"
             ]
            ],
            "type": "heatmapgl"
           }
          ],
          "histogram": [
           {
            "marker": {
             "pattern": {
              "fillmode": "overlay",
              "size": 10,
              "solidity": 0.2
             }
            },
            "type": "histogram"
           }
          ],
          "histogram2d": [
           {
            "colorbar": {
             "outlinewidth": 0,
             "ticks": ""
            },
            "colorscale": [
             [
              0,
              "#0d0887"
             ],
             [
              0.1111111111111111,
              "#46039f"
             ],
             [
              0.2222222222222222,
              "#7201a8"
             ],
             [
              0.3333333333333333,
              "#9c179e"
             ],
             [
              0.4444444444444444,
              "#bd3786"
             ],
             [
              0.5555555555555556,
              "#d8576b"
             ],
             [
              0.6666666666666666,
              "#ed7953"
             ],
             [
              0.7777777777777778,
              "#fb9f3a"
             ],
             [
              0.8888888888888888,
              "#fdca26"
             ],
             [
              1,
              "#f0f921"
             ]
            ],
            "type": "histogram2d"
           }
          ],
          "histogram2dcontour": [
           {
            "colorbar": {
             "outlinewidth": 0,
             "ticks": ""
            },
            "colorscale": [
             [
              0,
              "#0d0887"
             ],
             [
              0.1111111111111111,
              "#46039f"
             ],
             [
              0.2222222222222222,
              "#7201a8"
             ],
             [
              0.3333333333333333,
              "#9c179e"
             ],
             [
              0.4444444444444444,
              "#bd3786"
             ],
             [
              0.5555555555555556,
              "#d8576b"
             ],
             [
              0.6666666666666666,
              "#ed7953"
             ],
             [
              0.7777777777777778,
              "#fb9f3a"
             ],
             [
              0.8888888888888888,
              "#fdca26"
             ],
             [
              1,
              "#f0f921"
             ]
            ],
            "type": "histogram2dcontour"
           }
          ],
          "mesh3d": [
           {
            "colorbar": {
             "outlinewidth": 0,
             "ticks": ""
            },
            "type": "mesh3d"
           }
          ],
          "parcoords": [
           {
            "line": {
             "colorbar": {
              "outlinewidth": 0,
              "ticks": ""
             }
            },
            "type": "parcoords"
           }
          ],
          "pie": [
           {
            "automargin": true,
            "type": "pie"
           }
          ],
          "scatter": [
           {
            "fillpattern": {
             "fillmode": "overlay",
             "size": 10,
             "solidity": 0.2
            },
            "type": "scatter"
           }
          ],
          "scatter3d": [
           {
            "line": {
             "colorbar": {
              "outlinewidth": 0,
              "ticks": ""
             }
            },
            "marker": {
             "colorbar": {
              "outlinewidth": 0,
              "ticks": ""
             }
            },
            "type": "scatter3d"
           }
          ],
          "scattercarpet": [
           {
            "marker": {
             "colorbar": {
              "outlinewidth": 0,
              "ticks": ""
             }
            },
            "type": "scattercarpet"
           }
          ],
          "scattergeo": [
           {
            "marker": {
             "colorbar": {
              "outlinewidth": 0,
              "ticks": ""
             }
            },
            "type": "scattergeo"
           }
          ],
          "scattergl": [
           {
            "marker": {
             "colorbar": {
              "outlinewidth": 0,
              "ticks": ""
             }
            },
            "type": "scattergl"
           }
          ],
          "scattermapbox": [
           {
            "marker": {
             "colorbar": {
              "outlinewidth": 0,
              "ticks": ""
             }
            },
            "type": "scattermapbox"
           }
          ],
          "scatterpolar": [
           {
            "marker": {
             "colorbar": {
              "outlinewidth": 0,
              "ticks": ""
             }
            },
            "type": "scatterpolar"
           }
          ],
          "scatterpolargl": [
           {
            "marker": {
             "colorbar": {
              "outlinewidth": 0,
              "ticks": ""
             }
            },
            "type": "scatterpolargl"
           }
          ],
          "scatterternary": [
           {
            "marker": {
             "colorbar": {
              "outlinewidth": 0,
              "ticks": ""
             }
            },
            "type": "scatterternary"
           }
          ],
          "surface": [
           {
            "colorbar": {
             "outlinewidth": 0,
             "ticks": ""
            },
            "colorscale": [
             [
              0,
              "#0d0887"
             ],
             [
              0.1111111111111111,
              "#46039f"
             ],
             [
              0.2222222222222222,
              "#7201a8"
             ],
             [
              0.3333333333333333,
              "#9c179e"
             ],
             [
              0.4444444444444444,
              "#bd3786"
             ],
             [
              0.5555555555555556,
              "#d8576b"
             ],
             [
              0.6666666666666666,
              "#ed7953"
             ],
             [
              0.7777777777777778,
              "#fb9f3a"
             ],
             [
              0.8888888888888888,
              "#fdca26"
             ],
             [
              1,
              "#f0f921"
             ]
            ],
            "type": "surface"
           }
          ],
          "table": [
           {
            "cells": {
             "fill": {
              "color": "#EBF0F8"
             },
             "line": {
              "color": "white"
             }
            },
            "header": {
             "fill": {
              "color": "#C8D4E3"
             },
             "line": {
              "color": "white"
             }
            },
            "type": "table"
           }
          ]
         },
         "layout": {
          "annotationdefaults": {
           "arrowcolor": "#2a3f5f",
           "arrowhead": 0,
           "arrowwidth": 1
          },
          "autotypenumbers": "strict",
          "coloraxis": {
           "colorbar": {
            "outlinewidth": 0,
            "ticks": ""
           }
          },
          "colorscale": {
           "diverging": [
            [
             0,
             "#8e0152"
            ],
            [
             0.1,
             "#c51b7d"
            ],
            [
             0.2,
             "#de77ae"
            ],
            [
             0.3,
             "#f1b6da"
            ],
            [
             0.4,
             "#fde0ef"
            ],
            [
             0.5,
             "#f7f7f7"
            ],
            [
             0.6,
             "#e6f5d0"
            ],
            [
             0.7,
             "#b8e186"
            ],
            [
             0.8,
             "#7fbc41"
            ],
            [
             0.9,
             "#4d9221"
            ],
            [
             1,
             "#276419"
            ]
           ],
           "sequential": [
            [
             0,
             "#0d0887"
            ],
            [
             0.1111111111111111,
             "#46039f"
            ],
            [
             0.2222222222222222,
             "#7201a8"
            ],
            [
             0.3333333333333333,
             "#9c179e"
            ],
            [
             0.4444444444444444,
             "#bd3786"
            ],
            [
             0.5555555555555556,
             "#d8576b"
            ],
            [
             0.6666666666666666,
             "#ed7953"
            ],
            [
             0.7777777777777778,
             "#fb9f3a"
            ],
            [
             0.8888888888888888,
             "#fdca26"
            ],
            [
             1,
             "#f0f921"
            ]
           ],
           "sequentialminus": [
            [
             0,
             "#0d0887"
            ],
            [
             0.1111111111111111,
             "#46039f"
            ],
            [
             0.2222222222222222,
             "#7201a8"
            ],
            [
             0.3333333333333333,
             "#9c179e"
            ],
            [
             0.4444444444444444,
             "#bd3786"
            ],
            [
             0.5555555555555556,
             "#d8576b"
            ],
            [
             0.6666666666666666,
             "#ed7953"
            ],
            [
             0.7777777777777778,
             "#fb9f3a"
            ],
            [
             0.8888888888888888,
             "#fdca26"
            ],
            [
             1,
             "#f0f921"
            ]
           ]
          },
          "colorway": [
           "#636efa",
           "#EF553B",
           "#00cc96",
           "#ab63fa",
           "#FFA15A",
           "#19d3f3",
           "#FF6692",
           "#B6E880",
           "#FF97FF",
           "#FECB52"
          ],
          "font": {
           "color": "#2a3f5f"
          },
          "geo": {
           "bgcolor": "white",
           "lakecolor": "white",
           "landcolor": "#E5ECF6",
           "showlakes": true,
           "showland": true,
           "subunitcolor": "white"
          },
          "hoverlabel": {
           "align": "left"
          },
          "hovermode": "closest",
          "mapbox": {
           "style": "light"
          },
          "paper_bgcolor": "white",
          "plot_bgcolor": "#E5ECF6",
          "polar": {
           "angularaxis": {
            "gridcolor": "white",
            "linecolor": "white",
            "ticks": ""
           },
           "bgcolor": "#E5ECF6",
           "radialaxis": {
            "gridcolor": "white",
            "linecolor": "white",
            "ticks": ""
           }
          },
          "scene": {
           "xaxis": {
            "backgroundcolor": "#E5ECF6",
            "gridcolor": "white",
            "gridwidth": 2,
            "linecolor": "white",
            "showbackground": true,
            "ticks": "",
            "zerolinecolor": "white"
           },
           "yaxis": {
            "backgroundcolor": "#E5ECF6",
            "gridcolor": "white",
            "gridwidth": 2,
            "linecolor": "white",
            "showbackground": true,
            "ticks": "",
            "zerolinecolor": "white"
           },
           "zaxis": {
            "backgroundcolor": "#E5ECF6",
            "gridcolor": "white",
            "gridwidth": 2,
            "linecolor": "white",
            "showbackground": true,
            "ticks": "",
            "zerolinecolor": "white"
           }
          },
          "shapedefaults": {
           "line": {
            "color": "#2a3f5f"
           }
          },
          "ternary": {
           "aaxis": {
            "gridcolor": "white",
            "linecolor": "white",
            "ticks": ""
           },
           "baxis": {
            "gridcolor": "white",
            "linecolor": "white",
            "ticks": ""
           },
           "bgcolor": "#E5ECF6",
           "caxis": {
            "gridcolor": "white",
            "linecolor": "white",
            "ticks": ""
           }
          },
          "title": {
           "x": 0.05
          },
          "xaxis": {
           "automargin": true,
           "gridcolor": "white",
           "linecolor": "white",
           "ticks": "",
           "title": {
            "standoff": 15
           },
           "zerolinecolor": "white",
           "zerolinewidth": 2
          },
          "yaxis": {
           "automargin": true,
           "gridcolor": "white",
           "linecolor": "white",
           "ticks": "",
           "title": {
            "standoff": 15
           },
           "zerolinecolor": "white",
           "zerolinewidth": 2
          }
         }
        },
        "title": {
         "text": "Loss"
        },
        "xaxis": {
         "title": {
          "text": "Epoch"
         },
         "type": "log"
        },
        "yaxis": {
         "title": {
          "text": "Loss"
         }
        }
       }
      }
     },
     "metadata": {},
     "output_type": "display_data"
    },
    {
     "data": {
      "application/vnd.plotly.v1+json": {
       "config": {
        "plotlyServerURL": "https://plot.ly"
       },
       "data": [
        {
         "type": "scatter",
         "x": [
          1,
          2,
          3,
          4,
          5,
          6,
          7,
          8,
          9,
          10,
          11,
          12,
          13,
          14,
          15,
          16,
          17,
          18,
          19,
          20,
          21,
          22,
          23,
          24,
          25,
          26,
          27,
          28,
          29,
          30,
          31,
          32,
          33,
          34,
          35,
          36,
          37,
          38,
          39,
          40,
          41,
          42,
          43,
          44,
          45,
          46,
          47,
          48,
          49,
          50
         ],
         "y": [
          0.22782367108833115,
          0.38382298590445535,
          0.48323780824362184,
          0.5343644082293035,
          0.569376862797819,
          0.6000018420154848,
          0.606237857826273,
          0.6150969657247813,
          0.6191212727429802,
          0.6418601778565993,
          0.6472190164839398,
          0.6413816665151484,
          0.6440490933740031,
          0.650218039072395,
          0.642795978332169,
          0.6527019479722898,
          0.649312513432377,
          0.638759761848515,
          0.6556545756696722,
          0.6494757983018259,
          0.6529615678675373,
          0.660813544782374,
          0.6519355460376031,
          0.6555803427771497,
          0.6710091705216629,
          0.6619069472270017,
          0.6692674013341297,
          0.662096035348346,
          0.6673579381612862,
          0.6547602647166736,
          0.6643569978503137,
          0.6722922430563958,
          0.6616762031709363,
          0.6659832955421348,
          0.6681368066248086,
          0.669795816741259,
          0.6540994763633632,
          0.6621089493355563,
          0.6550693893510773,
          0.6656689575735911,
          0.6652960053398715,
          0.6745419823004767,
          0.6611958752016867,
          0.6601398088268263,
          0.6588265144875399,
          0.6594022677913929,
          0.6702194350132581,
          0.6646736945240328,
          0.6641774316310365,
          0.6669102065280174
         ]
        }
       ],
       "layout": {
        "template": {
         "data": {
          "bar": [
           {
            "error_x": {
             "color": "#2a3f5f"
            },
            "error_y": {
             "color": "#2a3f5f"
            },
            "marker": {
             "line": {
              "color": "#E5ECF6",
              "width": 0.5
             },
             "pattern": {
              "fillmode": "overlay",
              "size": 10,
              "solidity": 0.2
             }
            },
            "type": "bar"
           }
          ],
          "barpolar": [
           {
            "marker": {
             "line": {
              "color": "#E5ECF6",
              "width": 0.5
             },
             "pattern": {
              "fillmode": "overlay",
              "size": 10,
              "solidity": 0.2
             }
            },
            "type": "barpolar"
           }
          ],
          "carpet": [
           {
            "aaxis": {
             "endlinecolor": "#2a3f5f",
             "gridcolor": "white",
             "linecolor": "white",
             "minorgridcolor": "white",
             "startlinecolor": "#2a3f5f"
            },
            "baxis": {
             "endlinecolor": "#2a3f5f",
             "gridcolor": "white",
             "linecolor": "white",
             "minorgridcolor": "white",
             "startlinecolor": "#2a3f5f"
            },
            "type": "carpet"
           }
          ],
          "choropleth": [
           {
            "colorbar": {
             "outlinewidth": 0,
             "ticks": ""
            },
            "type": "choropleth"
           }
          ],
          "contour": [
           {
            "colorbar": {
             "outlinewidth": 0,
             "ticks": ""
            },
            "colorscale": [
             [
              0,
              "#0d0887"
             ],
             [
              0.1111111111111111,
              "#46039f"
             ],
             [
              0.2222222222222222,
              "#7201a8"
             ],
             [
              0.3333333333333333,
              "#9c179e"
             ],
             [
              0.4444444444444444,
              "#bd3786"
             ],
             [
              0.5555555555555556,
              "#d8576b"
             ],
             [
              0.6666666666666666,
              "#ed7953"
             ],
             [
              0.7777777777777778,
              "#fb9f3a"
             ],
             [
              0.8888888888888888,
              "#fdca26"
             ],
             [
              1,
              "#f0f921"
             ]
            ],
            "type": "contour"
           }
          ],
          "contourcarpet": [
           {
            "colorbar": {
             "outlinewidth": 0,
             "ticks": ""
            },
            "type": "contourcarpet"
           }
          ],
          "heatmap": [
           {
            "colorbar": {
             "outlinewidth": 0,
             "ticks": ""
            },
            "colorscale": [
             [
              0,
              "#0d0887"
             ],
             [
              0.1111111111111111,
              "#46039f"
             ],
             [
              0.2222222222222222,
              "#7201a8"
             ],
             [
              0.3333333333333333,
              "#9c179e"
             ],
             [
              0.4444444444444444,
              "#bd3786"
             ],
             [
              0.5555555555555556,
              "#d8576b"
             ],
             [
              0.6666666666666666,
              "#ed7953"
             ],
             [
              0.7777777777777778,
              "#fb9f3a"
             ],
             [
              0.8888888888888888,
              "#fdca26"
             ],
             [
              1,
              "#f0f921"
             ]
            ],
            "type": "heatmap"
           }
          ],
          "heatmapgl": [
           {
            "colorbar": {
             "outlinewidth": 0,
             "ticks": ""
            },
            "colorscale": [
             [
              0,
              "#0d0887"
             ],
             [
              0.1111111111111111,
              "#46039f"
             ],
             [
              0.2222222222222222,
              "#7201a8"
             ],
             [
              0.3333333333333333,
              "#9c179e"
             ],
             [
              0.4444444444444444,
              "#bd3786"
             ],
             [
              0.5555555555555556,
              "#d8576b"
             ],
             [
              0.6666666666666666,
              "#ed7953"
             ],
             [
              0.7777777777777778,
              "#fb9f3a"
             ],
             [
              0.8888888888888888,
              "#fdca26"
             ],
             [
              1,
              "#f0f921"
             ]
            ],
            "type": "heatmapgl"
           }
          ],
          "histogram": [
           {
            "marker": {
             "pattern": {
              "fillmode": "overlay",
              "size": 10,
              "solidity": 0.2
             }
            },
            "type": "histogram"
           }
          ],
          "histogram2d": [
           {
            "colorbar": {
             "outlinewidth": 0,
             "ticks": ""
            },
            "colorscale": [
             [
              0,
              "#0d0887"
             ],
             [
              0.1111111111111111,
              "#46039f"
             ],
             [
              0.2222222222222222,
              "#7201a8"
             ],
             [
              0.3333333333333333,
              "#9c179e"
             ],
             [
              0.4444444444444444,
              "#bd3786"
             ],
             [
              0.5555555555555556,
              "#d8576b"
             ],
             [
              0.6666666666666666,
              "#ed7953"
             ],
             [
              0.7777777777777778,
              "#fb9f3a"
             ],
             [
              0.8888888888888888,
              "#fdca26"
             ],
             [
              1,
              "#f0f921"
             ]
            ],
            "type": "histogram2d"
           }
          ],
          "histogram2dcontour": [
           {
            "colorbar": {
             "outlinewidth": 0,
             "ticks": ""
            },
            "colorscale": [
             [
              0,
              "#0d0887"
             ],
             [
              0.1111111111111111,
              "#46039f"
             ],
             [
              0.2222222222222222,
              "#7201a8"
             ],
             [
              0.3333333333333333,
              "#9c179e"
             ],
             [
              0.4444444444444444,
              "#bd3786"
             ],
             [
              0.5555555555555556,
              "#d8576b"
             ],
             [
              0.6666666666666666,
              "#ed7953"
             ],
             [
              0.7777777777777778,
              "#fb9f3a"
             ],
             [
              0.8888888888888888,
              "#fdca26"
             ],
             [
              1,
              "#f0f921"
             ]
            ],
            "type": "histogram2dcontour"
           }
          ],
          "mesh3d": [
           {
            "colorbar": {
             "outlinewidth": 0,
             "ticks": ""
            },
            "type": "mesh3d"
           }
          ],
          "parcoords": [
           {
            "line": {
             "colorbar": {
              "outlinewidth": 0,
              "ticks": ""
             }
            },
            "type": "parcoords"
           }
          ],
          "pie": [
           {
            "automargin": true,
            "type": "pie"
           }
          ],
          "scatter": [
           {
            "fillpattern": {
             "fillmode": "overlay",
             "size": 10,
             "solidity": 0.2
            },
            "type": "scatter"
           }
          ],
          "scatter3d": [
           {
            "line": {
             "colorbar": {
              "outlinewidth": 0,
              "ticks": ""
             }
            },
            "marker": {
             "colorbar": {
              "outlinewidth": 0,
              "ticks": ""
             }
            },
            "type": "scatter3d"
           }
          ],
          "scattercarpet": [
           {
            "marker": {
             "colorbar": {
              "outlinewidth": 0,
              "ticks": ""
             }
            },
            "type": "scattercarpet"
           }
          ],
          "scattergeo": [
           {
            "marker": {
             "colorbar": {
              "outlinewidth": 0,
              "ticks": ""
             }
            },
            "type": "scattergeo"
           }
          ],
          "scattergl": [
           {
            "marker": {
             "colorbar": {
              "outlinewidth": 0,
              "ticks": ""
             }
            },
            "type": "scattergl"
           }
          ],
          "scattermapbox": [
           {
            "marker": {
             "colorbar": {
              "outlinewidth": 0,
              "ticks": ""
             }
            },
            "type": "scattermapbox"
           }
          ],
          "scatterpolar": [
           {
            "marker": {
             "colorbar": {
              "outlinewidth": 0,
              "ticks": ""
             }
            },
            "type": "scatterpolar"
           }
          ],
          "scatterpolargl": [
           {
            "marker": {
             "colorbar": {
              "outlinewidth": 0,
              "ticks": ""
             }
            },
            "type": "scatterpolargl"
           }
          ],
          "scatterternary": [
           {
            "marker": {
             "colorbar": {
              "outlinewidth": 0,
              "ticks": ""
             }
            },
            "type": "scatterternary"
           }
          ],
          "surface": [
           {
            "colorbar": {
             "outlinewidth": 0,
             "ticks": ""
            },
            "colorscale": [
             [
              0,
              "#0d0887"
             ],
             [
              0.1111111111111111,
              "#46039f"
             ],
             [
              0.2222222222222222,
              "#7201a8"
             ],
             [
              0.3333333333333333,
              "#9c179e"
             ],
             [
              0.4444444444444444,
              "#bd3786"
             ],
             [
              0.5555555555555556,
              "#d8576b"
             ],
             [
              0.6666666666666666,
              "#ed7953"
             ],
             [
              0.7777777777777778,
              "#fb9f3a"
             ],
             [
              0.8888888888888888,
              "#fdca26"
             ],
             [
              1,
              "#f0f921"
             ]
            ],
            "type": "surface"
           }
          ],
          "table": [
           {
            "cells": {
             "fill": {
              "color": "#EBF0F8"
             },
             "line": {
              "color": "white"
             }
            },
            "header": {
             "fill": {
              "color": "#C8D4E3"
             },
             "line": {
              "color": "white"
             }
            },
            "type": "table"
           }
          ]
         },
         "layout": {
          "annotationdefaults": {
           "arrowcolor": "#2a3f5f",
           "arrowhead": 0,
           "arrowwidth": 1
          },
          "autotypenumbers": "strict",
          "coloraxis": {
           "colorbar": {
            "outlinewidth": 0,
            "ticks": ""
           }
          },
          "colorscale": {
           "diverging": [
            [
             0,
             "#8e0152"
            ],
            [
             0.1,
             "#c51b7d"
            ],
            [
             0.2,
             "#de77ae"
            ],
            [
             0.3,
             "#f1b6da"
            ],
            [
             0.4,
             "#fde0ef"
            ],
            [
             0.5,
             "#f7f7f7"
            ],
            [
             0.6,
             "#e6f5d0"
            ],
            [
             0.7,
             "#b8e186"
            ],
            [
             0.8,
             "#7fbc41"
            ],
            [
             0.9,
             "#4d9221"
            ],
            [
             1,
             "#276419"
            ]
           ],
           "sequential": [
            [
             0,
             "#0d0887"
            ],
            [
             0.1111111111111111,
             "#46039f"
            ],
            [
             0.2222222222222222,
             "#7201a8"
            ],
            [
             0.3333333333333333,
             "#9c179e"
            ],
            [
             0.4444444444444444,
             "#bd3786"
            ],
            [
             0.5555555555555556,
             "#d8576b"
            ],
            [
             0.6666666666666666,
             "#ed7953"
            ],
            [
             0.7777777777777778,
             "#fb9f3a"
            ],
            [
             0.8888888888888888,
             "#fdca26"
            ],
            [
             1,
             "#f0f921"
            ]
           ],
           "sequentialminus": [
            [
             0,
             "#0d0887"
            ],
            [
             0.1111111111111111,
             "#46039f"
            ],
            [
             0.2222222222222222,
             "#7201a8"
            ],
            [
             0.3333333333333333,
             "#9c179e"
            ],
            [
             0.4444444444444444,
             "#bd3786"
            ],
            [
             0.5555555555555556,
             "#d8576b"
            ],
            [
             0.6666666666666666,
             "#ed7953"
            ],
            [
             0.7777777777777778,
             "#fb9f3a"
            ],
            [
             0.8888888888888888,
             "#fdca26"
            ],
            [
             1,
             "#f0f921"
            ]
           ]
          },
          "colorway": [
           "#636efa",
           "#EF553B",
           "#00cc96",
           "#ab63fa",
           "#FFA15A",
           "#19d3f3",
           "#FF6692",
           "#B6E880",
           "#FF97FF",
           "#FECB52"
          ],
          "font": {
           "color": "#2a3f5f"
          },
          "geo": {
           "bgcolor": "white",
           "lakecolor": "white",
           "landcolor": "#E5ECF6",
           "showlakes": true,
           "showland": true,
           "subunitcolor": "white"
          },
          "hoverlabel": {
           "align": "left"
          },
          "hovermode": "closest",
          "mapbox": {
           "style": "light"
          },
          "paper_bgcolor": "white",
          "plot_bgcolor": "#E5ECF6",
          "polar": {
           "angularaxis": {
            "gridcolor": "white",
            "linecolor": "white",
            "ticks": ""
           },
           "bgcolor": "#E5ECF6",
           "radialaxis": {
            "gridcolor": "white",
            "linecolor": "white",
            "ticks": ""
           }
          },
          "scene": {
           "xaxis": {
            "backgroundcolor": "#E5ECF6",
            "gridcolor": "white",
            "gridwidth": 2,
            "linecolor": "white",
            "showbackground": true,
            "ticks": "",
            "zerolinecolor": "white"
           },
           "yaxis": {
            "backgroundcolor": "#E5ECF6",
            "gridcolor": "white",
            "gridwidth": 2,
            "linecolor": "white",
            "showbackground": true,
            "ticks": "",
            "zerolinecolor": "white"
           },
           "zaxis": {
            "backgroundcolor": "#E5ECF6",
            "gridcolor": "white",
            "gridwidth": 2,
            "linecolor": "white",
            "showbackground": true,
            "ticks": "",
            "zerolinecolor": "white"
           }
          },
          "shapedefaults": {
           "line": {
            "color": "#2a3f5f"
           }
          },
          "ternary": {
           "aaxis": {
            "gridcolor": "white",
            "linecolor": "white",
            "ticks": ""
           },
           "baxis": {
            "gridcolor": "white",
            "linecolor": "white",
            "ticks": ""
           },
           "bgcolor": "#E5ECF6",
           "caxis": {
            "gridcolor": "white",
            "linecolor": "white",
            "ticks": ""
           }
          },
          "title": {
           "x": 0.05
          },
          "xaxis": {
           "automargin": true,
           "gridcolor": "white",
           "linecolor": "white",
           "ticks": "",
           "title": {
            "standoff": 15
           },
           "zerolinecolor": "white",
           "zerolinewidth": 2
          },
          "yaxis": {
           "automargin": true,
           "gridcolor": "white",
           "linecolor": "white",
           "ticks": "",
           "title": {
            "standoff": 15
           },
           "zerolinecolor": "white",
           "zerolinewidth": 2
          }
         }
        },
        "title": {
         "text": "NDCG@10"
        },
        "xaxis": {
         "title": {
          "text": "Epoch"
         }
        },
        "yaxis": {
         "title": {
          "text": "NDCG@10"
         }
        }
       }
      }
     },
     "metadata": {},
     "output_type": "display_data"
    },
    {
     "data": {
      "application/vnd.plotly.v1+json": {
       "config": {
        "plotlyServerURL": "https://plot.ly"
       },
       "data": [
        {
         "type": "scatter",
         "x": [
          1,
          2,
          3,
          4,
          5,
          6,
          7,
          8,
          9,
          10,
          11,
          12,
          13,
          14,
          15,
          16,
          17,
          18,
          19,
          20,
          21,
          22,
          23,
          24,
          25,
          26,
          27,
          28,
          29,
          30,
          31,
          32,
          33,
          34,
          35,
          36,
          37,
          38,
          39,
          40,
          41,
          42,
          43,
          44,
          45,
          46,
          47,
          48,
          49,
          50
         ],
         "y": [
          0.3322784810126582,
          0.5031645569620253,
          0.5822784810126582,
          0.6455696202531646,
          0.6962025316455697,
          0.7120253164556962,
          0.7215189873417721,
          0.7341772151898734,
          0.7183544303797469,
          0.7278481012658228,
          0.7373417721518988,
          0.7436708860759493,
          0.7436708860759493,
          0.7436708860759493,
          0.740506329113924,
          0.7468354430379747,
          0.7310126582278481,
          0.7215189873417721,
          0.7310126582278481,
          0.7341772151898734,
          0.7341772151898734,
          0.7436708860759493,
          0.7468354430379747,
          0.740506329113924,
          0.7468354430379747,
          0.75,
          0.7468354430379747,
          0.7468354430379747,
          0.7341772151898734,
          0.7373417721518988,
          0.759493670886076,
          0.75,
          0.740506329113924,
          0.740506329113924,
          0.7436708860759493,
          0.7436708860759493,
          0.7468354430379747,
          0.7436708860759493,
          0.7341772151898734,
          0.7436708860759493,
          0.7436708860759493,
          0.7468354430379747,
          0.7373417721518988,
          0.7373417721518988,
          0.7531645569620253,
          0.7468354430379747,
          0.75,
          0.7310126582278481,
          0.7373417721518988,
          0.7531645569620253
         ]
        }
       ],
       "layout": {
        "template": {
         "data": {
          "bar": [
           {
            "error_x": {
             "color": "#2a3f5f"
            },
            "error_y": {
             "color": "#2a3f5f"
            },
            "marker": {
             "line": {
              "color": "#E5ECF6",
              "width": 0.5
             },
             "pattern": {
              "fillmode": "overlay",
              "size": 10,
              "solidity": 0.2
             }
            },
            "type": "bar"
           }
          ],
          "barpolar": [
           {
            "marker": {
             "line": {
              "color": "#E5ECF6",
              "width": 0.5
             },
             "pattern": {
              "fillmode": "overlay",
              "size": 10,
              "solidity": 0.2
             }
            },
            "type": "barpolar"
           }
          ],
          "carpet": [
           {
            "aaxis": {
             "endlinecolor": "#2a3f5f",
             "gridcolor": "white",
             "linecolor": "white",
             "minorgridcolor": "white",
             "startlinecolor": "#2a3f5f"
            },
            "baxis": {
             "endlinecolor": "#2a3f5f",
             "gridcolor": "white",
             "linecolor": "white",
             "minorgridcolor": "white",
             "startlinecolor": "#2a3f5f"
            },
            "type": "carpet"
           }
          ],
          "choropleth": [
           {
            "colorbar": {
             "outlinewidth": 0,
             "ticks": ""
            },
            "type": "choropleth"
           }
          ],
          "contour": [
           {
            "colorbar": {
             "outlinewidth": 0,
             "ticks": ""
            },
            "colorscale": [
             [
              0,
              "#0d0887"
             ],
             [
              0.1111111111111111,
              "#46039f"
             ],
             [
              0.2222222222222222,
              "#7201a8"
             ],
             [
              0.3333333333333333,
              "#9c179e"
             ],
             [
              0.4444444444444444,
              "#bd3786"
             ],
             [
              0.5555555555555556,
              "#d8576b"
             ],
             [
              0.6666666666666666,
              "#ed7953"
             ],
             [
              0.7777777777777778,
              "#fb9f3a"
             ],
             [
              0.8888888888888888,
              "#fdca26"
             ],
             [
              1,
              "#f0f921"
             ]
            ],
            "type": "contour"
           }
          ],
          "contourcarpet": [
           {
            "colorbar": {
             "outlinewidth": 0,
             "ticks": ""
            },
            "type": "contourcarpet"
           }
          ],
          "heatmap": [
           {
            "colorbar": {
             "outlinewidth": 0,
             "ticks": ""
            },
            "colorscale": [
             [
              0,
              "#0d0887"
             ],
             [
              0.1111111111111111,
              "#46039f"
             ],
             [
              0.2222222222222222,
              "#7201a8"
             ],
             [
              0.3333333333333333,
              "#9c179e"
             ],
             [
              0.4444444444444444,
              "#bd3786"
             ],
             [
              0.5555555555555556,
              "#d8576b"
             ],
             [
              0.6666666666666666,
              "#ed7953"
             ],
             [
              0.7777777777777778,
              "#fb9f3a"
             ],
             [
              0.8888888888888888,
              "#fdca26"
             ],
             [
              1,
              "#f0f921"
             ]
            ],
            "type": "heatmap"
           }
          ],
          "heatmapgl": [
           {
            "colorbar": {
             "outlinewidth": 0,
             "ticks": ""
            },
            "colorscale": [
             [
              0,
              "#0d0887"
             ],
             [
              0.1111111111111111,
              "#46039f"
             ],
             [
              0.2222222222222222,
              "#7201a8"
             ],
             [
              0.3333333333333333,
              "#9c179e"
             ],
             [
              0.4444444444444444,
              "#bd3786"
             ],
             [
              0.5555555555555556,
              "#d8576b"
             ],
             [
              0.6666666666666666,
              "#ed7953"
             ],
             [
              0.7777777777777778,
              "#fb9f3a"
             ],
             [
              0.8888888888888888,
              "#fdca26"
             ],
             [
              1,
              "#f0f921"
             ]
            ],
            "type": "heatmapgl"
           }
          ],
          "histogram": [
           {
            "marker": {
             "pattern": {
              "fillmode": "overlay",
              "size": 10,
              "solidity": 0.2
             }
            },
            "type": "histogram"
           }
          ],
          "histogram2d": [
           {
            "colorbar": {
             "outlinewidth": 0,
             "ticks": ""
            },
            "colorscale": [
             [
              0,
              "#0d0887"
             ],
             [
              0.1111111111111111,
              "#46039f"
             ],
             [
              0.2222222222222222,
              "#7201a8"
             ],
             [
              0.3333333333333333,
              "#9c179e"
             ],
             [
              0.4444444444444444,
              "#bd3786"
             ],
             [
              0.5555555555555556,
              "#d8576b"
             ],
             [
              0.6666666666666666,
              "#ed7953"
             ],
             [
              0.7777777777777778,
              "#fb9f3a"
             ],
             [
              0.8888888888888888,
              "#fdca26"
             ],
             [
              1,
              "#f0f921"
             ]
            ],
            "type": "histogram2d"
           }
          ],
          "histogram2dcontour": [
           {
            "colorbar": {
             "outlinewidth": 0,
             "ticks": ""
            },
            "colorscale": [
             [
              0,
              "#0d0887"
             ],
             [
              0.1111111111111111,
              "#46039f"
             ],
             [
              0.2222222222222222,
              "#7201a8"
             ],
             [
              0.3333333333333333,
              "#9c179e"
             ],
             [
              0.4444444444444444,
              "#bd3786"
             ],
             [
              0.5555555555555556,
              "#d8576b"
             ],
             [
              0.6666666666666666,
              "#ed7953"
             ],
             [
              0.7777777777777778,
              "#fb9f3a"
             ],
             [
              0.8888888888888888,
              "#fdca26"
             ],
             [
              1,
              "#f0f921"
             ]
            ],
            "type": "histogram2dcontour"
           }
          ],
          "mesh3d": [
           {
            "colorbar": {
             "outlinewidth": 0,
             "ticks": ""
            },
            "type": "mesh3d"
           }
          ],
          "parcoords": [
           {
            "line": {
             "colorbar": {
              "outlinewidth": 0,
              "ticks": ""
             }
            },
            "type": "parcoords"
           }
          ],
          "pie": [
           {
            "automargin": true,
            "type": "pie"
           }
          ],
          "scatter": [
           {
            "fillpattern": {
             "fillmode": "overlay",
             "size": 10,
             "solidity": 0.2
            },
            "type": "scatter"
           }
          ],
          "scatter3d": [
           {
            "line": {
             "colorbar": {
              "outlinewidth": 0,
              "ticks": ""
             }
            },
            "marker": {
             "colorbar": {
              "outlinewidth": 0,
              "ticks": ""
             }
            },
            "type": "scatter3d"
           }
          ],
          "scattercarpet": [
           {
            "marker": {
             "colorbar": {
              "outlinewidth": 0,
              "ticks": ""
             }
            },
            "type": "scattercarpet"
           }
          ],
          "scattergeo": [
           {
            "marker": {
             "colorbar": {
              "outlinewidth": 0,
              "ticks": ""
             }
            },
            "type": "scattergeo"
           }
          ],
          "scattergl": [
           {
            "marker": {
             "colorbar": {
              "outlinewidth": 0,
              "ticks": ""
             }
            },
            "type": "scattergl"
           }
          ],
          "scattermapbox": [
           {
            "marker": {
             "colorbar": {
              "outlinewidth": 0,
              "ticks": ""
             }
            },
            "type": "scattermapbox"
           }
          ],
          "scatterpolar": [
           {
            "marker": {
             "colorbar": {
              "outlinewidth": 0,
              "ticks": ""
             }
            },
            "type": "scatterpolar"
           }
          ],
          "scatterpolargl": [
           {
            "marker": {
             "colorbar": {
              "outlinewidth": 0,
              "ticks": ""
             }
            },
            "type": "scatterpolargl"
           }
          ],
          "scatterternary": [
           {
            "marker": {
             "colorbar": {
              "outlinewidth": 0,
              "ticks": ""
             }
            },
            "type": "scatterternary"
           }
          ],
          "surface": [
           {
            "colorbar": {
             "outlinewidth": 0,
             "ticks": ""
            },
            "colorscale": [
             [
              0,
              "#0d0887"
             ],
             [
              0.1111111111111111,
              "#46039f"
             ],
             [
              0.2222222222222222,
              "#7201a8"
             ],
             [
              0.3333333333333333,
              "#9c179e"
             ],
             [
              0.4444444444444444,
              "#bd3786"
             ],
             [
              0.5555555555555556,
              "#d8576b"
             ],
             [
              0.6666666666666666,
              "#ed7953"
             ],
             [
              0.7777777777777778,
              "#fb9f3a"
             ],
             [
              0.8888888888888888,
              "#fdca26"
             ],
             [
              1,
              "#f0f921"
             ]
            ],
            "type": "surface"
           }
          ],
          "table": [
           {
            "cells": {
             "fill": {
              "color": "#EBF0F8"
             },
             "line": {
              "color": "white"
             }
            },
            "header": {
             "fill": {
              "color": "#C8D4E3"
             },
             "line": {
              "color": "white"
             }
            },
            "type": "table"
           }
          ]
         },
         "layout": {
          "annotationdefaults": {
           "arrowcolor": "#2a3f5f",
           "arrowhead": 0,
           "arrowwidth": 1
          },
          "autotypenumbers": "strict",
          "coloraxis": {
           "colorbar": {
            "outlinewidth": 0,
            "ticks": ""
           }
          },
          "colorscale": {
           "diverging": [
            [
             0,
             "#8e0152"
            ],
            [
             0.1,
             "#c51b7d"
            ],
            [
             0.2,
             "#de77ae"
            ],
            [
             0.3,
             "#f1b6da"
            ],
            [
             0.4,
             "#fde0ef"
            ],
            [
             0.5,
             "#f7f7f7"
            ],
            [
             0.6,
             "#e6f5d0"
            ],
            [
             0.7,
             "#b8e186"
            ],
            [
             0.8,
             "#7fbc41"
            ],
            [
             0.9,
             "#4d9221"
            ],
            [
             1,
             "#276419"
            ]
           ],
           "sequential": [
            [
             0,
             "#0d0887"
            ],
            [
             0.1111111111111111,
             "#46039f"
            ],
            [
             0.2222222222222222,
             "#7201a8"
            ],
            [
             0.3333333333333333,
             "#9c179e"
            ],
            [
             0.4444444444444444,
             "#bd3786"
            ],
            [
             0.5555555555555556,
             "#d8576b"
            ],
            [
             0.6666666666666666,
             "#ed7953"
            ],
            [
             0.7777777777777778,
             "#fb9f3a"
            ],
            [
             0.8888888888888888,
             "#fdca26"
            ],
            [
             1,
             "#f0f921"
            ]
           ],
           "sequentialminus": [
            [
             0,
             "#0d0887"
            ],
            [
             0.1111111111111111,
             "#46039f"
            ],
            [
             0.2222222222222222,
             "#7201a8"
            ],
            [
             0.3333333333333333,
             "#9c179e"
            ],
            [
             0.4444444444444444,
             "#bd3786"
            ],
            [
             0.5555555555555556,
             "#d8576b"
            ],
            [
             0.6666666666666666,
             "#ed7953"
            ],
            [
             0.7777777777777778,
             "#fb9f3a"
            ],
            [
             0.8888888888888888,
             "#fdca26"
            ],
            [
             1,
             "#f0f921"
            ]
           ]
          },
          "colorway": [
           "#636efa",
           "#EF553B",
           "#00cc96",
           "#ab63fa",
           "#FFA15A",
           "#19d3f3",
           "#FF6692",
           "#B6E880",
           "#FF97FF",
           "#FECB52"
          ],
          "font": {
           "color": "#2a3f5f"
          },
          "geo": {
           "bgcolor": "white",
           "lakecolor": "white",
           "landcolor": "#E5ECF6",
           "showlakes": true,
           "showland": true,
           "subunitcolor": "white"
          },
          "hoverlabel": {
           "align": "left"
          },
          "hovermode": "closest",
          "mapbox": {
           "style": "light"
          },
          "paper_bgcolor": "white",
          "plot_bgcolor": "#E5ECF6",
          "polar": {
           "angularaxis": {
            "gridcolor": "white",
            "linecolor": "white",
            "ticks": ""
           },
           "bgcolor": "#E5ECF6",
           "radialaxis": {
            "gridcolor": "white",
            "linecolor": "white",
            "ticks": ""
           }
          },
          "scene": {
           "xaxis": {
            "backgroundcolor": "#E5ECF6",
            "gridcolor": "white",
            "gridwidth": 2,
            "linecolor": "white",
            "showbackground": true,
            "ticks": "",
            "zerolinecolor": "white"
           },
           "yaxis": {
            "backgroundcolor": "#E5ECF6",
            "gridcolor": "white",
            "gridwidth": 2,
            "linecolor": "white",
            "showbackground": true,
            "ticks": "",
            "zerolinecolor": "white"
           },
           "zaxis": {
            "backgroundcolor": "#E5ECF6",
            "gridcolor": "white",
            "gridwidth": 2,
            "linecolor": "white",
            "showbackground": true,
            "ticks": "",
            "zerolinecolor": "white"
           }
          },
          "shapedefaults": {
           "line": {
            "color": "#2a3f5f"
           }
          },
          "ternary": {
           "aaxis": {
            "gridcolor": "white",
            "linecolor": "white",
            "ticks": ""
           },
           "baxis": {
            "gridcolor": "white",
            "linecolor": "white",
            "ticks": ""
           },
           "bgcolor": "#E5ECF6",
           "caxis": {
            "gridcolor": "white",
            "linecolor": "white",
            "ticks": ""
           }
          },
          "title": {
           "x": 0.05
          },
          "xaxis": {
           "automargin": true,
           "gridcolor": "white",
           "linecolor": "white",
           "ticks": "",
           "title": {
            "standoff": 15
           },
           "zerolinecolor": "white",
           "zerolinewidth": 2
          },
          "yaxis": {
           "automargin": true,
           "gridcolor": "white",
           "linecolor": "white",
           "ticks": "",
           "title": {
            "standoff": 15
           },
           "zerolinecolor": "white",
           "zerolinewidth": 2
          }
         }
        },
        "title": {
         "text": "HIT@10"
        },
        "xaxis": {
         "title": {
          "text": "Epoch"
         }
        },
        "yaxis": {
         "title": {
          "text": "Epoch@10"
         }
        }
       }
      }
     },
     "metadata": {},
     "output_type": "display_data"
    }
   ],
   "source": [
    "fig = go.Figure(layout = go.Layout(title=\"Loss\"))\n",
    "fig.add_scatter(x=np.arange(len(losses)) + 1, y=losses)\n",
    "fig.update_xaxes(title_text='Epoch', type='log')\n",
    "fig.update_yaxes(title_text='Loss')\n",
    "display(fig)\n",
    "\n",
    "fig = go.Figure(layout = go.Layout(title=\"NDCG@\" + str(EVAL_K)))\n",
    "fig.add_scatter(x=np.arange(len(ndcgs)) + 1, y=ndcgs)\n",
    "fig.update_xaxes(title_text='Epoch')\n",
    "fig.update_yaxes(title_text='NDCG@' + str(EVAL_K))\n",
    "display(fig)\n",
    "\n",
    "fig = go.Figure(layout = go.Layout(title=\"HIT@\" + str(EVAL_K)))\n",
    "fig.add_scatter(x=np.arange(len(hits)) + 1, y=hits)\n",
    "fig.update_xaxes(title_text='Epoch')\n",
    "fig.update_yaxes(title_text='Epoch@' + str(EVAL_K))\n",
    "display(fig)"
   ]
  },
  {
   "cell_type": "code",
   "execution_count": 16,
   "metadata": {},
   "outputs": [
    {
     "data": {
      "application/vnd.jupyter.widget-view+json": {
       "model_id": "fcbb0832a5ff4346b056b9c52aecb6ac",
       "version_major": 2,
       "version_minor": 0
      },
      "text/plain": [
       "Evaluating Validation:   0%|          | 0/79 [00:00<?, ?it/s]"
      ]
     },
     "metadata": {},
     "output_type": "display_data"
    },
    {
     "name": "stdout",
     "output_type": "stream",
     "text": [
      "Test NDCG@10: 0.6733\n",
      "Test HIT@10: 0.7437\n",
      "Time taken: 0.5431 seconds\n"
     ]
    }
   ],
   "source": [
    "# Load the best model during training\n",
    "test_model = FPMC(num_users=max_uid + 1, num_items=max_iid + 1, k_UI=K_UI, k_IL=K_IL)\n",
    "test_model.to(PYTORCH_DEVICE)\n",
    "test_model.load_state_dict(best_ncdg_model_state)\n",
    "\n",
    "\n",
    "with warnings.catch_warnings():\n",
    "    warnings.simplefilter(\"ignore\")\n",
    "    start_time = time.time()\n",
    "    ndcg, hit = evaluate_model(test_model, test_dataloader, device=PYTORCH_DEVICE)\n",
    "    end_time = time.time()\n",
    "\n",
    "print(f\"Test NDCG@{EVAL_K}: {ndcg:.4f}\")\n",
    "print(f\"Test HIT@{EVAL_K}: {hit:.4f}\")\n",
    "print(f\"Time taken: {end_time - start_time:.4f} seconds\")"
   ]
  }
 ],
 "metadata": {
  "kernelspec": {
   "display_name": "recsys-tp",
   "language": "python",
   "name": "python3"
  },
  "language_info": {
   "codemirror_mode": {
    "name": "ipython",
    "version": 3
   },
   "file_extension": ".py",
   "mimetype": "text/x-python",
   "name": "python",
   "nbconvert_exporter": "python",
   "pygments_lexer": "ipython3",
   "version": "3.12.7"
  }
 },
 "nbformat": 4,
 "nbformat_minor": 2
}
